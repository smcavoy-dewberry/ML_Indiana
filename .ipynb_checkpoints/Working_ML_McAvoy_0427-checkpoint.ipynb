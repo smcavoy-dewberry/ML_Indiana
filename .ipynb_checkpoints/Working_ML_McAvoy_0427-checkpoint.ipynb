{
 "cells": [
  {
   "cell_type": "code",
   "execution_count": 7,
   "metadata": {},
   "outputs": [],
   "source": [
    "#########################################################################\n",
    "#Data Collection \n",
    "#\n",
    "# Functions for handling subwatershed characteristics data collection\n",
    "#\n",
    "# Authors: Shannon McAvoy (smcavoy@dewberry.com)\n",
    "#\n",
    "# Editor: Pat Guillen (dpiazza@dewberry.com)\n",
    "#\n",
    "# Copyright: Dewberry Engineers Inc.\n",
    "#########################################################################"
   ]
  },
  {
   "cell_type": "code",
   "execution_count": 1,
   "metadata": {},
   "outputs": [],
   "source": [
    "import pandas as pd\n",
    "import arcpy\n",
    "import numpy as np\n",
    "from numpy import mean\n",
    "from numpy import std\n",
    "import os\n",
    "from arcpy import management\n",
    "from arcgis.gis import GIS\n",
    "from time import time"
   ]
  },
  {
   "cell_type": "code",
   "execution_count": null,
   "metadata": {},
   "outputs": [],
   "source": [
    "# Login for ArcPro, AGOL or API Server \n",
    "#gis = GIS(\"https://www.arcgis.com\", username=\"dpiazza_dewberry\", password=\"*****\")"
   ]
  },
  {
   "cell_type": "code",
   "execution_count": null,
   "metadata": {},
   "outputs": [],
   "source": [
    "'''\n",
    "#Test\n",
    "from arcgis.gis import GIS\n",
    "my_gis = GIS()\n",
    "m = my_gis.map()\n",
    "m\n",
    "'''"
   ]
  },
  {
   "cell_type": "code",
   "execution_count": 1,
   "metadata": {},
   "outputs": [
    {
     "ename": "NameError",
     "evalue": "name 'arcpy' is not defined",
     "output_type": "error",
     "traceback": [
      "\u001b[1;31m---------------------------------------------------------------------------\u001b[0m",
      "\u001b[1;31mNameError\u001b[0m                                 Traceback (most recent call last)",
      "\u001b[1;32m<ipython-input-1-95120b37a919>\u001b[0m in \u001b[0;36m<module>\u001b[1;34m\u001b[0m\n\u001b[1;32m----> 1\u001b[1;33m \u001b[0marcpy\u001b[0m\u001b[1;33m.\u001b[0m\u001b[0menv\u001b[0m\u001b[1;33m.\u001b[0m\u001b[0moverwriteOutput\u001b[0m \u001b[1;33m=\u001b[0m \u001b[1;32mTrue\u001b[0m\u001b[1;33m\u001b[0m\u001b[1;33m\u001b[0m\u001b[0m\n\u001b[0m\u001b[0;32m      2\u001b[0m \u001b[1;31m#test\u001b[0m\u001b[1;33m\u001b[0m\u001b[1;33m\u001b[0m\u001b[1;33m\u001b[0m\u001b[0m\n",
      "\u001b[1;31mNameError\u001b[0m: name 'arcpy' is not defined"
     ]
    }
   ],
   "source": [
    "arcpy.env.overwriteOutput = True\n",
    "#test"
   ]
  },
  {
   "cell_type": "code",
   "execution_count": 3,
   "metadata": {},
   "outputs": [
    {
     "name": "stdout",
     "output_type": "stream",
     "text": [
      "0.0 minutes to process.\n"
     ]
    }
   ],
   "source": [
    "st = time()\n",
    "# Set Local Variables\n",
    "output_workspace = r'P:\\Temp\\McAvoy\\ML_DataCollection\\Marion_County_Data\\working'\n",
    "\n",
    "arcpy.env.workspace = output_workspace\n",
    "\n",
    "##### change these based on what subwatersheds you want #####\n",
    "\n",
    "#set source for shapefile with all 11 subwatersheds in the county\n",
    "all_subwatersheds = r\"P:\\Temp\\McAvoy\\ML_DataCollection\\Marion_County_Data\\HUC12_selection\\HUC12_selection.shp\"\n",
    "\n",
    "#set source for streams data\n",
    "streams = r\"P:\\Temp\\McAvoy\\ML_DataCollection\\Marion_County_Data\\stream data\\MarionCounty_Streams_Edited.shp\"\n",
    "\n",
    "\n",
    "#####these are the same for all subwatersheds in Indiana#####\n",
    "\n",
    "\n",
    "#set source for dem\n",
    "dem_Indiana = r\"P:\\Temp\\McAvoy\\ML_DataCollection\\Marion_County_Data\\Indiana_3dep\\Indiana_dem2\"\n",
    "\n",
    "#set source for slope dem\n",
    "dem_slope = r\"P:\\Temp\\McAvoy\\ML_DataCollection\\Marion_County_Data\\Indiana_SlopeRaster\\IN_slope2\"\n",
    "\n",
    "\n",
    "#set source for NHFL Data\n",
    "nfhl_sfha = r\"P:\\Temp\\McAvoy\\ML_DataCollection\\MeridianHills\\MeridianHills_DataCollection\\NFHL_18_20200310.gdb\\S_FLD_HAZ_AR\"\n",
    "\n",
    "#set source for water bodies data \n",
    "water_bodies = r\"P:\\Temp\\McAvoy\\ML_DataCollection\\Marion_County_Data\\IndianaMAP_WaterBodies\\Water_Bodies_Lakes_LocalRes\\Hydrography_LocalRes_WaterbodyDiscrete_NHD_IN.shp\"\n",
    "\n",
    "#set source for dams data \n",
    "dams = r\"P:\\Temp\\McAvoy\\ML_DataCollection\\Marion_County_Data\\IndianaMAP_Dams\\Dams_IDNR\\Dams_IDNR_IN.shp\"\n",
    "\n",
    "#set source for bridges data\n",
    "bridges = r\"P:\\Temp\\McAvoy\\ML_DataCollection\\Marion_County_Data\\IndianaMAP_Bridges\\Bridges_County_INDOT\\Bridges_County_INDOT_IN.shp\"\n",
    "\n",
    "#set source for streets data\n",
    "streets = r\"P:\\Temp\\McAvoy\\ML_DataCollection\\Marion_County_Data\\IndianaMAP_Streets\\Streets_Centerlines_IGIO\\County_Street_Centerlines_IGIO_IN.gdb\\County_Street_Centerlines_IGIO_IN_Dec2019\"\n",
    "\n",
    "#set source for railraods data\n",
    "railroads = r\"P:\\Temp\\McAvoy\\ML_DataCollection\\Marion_County_Data\\IndianaMAP_Railroads\\Railroads_Active_Abandoned_INDOT\\Rail_System_Active_Abandoned_INDOT_IN.shp\"\n",
    "\n",
    "#set source for ACS population data\n",
    "population = r\"P:\\Temp\\McAvoy\\ML_DataCollection\\Marion_County_Data\\Indiana_PopulationData\\Indiana_PopulationData.shp\"\n",
    "\n",
    "#set source for ACS median income data \n",
    "median_income = r\"P:\\Temp\\McAvoy\\ML_DataCollection\\Marion_County_Data\\Indiana_IncomeData\\Indiana_IncomeData.shp\"\n",
    "\n",
    "#set source for county boundary data\n",
    "county_boundary = r\"P:\\Temp\\McAvoy\\ML_DataCollection\\Marion_County_Data\\MarionCounty_Boundary\\Marion_County_Boundary.shp\"\n",
    "  \n",
    "#source for Bing building footprints for Indiana (attrubuted with open street maps data)\n",
    "building_footprints = r\"P:\\Temp\\McAvoy\\ML_DataCollection\\Marion_County_Data\\BuildingFootprints_Indiana\\Building_Footprints_Attributed_IN.shp\"\n",
    "\n",
    "#folder with partial duration files, set as workspace temporarily, then reset when done\n",
    "directory_rainfall = r\"P:\\Temp\\McAvoy\\ML_DataCollection\\Marion_County_Data\\MarionCounty_Rainfall\\All_Rainfall\"\n",
    "\n",
    "#set source for nlcd land use data\n",
    "lu_usa = r\"P:\\Temp\\McAvoy\\ML_DataCollection\\Marion_County_Data\\NLCD_Impervious\\NLCD_indiana_polygon.shp\"\n",
    "\n",
    "#set source for impervious indicator data\n",
    "impervious_usa = r\"P:\\Temp\\McAvoy\\ML_DataCollection\\Marion_County_Data\\NLCD_Impervious\\NLCD_2016_Impervious_L48_20190405_PERCENT\\NLCD_2016_Impervious_L48_20190405.img\"\n",
    "\n",
    "\n",
    "\n",
    "subwatershed_list = []\n",
    "area_list = []\n",
    "perimeter_list = []\n",
    "watershed_length_list = []\n",
    "elongation_ratio_list = []\n",
    "shape_factor_list = []\n",
    "circulatory_ratio_list = []\n",
    "relief_list = []\n",
    "relief_ratio_list = []\n",
    "avg_slope_list = []\n",
    "drainage_density_list = []\n",
    "ruggedness_list = []\n",
    "aae_list = []\n",
    "buildings_aae_list = []\n",
    "x_list = []\n",
    "buildings_x_list = []\n",
    "water_bodies_list = []\n",
    "dams_list = []\n",
    "bridges_list = []\n",
    "streets_list = []\n",
    "railroads_list = []\n",
    "population_list = []\n",
    "dependent_population_list = []\n",
    "population_density_list = []\n",
    "avg_median_income_list = []\n",
    "housing_density_list = []\n",
    "population_change_list = []\n",
    "dist_to_stream_avg_list = []\n",
    "dist_to_stream_stdev_list = []\n",
    "\n",
    "lu_21_list = []\n",
    "lu_22_list = []\n",
    "lu_23_list = []\n",
    "lu_24_list = []\n",
    "lu_41_list = []\n",
    "lu_82_list = []\n",
    "impervious_percent_list = []\n",
    "\n",
    "orb100yr06h_list = []\n",
    "orb100yr12h_list = []\n",
    "orb100yr24h_list = []\n",
    "orb25yr06h_list = []\n",
    "orb25yr12h_list = []\n",
    "orb25yr24h_list = []\n",
    "orb2yr06h_list = []\n",
    "orb2yr12h_list = []\n",
    "orb2yr24h_list = []\n",
    "orb50yr06h_list = []\n",
    "orb50yr12h_list = []\n",
    "orb50yr24h_list = []\n",
    "orb100yr06ha_am_list = []\n",
    "orb100yr12ha_am_list = []\n",
    "orb100yr24ha_am_list = []\n",
    "orb25yr06ha_am_list = []\n",
    "orb25yr12ha_am_list = []\n",
    "orb25yr24ha_am_list = []\n",
    "orb2yr06ha_am_list = []\n",
    "orb2yr12ha_am_list = []\n",
    "orb2yr24ha_am_list = []\n",
    "orb50yr06ha_am_list = []\n",
    "orb50yr12ha_am_list = []\n",
    "orb50yr24ha_am_list = []\n",
    "\n",
    "\n",
    "#########################################################################################################\n",
    "print(round(((time()-st)/60), 2) , 'minutes to process.')"
   ]
  },
  {
   "cell_type": "code",
   "execution_count": 4,
   "metadata": {},
   "outputs": [],
   "source": [
    "# GLOBAL VARIABLES\n",
    "LOG_NAME = 'DataCollection_export.log'"
   ]
  },
  {
   "cell_type": "code",
   "execution_count": null,
   "metadata": {},
   "outputs": [],
   "source": []
  },
  {
   "cell_type": "code",
   "execution_count": 5,
   "metadata": {},
   "outputs": [
    {
     "name": "stdout",
     "output_type": "stream",
     "text": [
      "051202011005  is the subwatershed to be worked on\n",
      "clipped dem to subwatershed area\n"
     ]
    },
    {
     "ename": "AttributeError",
     "evalue": "'ToolValidator' object has no attribute 'isLicensed'",
     "output_type": "error",
     "traceback": [
      "\u001b[1;31m---------------------------------------------------------------------------\u001b[0m",
      "\u001b[1;31mAttributeError\u001b[0m                            Traceback (most recent call last)",
      "\u001b[1;32mc:\\program files\\arcgis\\pro\\Resources\\ArcToolbox\\toolboxes\\Data Management Tools.tbx#CalculateGeometryAttributes_management.InitializeParameters.py\u001b[0m in \u001b[0;36m<module>\u001b[1;34m\u001b[0m\n",
      "\u001b[1;31mAttributeError\u001b[0m: 'ToolValidator' object has no attribute 'isLicensed'"
     ]
    },
    {
     "ename": "AttributeError",
     "evalue": "'ToolValidator' object has no attribute 'isLicensed'",
     "output_type": "error",
     "traceback": [
      "\u001b[1;31m---------------------------------------------------------------------------\u001b[0m",
      "\u001b[1;31mAttributeError\u001b[0m                            Traceback (most recent call last)",
      "\u001b[1;32mc:\\program files\\arcgis\\pro\\Resources\\ArcToolbox\\toolboxes\\Data Management Tools.tbx#CalculateGeometryAttributes_management.InitializeParameters.py\u001b[0m in \u001b[0;36m<module>\u001b[1;34m\u001b[0m\n",
      "\u001b[1;31mAttributeError\u001b[0m: 'ToolValidator' object has no attribute 'isLicensed'"
     ]
    },
    {
     "name": "stdout",
     "output_type": "stream",
     "text": [
      "51.5004296629  square kilometers\n"
     ]
    },
    {
     "ename": "AttributeError",
     "evalue": "'ToolValidator' object has no attribute 'isLicensed'",
     "output_type": "error",
     "traceback": [
      "\u001b[1;31m---------------------------------------------------------------------------\u001b[0m",
      "\u001b[1;31mAttributeError\u001b[0m                            Traceback (most recent call last)",
      "\u001b[1;32mc:\\program files\\arcgis\\pro\\Resources\\ArcToolbox\\toolboxes\\Data Management Tools.tbx#CalculateGeometryAttributes_management.InitializeParameters.py\u001b[0m in \u001b[0;36m<module>\u001b[1;34m\u001b[0m\n",
      "\u001b[1;31mAttributeError\u001b[0m: 'ToolValidator' object has no attribute 'isLicensed'"
     ]
    },
    {
     "ename": "AttributeError",
     "evalue": "'ToolValidator' object has no attribute 'isLicensed'",
     "output_type": "error",
     "traceback": [
      "\u001b[1;31m---------------------------------------------------------------------------\u001b[0m",
      "\u001b[1;31mAttributeError\u001b[0m                            Traceback (most recent call last)",
      "\u001b[1;32mc:\\program files\\arcgis\\pro\\Resources\\ArcToolbox\\toolboxes\\Data Management Tools.tbx#CalculateGeometryAttributes_management.InitializeParameters.py\u001b[0m in \u001b[0;36m<module>\u001b[1;34m\u001b[0m\n",
      "\u001b[1;31mAttributeError\u001b[0m: 'ToolValidator' object has no attribute 'isLicensed'"
     ]
    },
    {
     "name": "stdout",
     "output_type": "stream",
     "text": [
      "perimeter calculated\n",
      "49.6908272333  kilometers\n",
      "2.8982155323029  = avg slope (%)\n",
      "7.9085407805050645 is the radius of a circle with the same perimeter.\n",
      "196.49096679579236 is the area of a circle with the same perimeter.\n",
      "0.26210074947833595  is the circulatory ratio\n",
      "created 3d polyline of subwatershed perimeter\n",
      "created perimeter points\n",
      "added z information\n",
      "   FID  FREQUENCY       MAX_Z       MIN_Z\n",
      "0    0       7961  279.598358  212.798676\n",
      "279.598358154\n",
      "212.798675538\n",
      "The relief of the subwatershed is:  66.79968261599998  meters.\n"
     ]
    },
    {
     "ename": "AttributeError",
     "evalue": "'ToolValidator' object has no attribute 'isLicensed'",
     "output_type": "error",
     "traceback": [
      "\u001b[1;31m---------------------------------------------------------------------------\u001b[0m",
      "\u001b[1;31mAttributeError\u001b[0m                            Traceback (most recent call last)",
      "\u001b[1;32mc:\\program files\\arcgis\\pro\\Resources\\ArcToolbox\\toolboxes\\Data Management Tools.tbx#CalculateGeometryAttributes_management.InitializeParameters.py\u001b[0m in \u001b[0;36m<module>\u001b[1;34m\u001b[0m\n",
      "\u001b[1;31mAttributeError\u001b[0m: 'ToolValidator' object has no attribute 'isLicensed'"
     ]
    },
    {
     "ename": "AttributeError",
     "evalue": "'ToolValidator' object has no attribute 'isLicensed'",
     "output_type": "error",
     "traceback": [
      "\u001b[1;31m---------------------------------------------------------------------------\u001b[0m",
      "\u001b[1;31mAttributeError\u001b[0m                            Traceback (most recent call last)",
      "\u001b[1;32mc:\\program files\\arcgis\\pro\\Resources\\ArcToolbox\\toolboxes\\Data Management Tools.tbx#CalculateGeometryAttributes_management.InitializeParameters.py\u001b[0m in \u001b[0;36m<module>\u001b[1;34m\u001b[0m\n",
      "\u001b[1;31mAttributeError\u001b[0m: 'ToolValidator' object has no attribute 'isLicensed'"
     ]
    },
    {
     "name": "stdout",
     "output_type": "stream",
     "text": [
      "3.3612333306007818  = area of all AE and A zones in the subwatershed (square km)\n"
     ]
    },
    {
     "ename": "AttributeError",
     "evalue": "'ToolValidator' object has no attribute 'isLicensed'",
     "output_type": "error",
     "traceback": [
      "\u001b[1;31m---------------------------------------------------------------------------\u001b[0m",
      "\u001b[1;31mAttributeError\u001b[0m                            Traceback (most recent call last)",
      "\u001b[1;32mc:\\program files\\arcgis\\pro\\Resources\\ArcToolbox\\toolboxes\\Data Management Tools.tbx#CalculateGeometryAttributes_management.InitializeParameters.py\u001b[0m in \u001b[0;36m<module>\u001b[1;34m\u001b[0m\n",
      "\u001b[1;31mAttributeError\u001b[0m: 'ToolValidator' object has no attribute 'isLicensed'"
     ]
    },
    {
     "ename": "AttributeError",
     "evalue": "'ToolValidator' object has no attribute 'isLicensed'",
     "output_type": "error",
     "traceback": [
      "\u001b[1;31m---------------------------------------------------------------------------\u001b[0m",
      "\u001b[1;31mAttributeError\u001b[0m                            Traceback (most recent call last)",
      "\u001b[1;32mc:\\program files\\arcgis\\pro\\Resources\\ArcToolbox\\toolboxes\\Data Management Tools.tbx#CalculateGeometryAttributes_management.InitializeParameters.py\u001b[0m in \u001b[0;36m<module>\u001b[1;34m\u001b[0m\n",
      "\u001b[1;31mAttributeError\u001b[0m: 'ToolValidator' object has no attribute 'isLicensed'"
     ]
    },
    {
     "name": "stdout",
     "output_type": "stream",
     "text": [
      "0.8933749956967306  = area of all X zones, 0.2PCT zone subtype in the subwatershed (square km)\n"
     ]
    },
    {
     "ename": "AttributeError",
     "evalue": "'ToolValidator' object has no attribute 'isLicensed'",
     "output_type": "error",
     "traceback": [
      "\u001b[1;31m---------------------------------------------------------------------------\u001b[0m",
      "\u001b[1;31mAttributeError\u001b[0m                            Traceback (most recent call last)",
      "\u001b[1;32mc:\\program files\\arcgis\\pro\\Resources\\ArcToolbox\\toolboxes\\Data Management Tools.tbx#CalculateGeometryAttributes_management.InitializeParameters.py\u001b[0m in \u001b[0;36m<module>\u001b[1;34m\u001b[0m\n",
      "\u001b[1;31mAttributeError\u001b[0m: 'ToolValidator' object has no attribute 'isLicensed'"
     ]
    },
    {
     "ename": "AttributeError",
     "evalue": "'ToolValidator' object has no attribute 'isLicensed'",
     "output_type": "error",
     "traceback": [
      "\u001b[1;31m---------------------------------------------------------------------------\u001b[0m",
      "\u001b[1;31mAttributeError\u001b[0m                            Traceback (most recent call last)",
      "\u001b[1;32mc:\\program files\\arcgis\\pro\\Resources\\ArcToolbox\\toolboxes\\Data Management Tools.tbx#CalculateGeometryAttributes_management.InitializeParameters.py\u001b[0m in \u001b[0;36m<module>\u001b[1;34m\u001b[0m\n",
      "\u001b[1;31mAttributeError\u001b[0m: 'ToolValidator' object has no attribute 'isLicensed'"
     ]
    },
    {
     "name": "stdout",
     "output_type": "stream",
     "text": [
      "0.9540687205009415  = area of all water bodies in the subwatershed (square km)\n",
      "1  = number of dams in the subwatershed\n",
      "31  = number of bridges in the subwatershed\n"
     ]
    },
    {
     "ename": "AttributeError",
     "evalue": "'ToolValidator' object has no attribute 'isLicensed'",
     "output_type": "error",
     "traceback": [
      "\u001b[1;31m---------------------------------------------------------------------------\u001b[0m",
      "\u001b[1;31mAttributeError\u001b[0m                            Traceback (most recent call last)",
      "\u001b[1;32mc:\\program files\\arcgis\\pro\\Resources\\ArcToolbox\\toolboxes\\Data Management Tools.tbx#CalculateGeometryAttributes_management.InitializeParameters.py\u001b[0m in \u001b[0;36m<module>\u001b[1;34m\u001b[0m\n",
      "\u001b[1;31mAttributeError\u001b[0m: 'ToolValidator' object has no attribute 'isLicensed'"
     ]
    },
    {
     "ename": "AttributeError",
     "evalue": "'ToolValidator' object has no attribute 'isLicensed'",
     "output_type": "error",
     "traceback": [
      "\u001b[1;31m---------------------------------------------------------------------------\u001b[0m",
      "\u001b[1;31mAttributeError\u001b[0m                            Traceback (most recent call last)",
      "\u001b[1;32mc:\\program files\\arcgis\\pro\\Resources\\ArcToolbox\\toolboxes\\Data Management Tools.tbx#CalculateGeometryAttributes_management.InitializeParameters.py\u001b[0m in \u001b[0;36m<module>\u001b[1;34m\u001b[0m\n",
      "\u001b[1;31mAttributeError\u001b[0m: 'ToolValidator' object has no attribute 'isLicensed'"
     ]
    },
    {
     "name": "stdout",
     "output_type": "stream",
     "text": [
      "483.8662198490707  = sum of all streets in the subwatershed (km)\n"
     ]
    },
    {
     "ename": "AttributeError",
     "evalue": "'ToolValidator' object has no attribute 'isLicensed'",
     "output_type": "error",
     "traceback": [
      "\u001b[1;31m---------------------------------------------------------------------------\u001b[0m",
      "\u001b[1;31mAttributeError\u001b[0m                            Traceback (most recent call last)",
      "\u001b[1;32mc:\\program files\\arcgis\\pro\\Resources\\ArcToolbox\\toolboxes\\Data Management Tools.tbx#CalculateGeometryAttributes_management.InitializeParameters.py\u001b[0m in \u001b[0;36m<module>\u001b[1;34m\u001b[0m\n",
      "\u001b[1;31mAttributeError\u001b[0m: 'ToolValidator' object has no attribute 'isLicensed'"
     ]
    },
    {
     "ename": "AttributeError",
     "evalue": "'ToolValidator' object has no attribute 'isLicensed'",
     "output_type": "error",
     "traceback": [
      "\u001b[1;31m---------------------------------------------------------------------------\u001b[0m",
      "\u001b[1;31mAttributeError\u001b[0m                            Traceback (most recent call last)",
      "\u001b[1;32mc:\\program files\\arcgis\\pro\\Resources\\ArcToolbox\\toolboxes\\Data Management Tools.tbx#CalculateGeometryAttributes_management.InitializeParameters.py\u001b[0m in \u001b[0;36m<module>\u001b[1;34m\u001b[0m\n",
      "\u001b[1;31mAttributeError\u001b[0m: 'ToolValidator' object has no attribute 'isLicensed'"
     ]
    },
    {
     "name": "stdout",
     "output_type": "stream",
     "text": [
      "0  = sum of all railroads in the subwatershed (km)\n",
      "113264  = total population in the subwatershed\n",
      "39.791666666666664  = total percent of dependent population in the subwatershed\n",
      "2199.282622327196  = population density of subwatershed (people/square km)\n",
      "64928.916666666664  = average median income in the subwatershed\n",
      "11368  = number of residential building footprints in the subwatershed\n",
      "220.73602248389216  = housing density (buildings per square km)\n",
      "109932  = total 2013 population in the subwatershed\n",
      "3332  = population change between 2013 and 2018\n",
      "streams clipped\n"
     ]
    },
    {
     "ename": "AttributeError",
     "evalue": "'ToolValidator' object has no attribute 'isLicensed'",
     "output_type": "error",
     "traceback": [
      "\u001b[1;31m---------------------------------------------------------------------------\u001b[0m",
      "\u001b[1;31mAttributeError\u001b[0m                            Traceback (most recent call last)",
      "\u001b[1;32mc:\\program files\\arcgis\\pro\\Resources\\ArcToolbox\\toolboxes\\Data Management Tools.tbx#CalculateGeometryAttributes_management.InitializeParameters.py\u001b[0m in \u001b[0;36m<module>\u001b[1;34m\u001b[0m\n",
      "\u001b[1;31mAttributeError\u001b[0m: 'ToolValidator' object has no attribute 'isLicensed'"
     ]
    },
    {
     "ename": "AttributeError",
     "evalue": "'ToolValidator' object has no attribute 'isLicensed'",
     "output_type": "error",
     "traceback": [
      "\u001b[1;31m---------------------------------------------------------------------------\u001b[0m",
      "\u001b[1;31mAttributeError\u001b[0m                            Traceback (most recent call last)",
      "\u001b[1;32mc:\\program files\\arcgis\\pro\\Resources\\ArcToolbox\\toolboxes\\Data Management Tools.tbx#CalculateGeometryAttributes_management.InitializeParameters.py\u001b[0m in \u001b[0;36m<module>\u001b[1;34m\u001b[0m\n",
      "\u001b[1;31mAttributeError\u001b[0m: 'ToolValidator' object has no attribute 'isLicensed'"
     ]
    },
    {
     "name": "stdout",
     "output_type": "stream",
     "text": [
      "length calculated\n",
      "43.513047736178  = length of all streams in subwatershed\n",
      "51.5004296629  = subwatershed area\n",
      "0.8449064992466274 is the drainage density (streams/km)\n",
      "22.4014811682  = watershed length (longest stream in subwatershed)\n",
      "9.744119841600586  is the shape factor.\n",
      "0.0029819315122263166  = relief ratio\n",
      "0.06679968261599999  is the relief in km\n",
      "0.05643948598987034  is the ruggedness number\n",
      "4.048838834087375  miles is the radius of a circle with the same area.\n",
      "8.09767766817475  miles is the diameter of a circle with the same area.\n"
     ]
    },
    {
     "ename": "AttributeError",
     "evalue": "'ToolValidator' object has no attribute 'isLicensed'",
     "output_type": "error",
     "traceback": [
      "\u001b[1;31m---------------------------------------------------------------------------\u001b[0m",
      "\u001b[1;31mAttributeError\u001b[0m                            Traceback (most recent call last)",
      "\u001b[1;32mc:\\program files\\arcgis\\pro\\Resources\\ArcToolbox\\toolboxes\\Data Management Tools.tbx#AddGeometryAttributes_management.InitializeParameters.py\u001b[0m in \u001b[0;36m<module>\u001b[1;34m\u001b[0m\n",
      "\u001b[1;31mAttributeError\u001b[0m: 'ToolValidator' object has no attribute 'isLicensed'"
     ]
    },
    {
     "ename": "AttributeError",
     "evalue": "'ToolValidator' object has no attribute 'isLicensed'",
     "output_type": "error",
     "traceback": [
      "\u001b[1;31m---------------------------------------------------------------------------\u001b[0m",
      "\u001b[1;31mAttributeError\u001b[0m                            Traceback (most recent call last)",
      "\u001b[1;32mc:\\program files\\arcgis\\pro\\Resources\\ArcToolbox\\toolboxes\\Data Management Tools.tbx#AddGeometryAttributes_management.InitializeParameters.py\u001b[0m in \u001b[0;36m<module>\u001b[1;34m\u001b[0m\n",
      "\u001b[1;31mAttributeError\u001b[0m: 'ToolValidator' object has no attribute 'isLicensed'"
     ]
    },
    {
     "name": "stdout",
     "output_type": "stream",
     "text": [
      "27.496854782104  = avg impervious percent \n",
      "521.3103554351757\n",
      "406.99963881403505\n",
      "orb100yr06h\n",
      "4897.1708984375  = avg rainfall in inches *1000\n",
      "orb100yr06ha_am\n",
      "4877.1708984375  = avg rainfall in inches *1000\n",
      "orb100yr12h\n",
      "5484.1708984375  = avg rainfall in inches *1000\n",
      "orb100yr12ha_am\n",
      "5461.89453125  = avg rainfall in inches *1000\n",
      "orb100yr24h\n",
      "6017.7236328125  = avg rainfall in inches *1000\n",
      "orb100yr24ha_am\n",
      "5993.1577148438  = avg rainfall in inches *1000\n",
      "orb25yr06h\n",
      "3762.8552246094  = avg rainfall in inches *1000\n",
      "orb25yr06ha_am\n",
      "3746.9079589844  = avg rainfall in inches *1000\n",
      "orb25yr12h\n",
      "4299.6313476563  = avg rainfall in inches *1000\n",
      "orb25yr12ha_am\n",
      "4281.6313476563  = avg rainfall in inches *1000\n",
      "orb25yr24h\n",
      "4857.552734375  = avg rainfall in inches *1000\n",
      "orb25yr24ha_am\n",
      "4837.552734375  = avg rainfall in inches *1000\n",
      "orb2yr06h\n",
      "2108.5920410156  = avg rainfall in inches *1000\n",
      "orb2yr06ha_am\n",
      "1941.1710205078  = avg rainfall in inches *1000\n",
      "orb2yr12h\n",
      "2493.5263671875  = avg rainfall in inches *1000\n",
      "orb2yr12ha_am\n",
      "2295.5263671875  = avg rainfall in inches *1000\n",
      "orb2yr24h\n",
      "2934.6184082031  = avg rainfall in inches *1000\n",
      "orb2yr24ha_am\n",
      "2701.7236328125  = avg rainfall in inches *1000\n",
      "orb50yr06h\n",
      "4312.0131835938  = avg rainfall in inches *1000\n",
      "orb50yr06ha_am\n",
      "4294.0131835938  = avg rainfall in inches *1000\n",
      "orb50yr12h\n",
      "4878.10546875  = avg rainfall in inches *1000\n",
      "orb50yr12ha_am\n",
      "4858.10546875  = avg rainfall in inches *1000\n",
      "orb50yr24h\n",
      "5431.4208984375  = avg rainfall in inches *1000\n",
      "orb50yr24ha_am\n",
      "5409.4208984375  = avg rainfall in inches *1000\n",
      "051202011110  is the subwatershed to be worked on\n",
      "clipped dem to subwatershed area\n"
     ]
    },
    {
     "ename": "AttributeError",
     "evalue": "'ToolValidator' object has no attribute 'isLicensed'",
     "output_type": "error",
     "traceback": [
      "\u001b[1;31m---------------------------------------------------------------------------\u001b[0m",
      "\u001b[1;31mAttributeError\u001b[0m                            Traceback (most recent call last)",
      "\u001b[1;32mc:\\program files\\arcgis\\pro\\Resources\\ArcToolbox\\toolboxes\\Data Management Tools.tbx#CalculateGeometryAttributes_management.InitializeParameters.py\u001b[0m in \u001b[0;36m<module>\u001b[1;34m\u001b[0m\n",
      "\u001b[1;31mAttributeError\u001b[0m: 'ToolValidator' object has no attribute 'isLicensed'"
     ]
    },
    {
     "ename": "AttributeError",
     "evalue": "'ToolValidator' object has no attribute 'isLicensed'",
     "output_type": "error",
     "traceback": [
      "\u001b[1;31m---------------------------------------------------------------------------\u001b[0m",
      "\u001b[1;31mAttributeError\u001b[0m                            Traceback (most recent call last)",
      "\u001b[1;32mc:\\program files\\arcgis\\pro\\Resources\\ArcToolbox\\toolboxes\\Data Management Tools.tbx#CalculateGeometryAttributes_management.InitializeParameters.py\u001b[0m in \u001b[0;36m<module>\u001b[1;34m\u001b[0m\n",
      "\u001b[1;31mAttributeError\u001b[0m: 'ToolValidator' object has no attribute 'isLicensed'"
     ]
    },
    {
     "name": "stdout",
     "output_type": "stream",
     "text": [
      "54.5595986919  square kilometers\n"
     ]
    },
    {
     "ename": "AttributeError",
     "evalue": "'ToolValidator' object has no attribute 'isLicensed'",
     "output_type": "error",
     "traceback": [
      "\u001b[1;31m---------------------------------------------------------------------------\u001b[0m",
      "\u001b[1;31mAttributeError\u001b[0m                            Traceback (most recent call last)",
      "\u001b[1;32mc:\\program files\\arcgis\\pro\\Resources\\ArcToolbox\\toolboxes\\Data Management Tools.tbx#CalculateGeometryAttributes_management.InitializeParameters.py\u001b[0m in \u001b[0;36m<module>\u001b[1;34m\u001b[0m\n",
      "\u001b[1;31mAttributeError\u001b[0m: 'ToolValidator' object has no attribute 'isLicensed'"
     ]
    },
    {
     "ename": "AttributeError",
     "evalue": "'ToolValidator' object has no attribute 'isLicensed'",
     "output_type": "error",
     "traceback": [
      "\u001b[1;31m---------------------------------------------------------------------------\u001b[0m",
      "\u001b[1;31mAttributeError\u001b[0m                            Traceback (most recent call last)",
      "\u001b[1;32mc:\\program files\\arcgis\\pro\\Resources\\ArcToolbox\\toolboxes\\Data Management Tools.tbx#CalculateGeometryAttributes_management.InitializeParameters.py\u001b[0m in \u001b[0;36m<module>\u001b[1;34m\u001b[0m\n",
      "\u001b[1;31mAttributeError\u001b[0m: 'ToolValidator' object has no attribute 'isLicensed'"
     ]
    },
    {
     "name": "stdout",
     "output_type": "stream",
     "text": [
      "perimeter calculated\n",
      "58.2316382409  kilometers\n",
      "3.9962348937988  = avg slope (%)\n",
      "9.267853070378276 is the radius of a circle with the same perimeter.\n",
      "269.841133632041 is the area of a circle with the same perimeter.\n",
      "0.20219155603718372  is the circulatory ratio\n",
      "created 3d polyline of subwatershed perimeter\n",
      "created perimeter points\n",
      "added z information\n",
      "   FID  FREQUENCY       MAX_Z       MIN_Z\n",
      "0    0       9261  268.848907  198.346661\n",
      "268.848907468\n",
      "198.346661038\n",
      "The relief of the subwatershed is:  70.50224642999999  meters.\n"
     ]
    },
    {
     "ename": "AttributeError",
     "evalue": "'ToolValidator' object has no attribute 'isLicensed'",
     "output_type": "error",
     "traceback": [
      "\u001b[1;31m---------------------------------------------------------------------------\u001b[0m",
      "\u001b[1;31mAttributeError\u001b[0m                            Traceback (most recent call last)",
      "\u001b[1;32mc:\\program files\\arcgis\\pro\\Resources\\ArcToolbox\\toolboxes\\Data Management Tools.tbx#CalculateGeometryAttributes_management.InitializeParameters.py\u001b[0m in \u001b[0;36m<module>\u001b[1;34m\u001b[0m\n",
      "\u001b[1;31mAttributeError\u001b[0m: 'ToolValidator' object has no attribute 'isLicensed'"
     ]
    },
    {
     "ename": "AttributeError",
     "evalue": "'ToolValidator' object has no attribute 'isLicensed'",
     "output_type": "error",
     "traceback": [
      "\u001b[1;31m---------------------------------------------------------------------------\u001b[0m",
      "\u001b[1;31mAttributeError\u001b[0m                            Traceback (most recent call last)",
      "\u001b[1;32mc:\\program files\\arcgis\\pro\\Resources\\ArcToolbox\\toolboxes\\Data Management Tools.tbx#CalculateGeometryAttributes_management.InitializeParameters.py\u001b[0m in \u001b[0;36m<module>\u001b[1;34m\u001b[0m\n",
      "\u001b[1;31mAttributeError\u001b[0m: 'ToolValidator' object has no attribute 'isLicensed'"
     ]
    },
    {
     "name": "stdout",
     "output_type": "stream",
     "text": [
      "4.832209377874636  = area of all AE and A zones in the subwatershed (square km)\n"
     ]
    },
    {
     "ename": "AttributeError",
     "evalue": "'ToolValidator' object has no attribute 'isLicensed'",
     "output_type": "error",
     "traceback": [
      "\u001b[1;31m---------------------------------------------------------------------------\u001b[0m",
      "\u001b[1;31mAttributeError\u001b[0m                            Traceback (most recent call last)",
      "\u001b[1;32mc:\\program files\\arcgis\\pro\\Resources\\ArcToolbox\\toolboxes\\Data Management Tools.tbx#CalculateGeometryAttributes_management.InitializeParameters.py\u001b[0m in \u001b[0;36m<module>\u001b[1;34m\u001b[0m\n",
      "\u001b[1;31mAttributeError\u001b[0m: 'ToolValidator' object has no attribute 'isLicensed'"
     ]
    },
    {
     "ename": "AttributeError",
     "evalue": "'ToolValidator' object has no attribute 'isLicensed'",
     "output_type": "error",
     "traceback": [
      "\u001b[1;31m---------------------------------------------------------------------------\u001b[0m",
      "\u001b[1;31mAttributeError\u001b[0m                            Traceback (most recent call last)",
      "\u001b[1;32mc:\\program files\\arcgis\\pro\\Resources\\ArcToolbox\\toolboxes\\Data Management Tools.tbx#CalculateGeometryAttributes_management.InitializeParameters.py\u001b[0m in \u001b[0;36m<module>\u001b[1;34m\u001b[0m\n",
      "\u001b[1;31mAttributeError\u001b[0m: 'ToolValidator' object has no attribute 'isLicensed'"
     ]
    },
    {
     "name": "stdout",
     "output_type": "stream",
     "text": [
      "4.281362879785772  = area of all X zones, 0.2PCT zone subtype in the subwatershed (square km)\n"
     ]
    },
    {
     "ename": "AttributeError",
     "evalue": "'ToolValidator' object has no attribute 'isLicensed'",
     "output_type": "error",
     "traceback": [
      "\u001b[1;31m---------------------------------------------------------------------------\u001b[0m",
      "\u001b[1;31mAttributeError\u001b[0m                            Traceback (most recent call last)",
      "\u001b[1;32mc:\\program files\\arcgis\\pro\\Resources\\ArcToolbox\\toolboxes\\Data Management Tools.tbx#CalculateGeometryAttributes_management.InitializeParameters.py\u001b[0m in \u001b[0;36m<module>\u001b[1;34m\u001b[0m\n",
      "\u001b[1;31mAttributeError\u001b[0m: 'ToolValidator' object has no attribute 'isLicensed'"
     ]
    },
    {
     "ename": "AttributeError",
     "evalue": "'ToolValidator' object has no attribute 'isLicensed'",
     "output_type": "error",
     "traceback": [
      "\u001b[1;31m---------------------------------------------------------------------------\u001b[0m",
      "\u001b[1;31mAttributeError\u001b[0m                            Traceback (most recent call last)",
      "\u001b[1;32mc:\\program files\\arcgis\\pro\\Resources\\ArcToolbox\\toolboxes\\Data Management Tools.tbx#CalculateGeometryAttributes_management.InitializeParameters.py\u001b[0m in \u001b[0;36m<module>\u001b[1;34m\u001b[0m\n",
      "\u001b[1;31mAttributeError\u001b[0m: 'ToolValidator' object has no attribute 'isLicensed'"
     ]
    },
    {
     "name": "stdout",
     "output_type": "stream",
     "text": [
      "1.196822104492778  = area of all water bodies in the subwatershed (square km)\n",
      "2  = number of dams in the subwatershed\n",
      "21  = number of bridges in the subwatershed\n"
     ]
    },
    {
     "ename": "AttributeError",
     "evalue": "'ToolValidator' object has no attribute 'isLicensed'",
     "output_type": "error",
     "traceback": [
      "\u001b[1;31m---------------------------------------------------------------------------\u001b[0m",
      "\u001b[1;31mAttributeError\u001b[0m                            Traceback (most recent call last)",
      "\u001b[1;32mc:\\program files\\arcgis\\pro\\Resources\\ArcToolbox\\toolboxes\\Data Management Tools.tbx#CalculateGeometryAttributes_management.InitializeParameters.py\u001b[0m in \u001b[0;36m<module>\u001b[1;34m\u001b[0m\n",
      "\u001b[1;31mAttributeError\u001b[0m: 'ToolValidator' object has no attribute 'isLicensed'"
     ]
    },
    {
     "ename": "AttributeError",
     "evalue": "'ToolValidator' object has no attribute 'isLicensed'",
     "output_type": "error",
     "traceback": [
      "\u001b[1;31m---------------------------------------------------------------------------\u001b[0m",
      "\u001b[1;31mAttributeError\u001b[0m                            Traceback (most recent call last)",
      "\u001b[1;32mc:\\program files\\arcgis\\pro\\Resources\\ArcToolbox\\toolboxes\\Data Management Tools.tbx#CalculateGeometryAttributes_management.InitializeParameters.py\u001b[0m in \u001b[0;36m<module>\u001b[1;34m\u001b[0m\n",
      "\u001b[1;31mAttributeError\u001b[0m: 'ToolValidator' object has no attribute 'isLicensed'"
     ]
    },
    {
     "name": "stdout",
     "output_type": "stream",
     "text": [
      "618.6187844832606  = sum of all streets in the subwatershed (km)\n"
     ]
    },
    {
     "ename": "AttributeError",
     "evalue": "'ToolValidator' object has no attribute 'isLicensed'",
     "output_type": "error",
     "traceback": [
      "\u001b[1;31m---------------------------------------------------------------------------\u001b[0m",
      "\u001b[1;31mAttributeError\u001b[0m                            Traceback (most recent call last)",
      "\u001b[1;32mc:\\program files\\arcgis\\pro\\Resources\\ArcToolbox\\toolboxes\\Data Management Tools.tbx#CalculateGeometryAttributes_management.InitializeParameters.py\u001b[0m in \u001b[0;36m<module>\u001b[1;34m\u001b[0m\n",
      "\u001b[1;31mAttributeError\u001b[0m: 'ToolValidator' object has no attribute 'isLicensed'"
     ]
    },
    {
     "ename": "AttributeError",
     "evalue": "'ToolValidator' object has no attribute 'isLicensed'",
     "output_type": "error",
     "traceback": [
      "\u001b[1;31m---------------------------------------------------------------------------\u001b[0m",
      "\u001b[1;31mAttributeError\u001b[0m                            Traceback (most recent call last)",
      "\u001b[1;32mc:\\program files\\arcgis\\pro\\Resources\\ArcToolbox\\toolboxes\\Data Management Tools.tbx#CalculateGeometryAttributes_management.InitializeParameters.py\u001b[0m in \u001b[0;36m<module>\u001b[1;34m\u001b[0m\n",
      "\u001b[1;31mAttributeError\u001b[0m: 'ToolValidator' object has no attribute 'isLicensed'"
     ]
    },
    {
     "name": "stdout",
     "output_type": "stream",
     "text": [
      "43.78971898434889  = sum of all railroads in the subwatershed (km)\n",
      "138383  = total population in the subwatershed\n",
      "37.23793103448276  = total percent of dependent population in the subwatershed\n",
      "2536.363963772053  = population density of subwatershed (people/square km)\n",
      "48215.58620689655  = average median income in the subwatershed\n",
      "16210  = number of residential building footprints in the subwatershed\n",
      "297.10629089371514  = housing density (buildings per square km)\n",
      "134516  = total 2013 population in the subwatershed\n",
      "3867  = population change between 2013 and 2018\n",
      "streams clipped\n"
     ]
    },
    {
     "ename": "AttributeError",
     "evalue": "'ToolValidator' object has no attribute 'isLicensed'",
     "output_type": "error",
     "traceback": [
      "\u001b[1;31m---------------------------------------------------------------------------\u001b[0m",
      "\u001b[1;31mAttributeError\u001b[0m                            Traceback (most recent call last)",
      "\u001b[1;32mc:\\program files\\arcgis\\pro\\Resources\\ArcToolbox\\toolboxes\\Data Management Tools.tbx#CalculateGeometryAttributes_management.InitializeParameters.py\u001b[0m in \u001b[0;36m<module>\u001b[1;34m\u001b[0m\n",
      "\u001b[1;31mAttributeError\u001b[0m: 'ToolValidator' object has no attribute 'isLicensed'"
     ]
    },
    {
     "ename": "AttributeError",
     "evalue": "'ToolValidator' object has no attribute 'isLicensed'",
     "output_type": "error",
     "traceback": [
      "\u001b[1;31m---------------------------------------------------------------------------\u001b[0m",
      "\u001b[1;31mAttributeError\u001b[0m                            Traceback (most recent call last)",
      "\u001b[1;32mc:\\program files\\arcgis\\pro\\Resources\\ArcToolbox\\toolboxes\\Data Management Tools.tbx#CalculateGeometryAttributes_management.InitializeParameters.py\u001b[0m in \u001b[0;36m<module>\u001b[1;34m\u001b[0m\n",
      "\u001b[1;31mAttributeError\u001b[0m: 'ToolValidator' object has no attribute 'isLicensed'"
     ]
    },
    {
     "name": "stdout",
     "output_type": "stream",
     "text": [
      "length calculated\n",
      "52.74976755561019  = length of all streams in subwatershed\n",
      "54.5595986919  = subwatershed area\n",
      "0.9668283642167167 is the drainage density (streams/km)\n",
      "17.7367179096  = watershed length (longest stream in subwatershed)\n",
      "5.766009460246086  is the shape factor.\n",
      "0.003974931934382327  = relief ratio\n",
      "0.07050224642999998  is the relief in km\n",
      "0.06816357158952074  is the ruggedness number\n",
      "4.167356434222058  miles is the radius of a circle with the same area.\n",
      "8.334712868444116  miles is the diameter of a circle with the same area.\n"
     ]
    },
    {
     "ename": "AttributeError",
     "evalue": "'ToolValidator' object has no attribute 'isLicensed'",
     "output_type": "error",
     "traceback": [
      "\u001b[1;31m---------------------------------------------------------------------------\u001b[0m",
      "\u001b[1;31mAttributeError\u001b[0m                            Traceback (most recent call last)",
      "\u001b[1;32mc:\\program files\\arcgis\\pro\\Resources\\ArcToolbox\\toolboxes\\Data Management Tools.tbx#AddGeometryAttributes_management.InitializeParameters.py\u001b[0m in \u001b[0;36m<module>\u001b[1;34m\u001b[0m\n",
      "\u001b[1;31mAttributeError\u001b[0m: 'ToolValidator' object has no attribute 'isLicensed'"
     ]
    },
    {
     "ename": "AttributeError",
     "evalue": "'ToolValidator' object has no attribute 'isLicensed'",
     "output_type": "error",
     "traceback": [
      "\u001b[1;31m---------------------------------------------------------------------------\u001b[0m",
      "\u001b[1;31mAttributeError\u001b[0m                            Traceback (most recent call last)",
      "\u001b[1;32mc:\\program files\\arcgis\\pro\\Resources\\ArcToolbox\\toolboxes\\Data Management Tools.tbx#AddGeometryAttributes_management.InitializeParameters.py\u001b[0m in \u001b[0;36m<module>\u001b[1;34m\u001b[0m\n",
      "\u001b[1;31mAttributeError\u001b[0m: 'ToolValidator' object has no attribute 'isLicensed'"
     ]
    },
    {
     "name": "stdout",
     "output_type": "stream",
     "text": [
      "34.393508911133  = avg impervious percent \n",
      "466.4318487430482\n",
      "367.67529092400696\n",
      "orb100yr06h\n",
      "4910.1928710938  = avg rainfall in inches *1000\n",
      "orb100yr06ha_am\n",
      "4890.1928710938  = avg rainfall in inches *1000\n",
      "orb100yr12h\n",
      "5475.6025390625  = avg rainfall in inches *1000\n",
      "orb100yr12ha_am\n",
      "5453.349609375  = avg rainfall in inches *1000\n",
      "orb100yr24h\n",
      "5980.14453125  = avg rainfall in inches *1000\n",
      "orb100yr24ha_am\n",
      "5955.7709960938  = avg rainfall in inches *1000\n",
      "orb25yr06h\n",
      "3776.6625976563  = avg rainfall in inches *1000\n",
      "orb25yr06ha_am\n",
      "3760.8071289063  = avg rainfall in inches *1000\n",
      "orb25yr12h\n",
      "4300.1083984375  = avg rainfall in inches *1000\n",
      "orb25yr12ha_am\n",
      "4282.1083984375  = avg rainfall in inches *1000\n",
      "orb25yr24h\n",
      "4850.3735351563  = avg rainfall in inches *1000\n",
      "orb25yr24ha_am\n",
      "4830.3735351563  = avg rainfall in inches *1000\n",
      "orb2yr06h\n",
      "2114.7348632813  = avg rainfall in inches *1000\n",
      "orb2yr06ha_am\n",
      "1946.7711181641  = avg rainfall in inches *1000\n",
      "orb2yr12h\n",
      "2496.6145019531  = avg rainfall in inches *1000\n",
      "orb2yr12ha_am\n",
      "2298.4819335938  = avg rainfall in inches *1000\n",
      "orb2yr24h\n",
      "2955.0842285156  = avg rainfall in inches *1000\n",
      "orb2yr24ha_am\n",
      "2720.5661621094  = avg rainfall in inches *1000\n",
      "orb50yr06h\n",
      "4323.8676757813  = avg rainfall in inches *1000\n",
      "orb50yr06ha_am\n",
      "4305.8676757813  = avg rainfall in inches *1000\n",
      "orb50yr12h\n",
      "4872.9760742188  = avg rainfall in inches *1000\n",
      "orb50yr12ha_am\n",
      "4852.9760742188  = avg rainfall in inches *1000\n",
      "orb50yr24h\n",
      "5411.5302734375  = avg rainfall in inches *1000\n",
      "orb50yr24ha_am\n",
      "5389.494140625  = avg rainfall in inches *1000\n",
      "ZonalSt_subwate2\n",
      "5389.494140625  = avg rainfall in inches *1000\n",
      "051202011203  is the subwatershed to be worked on\n",
      "clipped dem to subwatershed area\n"
     ]
    },
    {
     "ename": "AttributeError",
     "evalue": "'ToolValidator' object has no attribute 'isLicensed'",
     "output_type": "error",
     "traceback": [
      "\u001b[1;31m---------------------------------------------------------------------------\u001b[0m",
      "\u001b[1;31mAttributeError\u001b[0m                            Traceback (most recent call last)",
      "\u001b[1;32mc:\\program files\\arcgis\\pro\\Resources\\ArcToolbox\\toolboxes\\Data Management Tools.tbx#CalculateGeometryAttributes_management.InitializeParameters.py\u001b[0m in \u001b[0;36m<module>\u001b[1;34m\u001b[0m\n",
      "\u001b[1;31mAttributeError\u001b[0m: 'ToolValidator' object has no attribute 'isLicensed'"
     ]
    },
    {
     "ename": "AttributeError",
     "evalue": "'ToolValidator' object has no attribute 'isLicensed'",
     "output_type": "error",
     "traceback": [
      "\u001b[1;31m---------------------------------------------------------------------------\u001b[0m",
      "\u001b[1;31mAttributeError\u001b[0m                            Traceback (most recent call last)",
      "\u001b[1;32mc:\\program files\\arcgis\\pro\\Resources\\ArcToolbox\\toolboxes\\Data Management Tools.tbx#CalculateGeometryAttributes_management.InitializeParameters.py\u001b[0m in \u001b[0;36m<module>\u001b[1;34m\u001b[0m\n",
      "\u001b[1;31mAttributeError\u001b[0m: 'ToolValidator' object has no attribute 'isLicensed'"
     ]
    },
    {
     "name": "stdout",
     "output_type": "stream",
     "text": [
      "59.0073720684  square kilometers\n"
     ]
    },
    {
     "ename": "AttributeError",
     "evalue": "'ToolValidator' object has no attribute 'isLicensed'",
     "output_type": "error",
     "traceback": [
      "\u001b[1;31m---------------------------------------------------------------------------\u001b[0m",
      "\u001b[1;31mAttributeError\u001b[0m                            Traceback (most recent call last)",
      "\u001b[1;32mc:\\program files\\arcgis\\pro\\Resources\\ArcToolbox\\toolboxes\\Data Management Tools.tbx#CalculateGeometryAttributes_management.InitializeParameters.py\u001b[0m in \u001b[0;36m<module>\u001b[1;34m\u001b[0m\n",
      "\u001b[1;31mAttributeError\u001b[0m: 'ToolValidator' object has no attribute 'isLicensed'"
     ]
    },
    {
     "ename": "AttributeError",
     "evalue": "'ToolValidator' object has no attribute 'isLicensed'",
     "output_type": "error",
     "traceback": [
      "\u001b[1;31m---------------------------------------------------------------------------\u001b[0m",
      "\u001b[1;31mAttributeError\u001b[0m                            Traceback (most recent call last)",
      "\u001b[1;32mc:\\program files\\arcgis\\pro\\Resources\\ArcToolbox\\toolboxes\\Data Management Tools.tbx#CalculateGeometryAttributes_management.InitializeParameters.py\u001b[0m in \u001b[0;36m<module>\u001b[1;34m\u001b[0m\n",
      "\u001b[1;31mAttributeError\u001b[0m: 'ToolValidator' object has no attribute 'isLicensed'"
     ]
    },
    {
     "name": "stdout",
     "output_type": "stream",
     "text": [
      "perimeter calculated\n",
      "67.8457438891  kilometers\n",
      "3.4675014019012  = avg slope (%)\n",
      "10.797985507697017 is the radius of a circle with the same perimeter.\n",
      "366.2986796367127 is the area of a circle with the same perimeter.\n",
      "0.16109086750441545  is the circulatory ratio\n",
      "created 3d polyline of subwatershed perimeter\n",
      "created perimeter points\n",
      "added z information\n",
      "   FID  FREQUENCY       MAX_Z       MIN_Z\n",
      "0    0      11042  269.330902  203.873825\n",
      "269.330902099\n",
      "203.873825073\n",
      "The relief of the subwatershed is:  65.45707702600001  meters.\n"
     ]
    },
    {
     "ename": "AttributeError",
     "evalue": "'ToolValidator' object has no attribute 'isLicensed'",
     "output_type": "error",
     "traceback": [
      "\u001b[1;31m---------------------------------------------------------------------------\u001b[0m",
      "\u001b[1;31mAttributeError\u001b[0m                            Traceback (most recent call last)",
      "\u001b[1;32mc:\\program files\\arcgis\\pro\\Resources\\ArcToolbox\\toolboxes\\Data Management Tools.tbx#CalculateGeometryAttributes_management.InitializeParameters.py\u001b[0m in \u001b[0;36m<module>\u001b[1;34m\u001b[0m\n",
      "\u001b[1;31mAttributeError\u001b[0m: 'ToolValidator' object has no attribute 'isLicensed'"
     ]
    },
    {
     "ename": "AttributeError",
     "evalue": "'ToolValidator' object has no attribute 'isLicensed'",
     "output_type": "error",
     "traceback": [
      "\u001b[1;31m---------------------------------------------------------------------------\u001b[0m",
      "\u001b[1;31mAttributeError\u001b[0m                            Traceback (most recent call last)",
      "\u001b[1;32mc:\\program files\\arcgis\\pro\\Resources\\ArcToolbox\\toolboxes\\Data Management Tools.tbx#CalculateGeometryAttributes_management.InitializeParameters.py\u001b[0m in \u001b[0;36m<module>\u001b[1;34m\u001b[0m\n",
      "\u001b[1;31mAttributeError\u001b[0m: 'ToolValidator' object has no attribute 'isLicensed'"
     ]
    },
    {
     "name": "stdout",
     "output_type": "stream",
     "text": [
      "4.919509772818812  = area of all AE and A zones in the subwatershed (square km)\n"
     ]
    },
    {
     "ename": "AttributeError",
     "evalue": "'ToolValidator' object has no attribute 'isLicensed'",
     "output_type": "error",
     "traceback": [
      "\u001b[1;31m---------------------------------------------------------------------------\u001b[0m",
      "\u001b[1;31mAttributeError\u001b[0m                            Traceback (most recent call last)",
      "\u001b[1;32mc:\\program files\\arcgis\\pro\\Resources\\ArcToolbox\\toolboxes\\Data Management Tools.tbx#CalculateGeometryAttributes_management.InitializeParameters.py\u001b[0m in \u001b[0;36m<module>\u001b[1;34m\u001b[0m\n",
      "\u001b[1;31mAttributeError\u001b[0m: 'ToolValidator' object has no attribute 'isLicensed'"
     ]
    },
    {
     "ename": "AttributeError",
     "evalue": "'ToolValidator' object has no attribute 'isLicensed'",
     "output_type": "error",
     "traceback": [
      "\u001b[1;31m---------------------------------------------------------------------------\u001b[0m",
      "\u001b[1;31mAttributeError\u001b[0m                            Traceback (most recent call last)",
      "\u001b[1;32mc:\\program files\\arcgis\\pro\\Resources\\ArcToolbox\\toolboxes\\Data Management Tools.tbx#CalculateGeometryAttributes_management.InitializeParameters.py\u001b[0m in \u001b[0;36m<module>\u001b[1;34m\u001b[0m\n",
      "\u001b[1;31mAttributeError\u001b[0m: 'ToolValidator' object has no attribute 'isLicensed'"
     ]
    },
    {
     "name": "stdout",
     "output_type": "stream",
     "text": [
      "1.5536994065123517  = area of all X zones, 0.2PCT zone subtype in the subwatershed (square km)\n"
     ]
    },
    {
     "ename": "AttributeError",
     "evalue": "'ToolValidator' object has no attribute 'isLicensed'",
     "output_type": "error",
     "traceback": [
      "\u001b[1;31m---------------------------------------------------------------------------\u001b[0m",
      "\u001b[1;31mAttributeError\u001b[0m                            Traceback (most recent call last)",
      "\u001b[1;32mc:\\program files\\arcgis\\pro\\Resources\\ArcToolbox\\toolboxes\\Data Management Tools.tbx#CalculateGeometryAttributes_management.InitializeParameters.py\u001b[0m in \u001b[0;36m<module>\u001b[1;34m\u001b[0m\n",
      "\u001b[1;31mAttributeError\u001b[0m: 'ToolValidator' object has no attribute 'isLicensed'"
     ]
    },
    {
     "ename": "AttributeError",
     "evalue": "'ToolValidator' object has no attribute 'isLicensed'",
     "output_type": "error",
     "traceback": [
      "\u001b[1;31m---------------------------------------------------------------------------\u001b[0m",
      "\u001b[1;31mAttributeError\u001b[0m                            Traceback (most recent call last)",
      "\u001b[1;32mc:\\program files\\arcgis\\pro\\Resources\\ArcToolbox\\toolboxes\\Data Management Tools.tbx#CalculateGeometryAttributes_management.InitializeParameters.py\u001b[0m in \u001b[0;36m<module>\u001b[1;34m\u001b[0m\n",
      "\u001b[1;31mAttributeError\u001b[0m: 'ToolValidator' object has no attribute 'isLicensed'"
     ]
    },
    {
     "name": "stdout",
     "output_type": "stream",
     "text": [
      "0.7265195965903329  = area of all water bodies in the subwatershed (square km)\n",
      "0  = number of dams in the subwatershed\n",
      "30  = number of bridges in the subwatershed\n"
     ]
    },
    {
     "ename": "AttributeError",
     "evalue": "'ToolValidator' object has no attribute 'isLicensed'",
     "output_type": "error",
     "traceback": [
      "\u001b[1;31m---------------------------------------------------------------------------\u001b[0m",
      "\u001b[1;31mAttributeError\u001b[0m                            Traceback (most recent call last)",
      "\u001b[1;32mc:\\program files\\arcgis\\pro\\Resources\\ArcToolbox\\toolboxes\\Data Management Tools.tbx#CalculateGeometryAttributes_management.InitializeParameters.py\u001b[0m in \u001b[0;36m<module>\u001b[1;34m\u001b[0m\n",
      "\u001b[1;31mAttributeError\u001b[0m: 'ToolValidator' object has no attribute 'isLicensed'"
     ]
    },
    {
     "ename": "AttributeError",
     "evalue": "'ToolValidator' object has no attribute 'isLicensed'",
     "output_type": "error",
     "traceback": [
      "\u001b[1;31m---------------------------------------------------------------------------\u001b[0m",
      "\u001b[1;31mAttributeError\u001b[0m                            Traceback (most recent call last)",
      "\u001b[1;32mc:\\program files\\arcgis\\pro\\Resources\\ArcToolbox\\toolboxes\\Data Management Tools.tbx#CalculateGeometryAttributes_management.InitializeParameters.py\u001b[0m in \u001b[0;36m<module>\u001b[1;34m\u001b[0m\n",
      "\u001b[1;31mAttributeError\u001b[0m: 'ToolValidator' object has no attribute 'isLicensed'"
     ]
    },
    {
     "name": "stdout",
     "output_type": "stream",
     "text": [
      "559.1164308940783  = sum of all streets in the subwatershed (km)\n"
     ]
    },
    {
     "ename": "AttributeError",
     "evalue": "'ToolValidator' object has no attribute 'isLicensed'",
     "output_type": "error",
     "traceback": [
      "\u001b[1;31m---------------------------------------------------------------------------\u001b[0m",
      "\u001b[1;31mAttributeError\u001b[0m                            Traceback (most recent call last)",
      "\u001b[1;32mc:\\program files\\arcgis\\pro\\Resources\\ArcToolbox\\toolboxes\\Data Management Tools.tbx#CalculateGeometryAttributes_management.InitializeParameters.py\u001b[0m in \u001b[0;36m<module>\u001b[1;34m\u001b[0m\n",
      "\u001b[1;31mAttributeError\u001b[0m: 'ToolValidator' object has no attribute 'isLicensed'"
     ]
    },
    {
     "ename": "AttributeError",
     "evalue": "'ToolValidator' object has no attribute 'isLicensed'",
     "output_type": "error",
     "traceback": [
      "\u001b[1;31m---------------------------------------------------------------------------\u001b[0m",
      "\u001b[1;31mAttributeError\u001b[0m                            Traceback (most recent call last)",
      "\u001b[1;32mc:\\program files\\arcgis\\pro\\Resources\\ArcToolbox\\toolboxes\\Data Management Tools.tbx#CalculateGeometryAttributes_management.InitializeParameters.py\u001b[0m in \u001b[0;36m<module>\u001b[1;34m\u001b[0m\n",
      "\u001b[1;31mAttributeError\u001b[0m: 'ToolValidator' object has no attribute 'isLicensed'"
     ]
    },
    {
     "name": "stdout",
     "output_type": "stream",
     "text": [
      "21.997779930713193  = sum of all railroads in the subwatershed (km)\n",
      "145090  = total population in the subwatershed\n",
      "38.23461538461538  = total percent of dependent population in the subwatershed\n",
      "2458.84530888471  = population density of subwatershed (people/square km)\n",
      "46135.307692307695  = average median income in the subwatershed\n",
      "13219  = number of residential building footprints in the subwatershed\n",
      "224.02285573193865  = housing density (buildings per square km)\n",
      "137783  = total 2013 population in the subwatershed\n",
      "7307  = population change between 2013 and 2018\n",
      "streams clipped\n"
     ]
    },
    {
     "ename": "AttributeError",
     "evalue": "'ToolValidator' object has no attribute 'isLicensed'",
     "output_type": "error",
     "traceback": [
      "\u001b[1;31m---------------------------------------------------------------------------\u001b[0m",
      "\u001b[1;31mAttributeError\u001b[0m                            Traceback (most recent call last)",
      "\u001b[1;32mc:\\program files\\arcgis\\pro\\Resources\\ArcToolbox\\toolboxes\\Data Management Tools.tbx#CalculateGeometryAttributes_management.InitializeParameters.py\u001b[0m in \u001b[0;36m<module>\u001b[1;34m\u001b[0m\n",
      "\u001b[1;31mAttributeError\u001b[0m: 'ToolValidator' object has no attribute 'isLicensed'"
     ]
    },
    {
     "ename": "AttributeError",
     "evalue": "'ToolValidator' object has no attribute 'isLicensed'",
     "output_type": "error",
     "traceback": [
      "\u001b[1;31m---------------------------------------------------------------------------\u001b[0m",
      "\u001b[1;31mAttributeError\u001b[0m                            Traceback (most recent call last)",
      "\u001b[1;32mc:\\program files\\arcgis\\pro\\Resources\\ArcToolbox\\toolboxes\\Data Management Tools.tbx#CalculateGeometryAttributes_management.InitializeParameters.py\u001b[0m in \u001b[0;36m<module>\u001b[1;34m\u001b[0m\n",
      "\u001b[1;31mAttributeError\u001b[0m: 'ToolValidator' object has no attribute 'isLicensed'"
     ]
    },
    {
     "name": "stdout",
     "output_type": "stream",
     "text": [
      "length calculated\n",
      "71.3429758362988  = length of all streams in subwatershed\n",
      "59.0073720684  = subwatershed area\n",
      "1.2090519088631781 is the drainage density (streams/km)\n",
      "27.2765160757  = watershed length (longest stream in subwatershed)\n",
      "12.608735199484615  is the shape factor.\n",
      "0.002399759443043907  = relief ratio\n",
      "0.06545707702600001  is the relief in km\n",
      "0.0791410039268894  is the ruggedness number\n",
      "4.333893155939241  miles is the radius of a circle with the same area.\n",
      "8.667786311878482  miles is the diameter of a circle with the same area.\n"
     ]
    },
    {
     "ename": "AttributeError",
     "evalue": "'ToolValidator' object has no attribute 'isLicensed'",
     "output_type": "error",
     "traceback": [
      "\u001b[1;31m---------------------------------------------------------------------------\u001b[0m",
      "\u001b[1;31mAttributeError\u001b[0m                            Traceback (most recent call last)",
      "\u001b[1;32mc:\\program files\\arcgis\\pro\\Resources\\ArcToolbox\\toolboxes\\Data Management Tools.tbx#AddGeometryAttributes_management.InitializeParameters.py\u001b[0m in \u001b[0;36m<module>\u001b[1;34m\u001b[0m\n",
      "\u001b[1;31mAttributeError\u001b[0m: 'ToolValidator' object has no attribute 'isLicensed'"
     ]
    },
    {
     "ename": "AttributeError",
     "evalue": "'ToolValidator' object has no attribute 'isLicensed'",
     "output_type": "error",
     "traceback": [
      "\u001b[1;31m---------------------------------------------------------------------------\u001b[0m",
      "\u001b[1;31mAttributeError\u001b[0m                            Traceback (most recent call last)",
      "\u001b[1;32mc:\\program files\\arcgis\\pro\\Resources\\ArcToolbox\\toolboxes\\Data Management Tools.tbx#AddGeometryAttributes_management.InitializeParameters.py\u001b[0m in \u001b[0;36m<module>\u001b[1;34m\u001b[0m\n",
      "\u001b[1;31mAttributeError\u001b[0m: 'ToolValidator' object has no attribute 'isLicensed'"
     ]
    },
    {
     "name": "stdout",
     "output_type": "stream",
     "text": [
      "32.526786804199  = avg impervious percent \n",
      "306.87598783956196\n",
      "221.55338803251018\n",
      "orb100yr06h\n",
      "4795.6020507813  = avg rainfall in inches *1000\n",
      "orb100yr06ha_am\n",
      "4775.6020507813  = avg rainfall in inches *1000\n",
      "orb100yr12h\n",
      "5385.0537109375  = avg rainfall in inches *1000\n",
      "orb100yr12ha_am\n",
      "5363.0537109375  = avg rainfall in inches *1000\n",
      "orb100yr24h\n",
      "5807.6235351563  = avg rainfall in inches *1000\n",
      "orb100yr24ha_am\n",
      "5783.6235351563  = avg rainfall in inches *1000\n",
      "orb25yr06h\n",
      "3698.5913085938  = avg rainfall in inches *1000\n",
      "orb25yr06ha_am\n",
      "3683.5913085938  = avg rainfall in inches *1000\n",
      "orb25yr12h\n",
      "4239.5698242188  = avg rainfall in inches *1000\n",
      "orb25yr12ha_am\n",
      "4222.4301757813  = avg rainfall in inches *1000\n",
      "orb25yr24h\n",
      "4739.21484375  = avg rainfall in inches *1000\n",
      "orb25yr24ha_am\n",
      "4720  = avg rainfall in inches *1000\n",
      "orb2yr06h\n",
      "2081.107421875  = avg rainfall in inches *1000\n",
      "orb2yr06ha_am\n",
      "1915.7956542969  = avg rainfall in inches *1000\n",
      "orb2yr12h\n",
      "2472.6989746094  = avg rainfall in inches *1000\n",
      "orb2yr12ha_am\n",
      "2276.3547363281  = avg rainfall in inches *1000\n",
      "orb2yr24h\n",
      "2912.5805664063  = avg rainfall in inches *1000\n",
      "orb2yr24ha_am\n",
      "2681.3117675781  = avg rainfall in inches *1000\n",
      "orb50yr06h\n",
      "4228.7202148438  = avg rainfall in inches *1000\n",
      "orb50yr06ha_am\n",
      "4211.6987304688  = avg rainfall in inches *1000\n",
      "orb50yr12h\n",
      "4800.1826171875  = avg rainfall in inches *1000\n",
      "orb50yr12ha_am\n",
      "4780.1826171875  = avg rainfall in inches *1000\n",
      "orb50yr24h\n",
      "5271.5268554688  = avg rainfall in inches *1000\n",
      "orb50yr24ha_am\n",
      "5249.5268554688  = avg rainfall in inches *1000\n",
      "ZonalSt_subwate1\n",
      "5249.5268554688  = avg rainfall in inches *1000\n",
      "051202010904  is the subwatershed to be worked on\n",
      "clipped dem to subwatershed area\n"
     ]
    },
    {
     "ename": "AttributeError",
     "evalue": "'ToolValidator' object has no attribute 'isLicensed'",
     "output_type": "error",
     "traceback": [
      "\u001b[1;31m---------------------------------------------------------------------------\u001b[0m",
      "\u001b[1;31mAttributeError\u001b[0m                            Traceback (most recent call last)",
      "\u001b[1;32mc:\\program files\\arcgis\\pro\\Resources\\ArcToolbox\\toolboxes\\Data Management Tools.tbx#CalculateGeometryAttributes_management.InitializeParameters.py\u001b[0m in \u001b[0;36m<module>\u001b[1;34m\u001b[0m\n",
      "\u001b[1;31mAttributeError\u001b[0m: 'ToolValidator' object has no attribute 'isLicensed'"
     ]
    },
    {
     "ename": "AttributeError",
     "evalue": "'ToolValidator' object has no attribute 'isLicensed'",
     "output_type": "error",
     "traceback": [
      "\u001b[1;31m---------------------------------------------------------------------------\u001b[0m",
      "\u001b[1;31mAttributeError\u001b[0m                            Traceback (most recent call last)",
      "\u001b[1;32mc:\\program files\\arcgis\\pro\\Resources\\ArcToolbox\\toolboxes\\Data Management Tools.tbx#CalculateGeometryAttributes_management.InitializeParameters.py\u001b[0m in \u001b[0;36m<module>\u001b[1;34m\u001b[0m\n",
      "\u001b[1;31mAttributeError\u001b[0m: 'ToolValidator' object has no attribute 'isLicensed'"
     ]
    },
    {
     "name": "stdout",
     "output_type": "stream",
     "text": [
      "88.4822985067  square kilometers\n"
     ]
    },
    {
     "ename": "AttributeError",
     "evalue": "'ToolValidator' object has no attribute 'isLicensed'",
     "output_type": "error",
     "traceback": [
      "\u001b[1;31m---------------------------------------------------------------------------\u001b[0m",
      "\u001b[1;31mAttributeError\u001b[0m                            Traceback (most recent call last)",
      "\u001b[1;32mc:\\program files\\arcgis\\pro\\Resources\\ArcToolbox\\toolboxes\\Data Management Tools.tbx#CalculateGeometryAttributes_management.InitializeParameters.py\u001b[0m in \u001b[0;36m<module>\u001b[1;34m\u001b[0m\n",
      "\u001b[1;31mAttributeError\u001b[0m: 'ToolValidator' object has no attribute 'isLicensed'"
     ]
    },
    {
     "ename": "AttributeError",
     "evalue": "'ToolValidator' object has no attribute 'isLicensed'",
     "output_type": "error",
     "traceback": [
      "\u001b[1;31m---------------------------------------------------------------------------\u001b[0m",
      "\u001b[1;31mAttributeError\u001b[0m                            Traceback (most recent call last)",
      "\u001b[1;32mc:\\program files\\arcgis\\pro\\Resources\\ArcToolbox\\toolboxes\\Data Management Tools.tbx#CalculateGeometryAttributes_management.InitializeParameters.py\u001b[0m in \u001b[0;36m<module>\u001b[1;34m\u001b[0m\n",
      "\u001b[1;31mAttributeError\u001b[0m: 'ToolValidator' object has no attribute 'isLicensed'"
     ]
    },
    {
     "name": "stdout",
     "output_type": "stream",
     "text": [
      "perimeter calculated\n",
      "76.3228770716  kilometers\n",
      "4.538857460022  = avg slope (%)\n",
      "12.147163156940222 is the radius of a circle with the same perimeter.\n",
      "463.55322019790856 is the area of a circle with the same perimeter.\n",
      "0.19087840328004524  is the circulatory ratio\n",
      "created 3d polyline of subwatershed perimeter\n",
      "created perimeter points\n",
      "added z information\n",
      "   FID  FREQUENCY       MAX_Z       MIN_Z\n",
      "0    0      12239  269.467133  207.211365\n",
      "269.467132568\n",
      "207.211364746\n",
      "The relief of the subwatershed is:  62.255767822000024  meters.\n"
     ]
    },
    {
     "ename": "AttributeError",
     "evalue": "'ToolValidator' object has no attribute 'isLicensed'",
     "output_type": "error",
     "traceback": [
      "\u001b[1;31m---------------------------------------------------------------------------\u001b[0m",
      "\u001b[1;31mAttributeError\u001b[0m                            Traceback (most recent call last)",
      "\u001b[1;32mc:\\program files\\arcgis\\pro\\Resources\\ArcToolbox\\toolboxes\\Data Management Tools.tbx#CalculateGeometryAttributes_management.InitializeParameters.py\u001b[0m in \u001b[0;36m<module>\u001b[1;34m\u001b[0m\n",
      "\u001b[1;31mAttributeError\u001b[0m: 'ToolValidator' object has no attribute 'isLicensed'"
     ]
    },
    {
     "ename": "AttributeError",
     "evalue": "'ToolValidator' object has no attribute 'isLicensed'",
     "output_type": "error",
     "traceback": [
      "\u001b[1;31m---------------------------------------------------------------------------\u001b[0m",
      "\u001b[1;31mAttributeError\u001b[0m                            Traceback (most recent call last)",
      "\u001b[1;32mc:\\program files\\arcgis\\pro\\Resources\\ArcToolbox\\toolboxes\\Data Management Tools.tbx#CalculateGeometryAttributes_management.InitializeParameters.py\u001b[0m in \u001b[0;36m<module>\u001b[1;34m\u001b[0m\n",
      "\u001b[1;31mAttributeError\u001b[0m: 'ToolValidator' object has no attribute 'isLicensed'"
     ]
    },
    {
     "name": "stdout",
     "output_type": "stream",
     "text": [
      "7.968828793614729  = area of all AE and A zones in the subwatershed (square km)\n"
     ]
    },
    {
     "ename": "AttributeError",
     "evalue": "'ToolValidator' object has no attribute 'isLicensed'",
     "output_type": "error",
     "traceback": [
      "\u001b[1;31m---------------------------------------------------------------------------\u001b[0m",
      "\u001b[1;31mAttributeError\u001b[0m                            Traceback (most recent call last)",
      "\u001b[1;32mc:\\program files\\arcgis\\pro\\Resources\\ArcToolbox\\toolboxes\\Data Management Tools.tbx#CalculateGeometryAttributes_management.InitializeParameters.py\u001b[0m in \u001b[0;36m<module>\u001b[1;34m\u001b[0m\n",
      "\u001b[1;31mAttributeError\u001b[0m: 'ToolValidator' object has no attribute 'isLicensed'"
     ]
    },
    {
     "ename": "AttributeError",
     "evalue": "'ToolValidator' object has no attribute 'isLicensed'",
     "output_type": "error",
     "traceback": [
      "\u001b[1;31m---------------------------------------------------------------------------\u001b[0m",
      "\u001b[1;31mAttributeError\u001b[0m                            Traceback (most recent call last)",
      "\u001b[1;32mc:\\program files\\arcgis\\pro\\Resources\\ArcToolbox\\toolboxes\\Data Management Tools.tbx#CalculateGeometryAttributes_management.InitializeParameters.py\u001b[0m in \u001b[0;36m<module>\u001b[1;34m\u001b[0m\n",
      "\u001b[1;31mAttributeError\u001b[0m: 'ToolValidator' object has no attribute 'isLicensed'"
     ]
    },
    {
     "name": "stdout",
     "output_type": "stream",
     "text": [
      "1.4387658974566717  = area of all X zones, 0.2PCT zone subtype in the subwatershed (square km)\n"
     ]
    },
    {
     "ename": "AttributeError",
     "evalue": "'ToolValidator' object has no attribute 'isLicensed'",
     "output_type": "error",
     "traceback": [
      "\u001b[1;31m---------------------------------------------------------------------------\u001b[0m",
      "\u001b[1;31mAttributeError\u001b[0m                            Traceback (most recent call last)",
      "\u001b[1;32mc:\\program files\\arcgis\\pro\\Resources\\ArcToolbox\\toolboxes\\Data Management Tools.tbx#CalculateGeometryAttributes_management.InitializeParameters.py\u001b[0m in \u001b[0;36m<module>\u001b[1;34m\u001b[0m\n",
      "\u001b[1;31mAttributeError\u001b[0m: 'ToolValidator' object has no attribute 'isLicensed'"
     ]
    },
    {
     "ename": "AttributeError",
     "evalue": "'ToolValidator' object has no attribute 'isLicensed'",
     "output_type": "error",
     "traceback": [
      "\u001b[1;31m---------------------------------------------------------------------------\u001b[0m",
      "\u001b[1;31mAttributeError\u001b[0m                            Traceback (most recent call last)",
      "\u001b[1;32mc:\\program files\\arcgis\\pro\\Resources\\ArcToolbox\\toolboxes\\Data Management Tools.tbx#CalculateGeometryAttributes_management.InitializeParameters.py\u001b[0m in \u001b[0;36m<module>\u001b[1;34m\u001b[0m\n",
      "\u001b[1;31mAttributeError\u001b[0m: 'ToolValidator' object has no attribute 'isLicensed'"
     ]
    },
    {
     "name": "stdout",
     "output_type": "stream",
     "text": [
      "1.605718437019776  = area of all water bodies in the subwatershed (square km)\n",
      "4  = number of dams in the subwatershed\n",
      "39  = number of bridges in the subwatershed\n"
     ]
    },
    {
     "ename": "AttributeError",
     "evalue": "'ToolValidator' object has no attribute 'isLicensed'",
     "output_type": "error",
     "traceback": [
      "\u001b[1;31m---------------------------------------------------------------------------\u001b[0m",
      "\u001b[1;31mAttributeError\u001b[0m                            Traceback (most recent call last)",
      "\u001b[1;32mc:\\program files\\arcgis\\pro\\Resources\\ArcToolbox\\toolboxes\\Data Management Tools.tbx#CalculateGeometryAttributes_management.InitializeParameters.py\u001b[0m in \u001b[0;36m<module>\u001b[1;34m\u001b[0m\n",
      "\u001b[1;31mAttributeError\u001b[0m: 'ToolValidator' object has no attribute 'isLicensed'"
     ]
    },
    {
     "ename": "AttributeError",
     "evalue": "'ToolValidator' object has no attribute 'isLicensed'",
     "output_type": "error",
     "traceback": [
      "\u001b[1;31m---------------------------------------------------------------------------\u001b[0m",
      "\u001b[1;31mAttributeError\u001b[0m                            Traceback (most recent call last)",
      "\u001b[1;32mc:\\program files\\arcgis\\pro\\Resources\\ArcToolbox\\toolboxes\\Data Management Tools.tbx#CalculateGeometryAttributes_management.InitializeParameters.py\u001b[0m in \u001b[0;36m<module>\u001b[1;34m\u001b[0m\n",
      "\u001b[1;31mAttributeError\u001b[0m: 'ToolValidator' object has no attribute 'isLicensed'"
     ]
    },
    {
     "name": "stdout",
     "output_type": "stream",
     "text": [
      "1136.2347853217782  = sum of all streets in the subwatershed (km)\n"
     ]
    },
    {
     "ename": "AttributeError",
     "evalue": "'ToolValidator' object has no attribute 'isLicensed'",
     "output_type": "error",
     "traceback": [
      "\u001b[1;31m---------------------------------------------------------------------------\u001b[0m",
      "\u001b[1;31mAttributeError\u001b[0m                            Traceback (most recent call last)",
      "\u001b[1;32mc:\\program files\\arcgis\\pro\\Resources\\ArcToolbox\\toolboxes\\Data Management Tools.tbx#CalculateGeometryAttributes_management.InitializeParameters.py\u001b[0m in \u001b[0;36m<module>\u001b[1;34m\u001b[0m\n",
      "\u001b[1;31mAttributeError\u001b[0m: 'ToolValidator' object has no attribute 'isLicensed'"
     ]
    },
    {
     "ename": "AttributeError",
     "evalue": "'ToolValidator' object has no attribute 'isLicensed'",
     "output_type": "error",
     "traceback": [
      "\u001b[1;31m---------------------------------------------------------------------------\u001b[0m",
      "\u001b[1;31mAttributeError\u001b[0m                            Traceback (most recent call last)",
      "\u001b[1;32mc:\\program files\\arcgis\\pro\\Resources\\ArcToolbox\\toolboxes\\Data Management Tools.tbx#CalculateGeometryAttributes_management.InitializeParameters.py\u001b[0m in \u001b[0;36m<module>\u001b[1;34m\u001b[0m\n",
      "\u001b[1;31mAttributeError\u001b[0m: 'ToolValidator' object has no attribute 'isLicensed'"
     ]
    },
    {
     "name": "stdout",
     "output_type": "stream",
     "text": [
      "19.696444140396  = sum of all railroads in the subwatershed (km)\n",
      "181891  = total population in the subwatershed\n",
      "33.21176470588236  = total percent of dependent population in the subwatershed\n",
      "2055.6767067508645  = population density of subwatershed (people/square km)\n",
      "49475.74509803922  = average median income in the subwatershed\n",
      "26681  = number of residential building footprints in the subwatershed\n",
      "301.54053918456555  = housing density (buildings per square km)\n",
      "173875  = total 2013 population in the subwatershed\n",
      "8016  = population change between 2013 and 2018\n",
      "streams clipped\n"
     ]
    },
    {
     "ename": "AttributeError",
     "evalue": "'ToolValidator' object has no attribute 'isLicensed'",
     "output_type": "error",
     "traceback": [
      "\u001b[1;31m---------------------------------------------------------------------------\u001b[0m",
      "\u001b[1;31mAttributeError\u001b[0m                            Traceback (most recent call last)",
      "\u001b[1;32mc:\\program files\\arcgis\\pro\\Resources\\ArcToolbox\\toolboxes\\Data Management Tools.tbx#CalculateGeometryAttributes_management.InitializeParameters.py\u001b[0m in \u001b[0;36m<module>\u001b[1;34m\u001b[0m\n",
      "\u001b[1;31mAttributeError\u001b[0m: 'ToolValidator' object has no attribute 'isLicensed'"
     ]
    },
    {
     "ename": "AttributeError",
     "evalue": "'ToolValidator' object has no attribute 'isLicensed'",
     "output_type": "error",
     "traceback": [
      "\u001b[1;31m---------------------------------------------------------------------------\u001b[0m",
      "\u001b[1;31mAttributeError\u001b[0m                            Traceback (most recent call last)",
      "\u001b[1;32mc:\\program files\\arcgis\\pro\\Resources\\ArcToolbox\\toolboxes\\Data Management Tools.tbx#CalculateGeometryAttributes_management.InitializeParameters.py\u001b[0m in \u001b[0;36m<module>\u001b[1;34m\u001b[0m\n",
      "\u001b[1;31mAttributeError\u001b[0m: 'ToolValidator' object has no attribute 'isLicensed'"
     ]
    },
    {
     "name": "stdout",
     "output_type": "stream",
     "text": [
      "length calculated\n",
      "69.98558057035746  = length of all streams in subwatershed\n",
      "88.4822985067  = subwatershed area\n",
      "0.7909557250601718 is the drainage density (streams/km)\n",
      "28.4725637752  = watershed length (longest stream in subwatershed)\n",
      "9.162136400326954  is the shape factor.\n",
      "0.002186517811094541  = relief ratio\n",
      "0.06225576782200003  is the relief in km\n",
      "0.04924155597682774  is the ruggedness number\n",
      "5.3070510047433945  miles is the radius of a circle with the same area.\n",
      "10.614102009486789  miles is the diameter of a circle with the same area.\n"
     ]
    },
    {
     "ename": "AttributeError",
     "evalue": "'ToolValidator' object has no attribute 'isLicensed'",
     "output_type": "error",
     "traceback": [
      "\u001b[1;31m---------------------------------------------------------------------------\u001b[0m",
      "\u001b[1;31mAttributeError\u001b[0m                            Traceback (most recent call last)",
      "\u001b[1;32mc:\\program files\\arcgis\\pro\\Resources\\ArcToolbox\\toolboxes\\Data Management Tools.tbx#AddGeometryAttributes_management.InitializeParameters.py\u001b[0m in \u001b[0;36m<module>\u001b[1;34m\u001b[0m\n",
      "\u001b[1;31mAttributeError\u001b[0m: 'ToolValidator' object has no attribute 'isLicensed'"
     ]
    },
    {
     "ename": "AttributeError",
     "evalue": "'ToolValidator' object has no attribute 'isLicensed'",
     "output_type": "error",
     "traceback": [
      "\u001b[1;31m---------------------------------------------------------------------------\u001b[0m",
      "\u001b[1;31mAttributeError\u001b[0m                            Traceback (most recent call last)",
      "\u001b[1;32mc:\\program files\\arcgis\\pro\\Resources\\ArcToolbox\\toolboxes\\Data Management Tools.tbx#AddGeometryAttributes_management.InitializeParameters.py\u001b[0m in \u001b[0;36m<module>\u001b[1;34m\u001b[0m\n",
      "\u001b[1;31mAttributeError\u001b[0m: 'ToolValidator' object has no attribute 'isLicensed'"
     ]
    },
    {
     "name": "stdout",
     "output_type": "stream",
     "text": [
      "29.752206802368  = avg impervious percent \n",
      "950.6995703692517\n",
      "808.3411494141995\n",
      "orb100yr06h\n",
      "4836.9770507813  = avg rainfall in inches *1000\n",
      "orb100yr06ha_am\n",
      "4816.9770507813  = avg rainfall in inches *1000\n",
      "orb100yr12h\n",
      "5432.7729492188  = avg rainfall in inches *1000\n",
      "orb100yr12ha_am\n",
      "5410.7729492188  = avg rainfall in inches *1000\n",
      "orb100yr24h\n",
      "5917.0229492188  = avg rainfall in inches *1000\n",
      "orb100yr24ha_am\n",
      "5893.0229492188  = avg rainfall in inches *1000\n",
      "orb25yr06h\n",
      "3730.2424316406  = avg rainfall in inches *1000\n",
      "orb25yr06ha_am\n",
      "3715.2424316406  = avg rainfall in inches *1000\n",
      "orb25yr12h\n",
      "4275.8256835938  = avg rainfall in inches *1000\n",
      "orb25yr12ha_am\n",
      "4257.8256835938  = avg rainfall in inches *1000\n",
      "orb25yr24h\n",
      "4805.931640625  = avg rainfall in inches *1000\n",
      "orb25yr24ha_am\n",
      "4785.931640625  = avg rainfall in inches *1000\n",
      "orb2yr06h\n",
      "2101.9772949219  = avg rainfall in inches *1000\n",
      "orb2yr06ha_am\n",
      "1934.9697265625  = avg rainfall in inches *1000\n",
      "orb2yr12h\n",
      "2492.189453125  = avg rainfall in inches *1000\n",
      "orb2yr12ha_am\n",
      "2294.3256835938  = avg rainfall in inches *1000\n",
      "orb2yr24h\n",
      "2931.0832519531  = avg rainfall in inches *1000\n",
      "orb2yr24ha_am\n",
      "2698.5  = avg rainfall in inches *1000\n",
      "orb50yr06h\n",
      "4265.9467773438  = avg rainfall in inches *1000\n",
      "orb50yr06ha_am\n",
      "4247.9467773438  = avg rainfall in inches *1000\n",
      "orb50yr12h\n",
      "4841.7954101563  = avg rainfall in inches *1000\n",
      "orb50yr12ha_am\n",
      "4821.7954101563  = avg rainfall in inches *1000\n",
      "orb50yr24h\n",
      "5358.2119140625  = avg rainfall in inches *1000\n",
      "orb50yr24ha_am\n",
      "5336.2119140625  = avg rainfall in inches *1000\n",
      "ZonalSt_subwate2\n",
      "5336.2119140625  = avg rainfall in inches *1000\n",
      "051202011201  is the subwatershed to be worked on\n",
      "clipped dem to subwatershed area\n"
     ]
    },
    {
     "ename": "AttributeError",
     "evalue": "'ToolValidator' object has no attribute 'isLicensed'",
     "output_type": "error",
     "traceback": [
      "\u001b[1;31m---------------------------------------------------------------------------\u001b[0m",
      "\u001b[1;31mAttributeError\u001b[0m                            Traceback (most recent call last)",
      "\u001b[1;32mc:\\program files\\arcgis\\pro\\Resources\\ArcToolbox\\toolboxes\\Data Management Tools.tbx#CalculateGeometryAttributes_management.InitializeParameters.py\u001b[0m in \u001b[0;36m<module>\u001b[1;34m\u001b[0m\n",
      "\u001b[1;31mAttributeError\u001b[0m: 'ToolValidator' object has no attribute 'isLicensed'"
     ]
    },
    {
     "ename": "AttributeError",
     "evalue": "'ToolValidator' object has no attribute 'isLicensed'",
     "output_type": "error",
     "traceback": [
      "\u001b[1;31m---------------------------------------------------------------------------\u001b[0m",
      "\u001b[1;31mAttributeError\u001b[0m                            Traceback (most recent call last)",
      "\u001b[1;32mc:\\program files\\arcgis\\pro\\Resources\\ArcToolbox\\toolboxes\\Data Management Tools.tbx#CalculateGeometryAttributes_management.InitializeParameters.py\u001b[0m in \u001b[0;36m<module>\u001b[1;34m\u001b[0m\n",
      "\u001b[1;31mAttributeError\u001b[0m: 'ToolValidator' object has no attribute 'isLicensed'"
     ]
    },
    {
     "name": "stdout",
     "output_type": "stream",
     "text": [
      "60.1503175538  square kilometers\n"
     ]
    },
    {
     "ename": "AttributeError",
     "evalue": "'ToolValidator' object has no attribute 'isLicensed'",
     "output_type": "error",
     "traceback": [
      "\u001b[1;31m---------------------------------------------------------------------------\u001b[0m",
      "\u001b[1;31mAttributeError\u001b[0m                            Traceback (most recent call last)",
      "\u001b[1;32mc:\\program files\\arcgis\\pro\\Resources\\ArcToolbox\\toolboxes\\Data Management Tools.tbx#CalculateGeometryAttributes_management.InitializeParameters.py\u001b[0m in \u001b[0;36m<module>\u001b[1;34m\u001b[0m\n",
      "\u001b[1;31mAttributeError\u001b[0m: 'ToolValidator' object has no attribute 'isLicensed'"
     ]
    },
    {
     "ename": "AttributeError",
     "evalue": "'ToolValidator' object has no attribute 'isLicensed'",
     "output_type": "error",
     "traceback": [
      "\u001b[1;31m---------------------------------------------------------------------------\u001b[0m",
      "\u001b[1;31mAttributeError\u001b[0m                            Traceback (most recent call last)",
      "\u001b[1;32mc:\\program files\\arcgis\\pro\\Resources\\ArcToolbox\\toolboxes\\Data Management Tools.tbx#CalculateGeometryAttributes_management.InitializeParameters.py\u001b[0m in \u001b[0;36m<module>\u001b[1;34m\u001b[0m\n",
      "\u001b[1;31mAttributeError\u001b[0m: 'ToolValidator' object has no attribute 'isLicensed'"
     ]
    },
    {
     "name": "stdout",
     "output_type": "stream",
     "text": [
      "perimeter calculated\n",
      "54.6147995815  kilometers\n",
      "2.8584625720978  = avg slope (%)\n",
      "8.692215319368902 is the radius of a circle with the same perimeter.\n",
      "237.3617987932883 is the area of a circle with the same perimeter.\n",
      "0.25341195533398875  is the circulatory ratio\n",
      "created 3d polyline of subwatershed perimeter\n",
      "created perimeter points\n",
      "added z information\n",
      "   FID  FREQUENCY       MAX_Z       MIN_Z\n",
      "0    0       8576  269.804901  203.407576\n",
      "269.804901123\n",
      "203.407576331\n",
      "The relief of the subwatershed is:  66.39732479199998  meters.\n"
     ]
    },
    {
     "ename": "AttributeError",
     "evalue": "'ToolValidator' object has no attribute 'isLicensed'",
     "output_type": "error",
     "traceback": [
      "\u001b[1;31m---------------------------------------------------------------------------\u001b[0m",
      "\u001b[1;31mAttributeError\u001b[0m                            Traceback (most recent call last)",
      "\u001b[1;32mc:\\program files\\arcgis\\pro\\Resources\\ArcToolbox\\toolboxes\\Data Management Tools.tbx#CalculateGeometryAttributes_management.InitializeParameters.py\u001b[0m in \u001b[0;36m<module>\u001b[1;34m\u001b[0m\n",
      "\u001b[1;31mAttributeError\u001b[0m: 'ToolValidator' object has no attribute 'isLicensed'"
     ]
    },
    {
     "ename": "AttributeError",
     "evalue": "'ToolValidator' object has no attribute 'isLicensed'",
     "output_type": "error",
     "traceback": [
      "\u001b[1;31m---------------------------------------------------------------------------\u001b[0m",
      "\u001b[1;31mAttributeError\u001b[0m                            Traceback (most recent call last)",
      "\u001b[1;32mc:\\program files\\arcgis\\pro\\Resources\\ArcToolbox\\toolboxes\\Data Management Tools.tbx#CalculateGeometryAttributes_management.InitializeParameters.py\u001b[0m in \u001b[0;36m<module>\u001b[1;34m\u001b[0m\n",
      "\u001b[1;31mAttributeError\u001b[0m: 'ToolValidator' object has no attribute 'isLicensed'"
     ]
    },
    {
     "name": "stdout",
     "output_type": "stream",
     "text": [
      "1.9840324647222238  = area of all AE and A zones in the subwatershed (square km)\n"
     ]
    },
    {
     "ename": "AttributeError",
     "evalue": "'ToolValidator' object has no attribute 'isLicensed'",
     "output_type": "error",
     "traceback": [
      "\u001b[1;31m---------------------------------------------------------------------------\u001b[0m",
      "\u001b[1;31mAttributeError\u001b[0m                            Traceback (most recent call last)",
      "\u001b[1;32mc:\\program files\\arcgis\\pro\\Resources\\ArcToolbox\\toolboxes\\Data Management Tools.tbx#CalculateGeometryAttributes_management.InitializeParameters.py\u001b[0m in \u001b[0;36m<module>\u001b[1;34m\u001b[0m\n",
      "\u001b[1;31mAttributeError\u001b[0m: 'ToolValidator' object has no attribute 'isLicensed'"
     ]
    },
    {
     "ename": "AttributeError",
     "evalue": "'ToolValidator' object has no attribute 'isLicensed'",
     "output_type": "error",
     "traceback": [
      "\u001b[1;31m---------------------------------------------------------------------------\u001b[0m",
      "\u001b[1;31mAttributeError\u001b[0m                            Traceback (most recent call last)",
      "\u001b[1;32mc:\\program files\\arcgis\\pro\\Resources\\ArcToolbox\\toolboxes\\Data Management Tools.tbx#CalculateGeometryAttributes_management.InitializeParameters.py\u001b[0m in \u001b[0;36m<module>\u001b[1;34m\u001b[0m\n",
      "\u001b[1;31mAttributeError\u001b[0m: 'ToolValidator' object has no attribute 'isLicensed'"
     ]
    },
    {
     "name": "stdout",
     "output_type": "stream",
     "text": [
      "1.8968341446883554  = area of all X zones, 0.2PCT zone subtype in the subwatershed (square km)\n"
     ]
    },
    {
     "ename": "AttributeError",
     "evalue": "'ToolValidator' object has no attribute 'isLicensed'",
     "output_type": "error",
     "traceback": [
      "\u001b[1;31m---------------------------------------------------------------------------\u001b[0m",
      "\u001b[1;31mAttributeError\u001b[0m                            Traceback (most recent call last)",
      "\u001b[1;32mc:\\program files\\arcgis\\pro\\Resources\\ArcToolbox\\toolboxes\\Data Management Tools.tbx#CalculateGeometryAttributes_management.InitializeParameters.py\u001b[0m in \u001b[0;36m<module>\u001b[1;34m\u001b[0m\n",
      "\u001b[1;31mAttributeError\u001b[0m: 'ToolValidator' object has no attribute 'isLicensed'"
     ]
    },
    {
     "ename": "AttributeError",
     "evalue": "'ToolValidator' object has no attribute 'isLicensed'",
     "output_type": "error",
     "traceback": [
      "\u001b[1;31m---------------------------------------------------------------------------\u001b[0m",
      "\u001b[1;31mAttributeError\u001b[0m                            Traceback (most recent call last)",
      "\u001b[1;32mc:\\program files\\arcgis\\pro\\Resources\\ArcToolbox\\toolboxes\\Data Management Tools.tbx#CalculateGeometryAttributes_management.InitializeParameters.py\u001b[0m in \u001b[0;36m<module>\u001b[1;34m\u001b[0m\n",
      "\u001b[1;31mAttributeError\u001b[0m: 'ToolValidator' object has no attribute 'isLicensed'"
     ]
    },
    {
     "name": "stdout",
     "output_type": "stream",
     "text": [
      "0.14659031940683  = area of all water bodies in the subwatershed (square km)\n",
      "3  = number of dams in the subwatershed\n",
      "44  = number of bridges in the subwatershed\n"
     ]
    },
    {
     "ename": "AttributeError",
     "evalue": "'ToolValidator' object has no attribute 'isLicensed'",
     "output_type": "error",
     "traceback": [
      "\u001b[1;31m---------------------------------------------------------------------------\u001b[0m",
      "\u001b[1;31mAttributeError\u001b[0m                            Traceback (most recent call last)",
      "\u001b[1;32mc:\\program files\\arcgis\\pro\\Resources\\ArcToolbox\\toolboxes\\Data Management Tools.tbx#CalculateGeometryAttributes_management.InitializeParameters.py\u001b[0m in \u001b[0;36m<module>\u001b[1;34m\u001b[0m\n",
      "\u001b[1;31mAttributeError\u001b[0m: 'ToolValidator' object has no attribute 'isLicensed'"
     ]
    },
    {
     "ename": "AttributeError",
     "evalue": "'ToolValidator' object has no attribute 'isLicensed'",
     "output_type": "error",
     "traceback": [
      "\u001b[1;31m---------------------------------------------------------------------------\u001b[0m",
      "\u001b[1;31mAttributeError\u001b[0m                            Traceback (most recent call last)",
      "\u001b[1;32mc:\\program files\\arcgis\\pro\\Resources\\ArcToolbox\\toolboxes\\Data Management Tools.tbx#CalculateGeometryAttributes_management.InitializeParameters.py\u001b[0m in \u001b[0;36m<module>\u001b[1;34m\u001b[0m\n",
      "\u001b[1;31mAttributeError\u001b[0m: 'ToolValidator' object has no attribute 'isLicensed'"
     ]
    },
    {
     "name": "stdout",
     "output_type": "stream",
     "text": [
      "1287.6944249840262  = sum of all streets in the subwatershed (km)\n"
     ]
    },
    {
     "ename": "AttributeError",
     "evalue": "'ToolValidator' object has no attribute 'isLicensed'",
     "output_type": "error",
     "traceback": [
      "\u001b[1;31m---------------------------------------------------------------------------\u001b[0m",
      "\u001b[1;31mAttributeError\u001b[0m                            Traceback (most recent call last)",
      "\u001b[1;32mc:\\program files\\arcgis\\pro\\Resources\\ArcToolbox\\toolboxes\\Data Management Tools.tbx#CalculateGeometryAttributes_management.InitializeParameters.py\u001b[0m in \u001b[0;36m<module>\u001b[1;34m\u001b[0m\n",
      "\u001b[1;31mAttributeError\u001b[0m: 'ToolValidator' object has no attribute 'isLicensed'"
     ]
    },
    {
     "ename": "AttributeError",
     "evalue": "'ToolValidator' object has no attribute 'isLicensed'",
     "output_type": "error",
     "traceback": [
      "\u001b[1;31m---------------------------------------------------------------------------\u001b[0m",
      "\u001b[1;31mAttributeError\u001b[0m                            Traceback (most recent call last)",
      "\u001b[1;32mc:\\program files\\arcgis\\pro\\Resources\\ArcToolbox\\toolboxes\\Data Management Tools.tbx#CalculateGeometryAttributes_management.InitializeParameters.py\u001b[0m in \u001b[0;36m<module>\u001b[1;34m\u001b[0m\n",
      "\u001b[1;31mAttributeError\u001b[0m: 'ToolValidator' object has no attribute 'isLicensed'"
     ]
    },
    {
     "name": "stdout",
     "output_type": "stream",
     "text": [
      "79.38773475278832  = sum of all railroads in the subwatershed (km)\n",
      "165677  = total population in the subwatershed\n",
      "34.32  = total percent of dependent population in the subwatershed\n",
      "2754.382798591449  = population density of subwatershed (people/square km)\n",
      "33575.05454545454  = average median income in the subwatershed\n",
      "28357  = number of residential building footprints in the subwatershed\n",
      "471.4355826074694  = housing density (buildings per square km)\n",
      "157372  = total 2013 population in the subwatershed\n",
      "8305  = population change between 2013 and 2018\n",
      "streams clipped\n"
     ]
    },
    {
     "ename": "AttributeError",
     "evalue": "'ToolValidator' object has no attribute 'isLicensed'",
     "output_type": "error",
     "traceback": [
      "\u001b[1;31m---------------------------------------------------------------------------\u001b[0m",
      "\u001b[1;31mAttributeError\u001b[0m                            Traceback (most recent call last)",
      "\u001b[1;32mc:\\program files\\arcgis\\pro\\Resources\\ArcToolbox\\toolboxes\\Data Management Tools.tbx#CalculateGeometryAttributes_management.InitializeParameters.py\u001b[0m in \u001b[0;36m<module>\u001b[1;34m\u001b[0m\n",
      "\u001b[1;31mAttributeError\u001b[0m: 'ToolValidator' object has no attribute 'isLicensed'"
     ]
    },
    {
     "ename": "AttributeError",
     "evalue": "'ToolValidator' object has no attribute 'isLicensed'",
     "output_type": "error",
     "traceback": [
      "\u001b[1;31m---------------------------------------------------------------------------\u001b[0m",
      "\u001b[1;31mAttributeError\u001b[0m                            Traceback (most recent call last)",
      "\u001b[1;32mc:\\program files\\arcgis\\pro\\Resources\\ArcToolbox\\toolboxes\\Data Management Tools.tbx#CalculateGeometryAttributes_management.InitializeParameters.py\u001b[0m in \u001b[0;36m<module>\u001b[1;34m\u001b[0m\n",
      "\u001b[1;31mAttributeError\u001b[0m: 'ToolValidator' object has no attribute 'isLicensed'"
     ]
    },
    {
     "name": "stdout",
     "output_type": "stream",
     "text": [
      "length calculated\n",
      "30.788939388902996  = length of all streams in subwatershed\n",
      "60.1503175538  = subwatershed area\n",
      "0.5118666141930933 is the drainage density (streams/km)\n",
      "18.3968348123  = watershed length (longest stream in subwatershed)\n",
      "5.62662916631056  is the shape factor.\n",
      "0.0036091711139139638  = relief ratio\n",
      "0.06639732479199997  is the relief in km\n",
      "0.03398657383276016  is the ruggedness number\n",
      "4.375664604887919  miles is the radius of a circle with the same area.\n",
      "8.751329209775838  miles is the diameter of a circle with the same area.\n"
     ]
    },
    {
     "ename": "AttributeError",
     "evalue": "'ToolValidator' object has no attribute 'isLicensed'",
     "output_type": "error",
     "traceback": [
      "\u001b[1;31m---------------------------------------------------------------------------\u001b[0m",
      "\u001b[1;31mAttributeError\u001b[0m                            Traceback (most recent call last)",
      "\u001b[1;32mc:\\program files\\arcgis\\pro\\Resources\\ArcToolbox\\toolboxes\\Data Management Tools.tbx#AddGeometryAttributes_management.InitializeParameters.py\u001b[0m in \u001b[0;36m<module>\u001b[1;34m\u001b[0m\n",
      "\u001b[1;31mAttributeError\u001b[0m: 'ToolValidator' object has no attribute 'isLicensed'"
     ]
    },
    {
     "ename": "AttributeError",
     "evalue": "'ToolValidator' object has no attribute 'isLicensed'",
     "output_type": "error",
     "traceback": [
      "\u001b[1;31m---------------------------------------------------------------------------\u001b[0m",
      "\u001b[1;31mAttributeError\u001b[0m                            Traceback (most recent call last)",
      "\u001b[1;32mc:\\program files\\arcgis\\pro\\Resources\\ArcToolbox\\toolboxes\\Data Management Tools.tbx#AddGeometryAttributes_management.InitializeParameters.py\u001b[0m in \u001b[0;36m<module>\u001b[1;34m\u001b[0m\n",
      "\u001b[1;31mAttributeError\u001b[0m: 'ToolValidator' object has no attribute 'isLicensed'"
     ]
    },
    {
     "name": "stdout",
     "output_type": "stream",
     "text": [
      "52.39151763916  = avg impervious percent \n",
      "1067.0760962213792\n",
      "714.8995644478233\n",
      "orb100yr06h\n",
      "4831.6557617188  = avg rainfall in inches *1000\n",
      "orb100yr06ha_am\n",
      "4811.6557617188  = avg rainfall in inches *1000\n",
      "orb100yr12h\n",
      "5415.5053710938  = avg rainfall in inches *1000\n",
      "orb100yr12ha_am\n",
      "5393.5053710938  = avg rainfall in inches *1000\n",
      "orb100yr24h\n",
      "5854.9140625  = avg rainfall in inches *1000\n",
      "orb100yr24ha_am\n",
      "5830.9140625  = avg rainfall in inches *1000\n",
      "orb25yr06h\n",
      "3725.8493652344  = avg rainfall in inches *1000\n",
      "orb25yr06ha_am\n",
      "3710.8386230469  = avg rainfall in inches *1000\n",
      "orb25yr12h\n",
      "4263.5698242188  = avg rainfall in inches *1000\n",
      "orb25yr12ha_am\n",
      "4245.5698242188  = avg rainfall in inches *1000\n",
      "orb25yr24h\n",
      "4768.4409179688  = avg rainfall in inches *1000\n",
      "orb25yr24ha_am\n",
      "4748.5805664063  = avg rainfall in inches *1000\n",
      "orb2yr06h\n",
      "2095.978515625  = avg rainfall in inches *1000\n",
      "orb2yr06ha_am\n",
      "1929.4731445313  = avg rainfall in inches *1000\n",
      "orb2yr12h\n",
      "2485.2150878906  = avg rainfall in inches *1000\n",
      "orb2yr12ha_am\n",
      "2288  = avg rainfall in inches *1000\n",
      "orb2yr24h\n",
      "2920.95703125  = avg rainfall in inches *1000\n",
      "orb2yr24ha_am\n",
      "2689.1506347656  = avg rainfall in inches *1000\n",
      "orb50yr06h\n",
      "4260.236328125  = avg rainfall in inches *1000\n",
      "orb50yr06ha_am\n",
      "4242.3657226563  = avg rainfall in inches *1000\n",
      "orb50yr12h\n",
      "4826.9248046875  = avg rainfall in inches *1000\n",
      "orb50yr12ha_am\n",
      "4806.9248046875  = avg rainfall in inches *1000\n",
      "orb50yr24h\n",
      "5309.892578125  = avg rainfall in inches *1000\n",
      "orb50yr24ha_am\n",
      "5287.892578125  = avg rainfall in inches *1000\n",
      "ZonalSt_subwate1\n",
      "5287.892578125  = avg rainfall in inches *1000\n",
      "051202011109  is the subwatershed to be worked on\n",
      "clipped dem to subwatershed area\n"
     ]
    },
    {
     "ename": "AttributeError",
     "evalue": "'ToolValidator' object has no attribute 'isLicensed'",
     "output_type": "error",
     "traceback": [
      "\u001b[1;31m---------------------------------------------------------------------------\u001b[0m",
      "\u001b[1;31mAttributeError\u001b[0m                            Traceback (most recent call last)",
      "\u001b[1;32mc:\\program files\\arcgis\\pro\\Resources\\ArcToolbox\\toolboxes\\Data Management Tools.tbx#CalculateGeometryAttributes_management.InitializeParameters.py\u001b[0m in \u001b[0;36m<module>\u001b[1;34m\u001b[0m\n",
      "\u001b[1;31mAttributeError\u001b[0m: 'ToolValidator' object has no attribute 'isLicensed'"
     ]
    },
    {
     "ename": "AttributeError",
     "evalue": "'ToolValidator' object has no attribute 'isLicensed'",
     "output_type": "error",
     "traceback": [
      "\u001b[1;31m---------------------------------------------------------------------------\u001b[0m",
      "\u001b[1;31mAttributeError\u001b[0m                            Traceback (most recent call last)",
      "\u001b[1;32mc:\\program files\\arcgis\\pro\\Resources\\ArcToolbox\\toolboxes\\Data Management Tools.tbx#CalculateGeometryAttributes_management.InitializeParameters.py\u001b[0m in \u001b[0;36m<module>\u001b[1;34m\u001b[0m\n",
      "\u001b[1;31mAttributeError\u001b[0m: 'ToolValidator' object has no attribute 'isLicensed'"
     ]
    },
    {
     "name": "stdout",
     "output_type": "stream",
     "text": [
      "70.7903450234  square kilometers\n"
     ]
    },
    {
     "ename": "AttributeError",
     "evalue": "'ToolValidator' object has no attribute 'isLicensed'",
     "output_type": "error",
     "traceback": [
      "\u001b[1;31m---------------------------------------------------------------------------\u001b[0m",
      "\u001b[1;31mAttributeError\u001b[0m                            Traceback (most recent call last)",
      "\u001b[1;32mc:\\program files\\arcgis\\pro\\Resources\\ArcToolbox\\toolboxes\\Data Management Tools.tbx#CalculateGeometryAttributes_management.InitializeParameters.py\u001b[0m in \u001b[0;36m<module>\u001b[1;34m\u001b[0m\n",
      "\u001b[1;31mAttributeError\u001b[0m: 'ToolValidator' object has no attribute 'isLicensed'"
     ]
    },
    {
     "ename": "AttributeError",
     "evalue": "'ToolValidator' object has no attribute 'isLicensed'",
     "output_type": "error",
     "traceback": [
      "\u001b[1;31m---------------------------------------------------------------------------\u001b[0m",
      "\u001b[1;31mAttributeError\u001b[0m                            Traceback (most recent call last)",
      "\u001b[1;32mc:\\program files\\arcgis\\pro\\Resources\\ArcToolbox\\toolboxes\\Data Management Tools.tbx#CalculateGeometryAttributes_management.InitializeParameters.py\u001b[0m in \u001b[0;36m<module>\u001b[1;34m\u001b[0m\n",
      "\u001b[1;31mAttributeError\u001b[0m: 'ToolValidator' object has no attribute 'isLicensed'"
     ]
    },
    {
     "name": "stdout",
     "output_type": "stream",
     "text": [
      "perimeter calculated\n",
      "55.8835736661  kilometers\n",
      "2.7931575775146  = avg slope (%)\n",
      "8.894146986599887 is the radius of a circle with the same perimeter.\n",
      "248.51835916138808 is the area of a circle with the same perimeter.\n",
      "0.284849559051807  is the circulatory ratio\n",
      "created 3d polyline of subwatershed perimeter\n",
      "created perimeter points\n",
      "added z information\n",
      "   FID  FREQUENCY       MAX_Z       MIN_Z\n",
      "0    0       8992  274.803467  207.754711\n",
      "274.803466797\n",
      "207.754711152\n",
      "The relief of the subwatershed is:  67.048755645  meters.\n"
     ]
    },
    {
     "ename": "AttributeError",
     "evalue": "'ToolValidator' object has no attribute 'isLicensed'",
     "output_type": "error",
     "traceback": [
      "\u001b[1;31m---------------------------------------------------------------------------\u001b[0m",
      "\u001b[1;31mAttributeError\u001b[0m                            Traceback (most recent call last)",
      "\u001b[1;32mc:\\program files\\arcgis\\pro\\Resources\\ArcToolbox\\toolboxes\\Data Management Tools.tbx#CalculateGeometryAttributes_management.InitializeParameters.py\u001b[0m in \u001b[0;36m<module>\u001b[1;34m\u001b[0m\n",
      "\u001b[1;31mAttributeError\u001b[0m: 'ToolValidator' object has no attribute 'isLicensed'"
     ]
    },
    {
     "ename": "AttributeError",
     "evalue": "'ToolValidator' object has no attribute 'isLicensed'",
     "output_type": "error",
     "traceback": [
      "\u001b[1;31m---------------------------------------------------------------------------\u001b[0m",
      "\u001b[1;31mAttributeError\u001b[0m                            Traceback (most recent call last)",
      "\u001b[1;32mc:\\program files\\arcgis\\pro\\Resources\\ArcToolbox\\toolboxes\\Data Management Tools.tbx#CalculateGeometryAttributes_management.InitializeParameters.py\u001b[0m in \u001b[0;36m<module>\u001b[1;34m\u001b[0m\n",
      "\u001b[1;31mAttributeError\u001b[0m: 'ToolValidator' object has no attribute 'isLicensed'"
     ]
    },
    {
     "name": "stdout",
     "output_type": "stream",
     "text": [
      "6.493809892348884  = area of all AE and A zones in the subwatershed (square km)\n"
     ]
    },
    {
     "ename": "AttributeError",
     "evalue": "'ToolValidator' object has no attribute 'isLicensed'",
     "output_type": "error",
     "traceback": [
      "\u001b[1;31m---------------------------------------------------------------------------\u001b[0m",
      "\u001b[1;31mAttributeError\u001b[0m                            Traceback (most recent call last)",
      "\u001b[1;32mc:\\program files\\arcgis\\pro\\Resources\\ArcToolbox\\toolboxes\\Data Management Tools.tbx#CalculateGeometryAttributes_management.InitializeParameters.py\u001b[0m in \u001b[0;36m<module>\u001b[1;34m\u001b[0m\n",
      "\u001b[1;31mAttributeError\u001b[0m: 'ToolValidator' object has no attribute 'isLicensed'"
     ]
    },
    {
     "ename": "AttributeError",
     "evalue": "'ToolValidator' object has no attribute 'isLicensed'",
     "output_type": "error",
     "traceback": [
      "\u001b[1;31m---------------------------------------------------------------------------\u001b[0m",
      "\u001b[1;31mAttributeError\u001b[0m                            Traceback (most recent call last)",
      "\u001b[1;32mc:\\program files\\arcgis\\pro\\Resources\\ArcToolbox\\toolboxes\\Data Management Tools.tbx#CalculateGeometryAttributes_management.InitializeParameters.py\u001b[0m in \u001b[0;36m<module>\u001b[1;34m\u001b[0m\n",
      "\u001b[1;31mAttributeError\u001b[0m: 'ToolValidator' object has no attribute 'isLicensed'"
     ]
    },
    {
     "name": "stdout",
     "output_type": "stream",
     "text": [
      "5.058019866573917  = area of all X zones, 0.2PCT zone subtype in the subwatershed (square km)\n"
     ]
    },
    {
     "ename": "AttributeError",
     "evalue": "'ToolValidator' object has no attribute 'isLicensed'",
     "output_type": "error",
     "traceback": [
      "\u001b[1;31m---------------------------------------------------------------------------\u001b[0m",
      "\u001b[1;31mAttributeError\u001b[0m                            Traceback (most recent call last)",
      "\u001b[1;32mc:\\program files\\arcgis\\pro\\Resources\\ArcToolbox\\toolboxes\\Data Management Tools.tbx#CalculateGeometryAttributes_management.InitializeParameters.py\u001b[0m in \u001b[0;36m<module>\u001b[1;34m\u001b[0m\n",
      "\u001b[1;31mAttributeError\u001b[0m: 'ToolValidator' object has no attribute 'isLicensed'"
     ]
    },
    {
     "ename": "AttributeError",
     "evalue": "'ToolValidator' object has no attribute 'isLicensed'",
     "output_type": "error",
     "traceback": [
      "\u001b[1;31m---------------------------------------------------------------------------\u001b[0m",
      "\u001b[1;31mAttributeError\u001b[0m                            Traceback (most recent call last)",
      "\u001b[1;32mc:\\program files\\arcgis\\pro\\Resources\\ArcToolbox\\toolboxes\\Data Management Tools.tbx#CalculateGeometryAttributes_management.InitializeParameters.py\u001b[0m in \u001b[0;36m<module>\u001b[1;34m\u001b[0m\n",
      "\u001b[1;31mAttributeError\u001b[0m: 'ToolValidator' object has no attribute 'isLicensed'"
     ]
    },
    {
     "name": "stdout",
     "output_type": "stream",
     "text": [
      "1.2954169080724378  = area of all water bodies in the subwatershed (square km)\n",
      "0  = number of dams in the subwatershed\n",
      "53  = number of bridges in the subwatershed\n"
     ]
    },
    {
     "ename": "AttributeError",
     "evalue": "'ToolValidator' object has no attribute 'isLicensed'",
     "output_type": "error",
     "traceback": [
      "\u001b[1;31m---------------------------------------------------------------------------\u001b[0m",
      "\u001b[1;31mAttributeError\u001b[0m                            Traceback (most recent call last)",
      "\u001b[1;32mc:\\program files\\arcgis\\pro\\Resources\\ArcToolbox\\toolboxes\\Data Management Tools.tbx#CalculateGeometryAttributes_management.InitializeParameters.py\u001b[0m in \u001b[0;36m<module>\u001b[1;34m\u001b[0m\n",
      "\u001b[1;31mAttributeError\u001b[0m: 'ToolValidator' object has no attribute 'isLicensed'"
     ]
    },
    {
     "ename": "AttributeError",
     "evalue": "'ToolValidator' object has no attribute 'isLicensed'",
     "output_type": "error",
     "traceback": [
      "\u001b[1;31m---------------------------------------------------------------------------\u001b[0m",
      "\u001b[1;31mAttributeError\u001b[0m                            Traceback (most recent call last)",
      "\u001b[1;32mc:\\program files\\arcgis\\pro\\Resources\\ArcToolbox\\toolboxes\\Data Management Tools.tbx#CalculateGeometryAttributes_management.InitializeParameters.py\u001b[0m in \u001b[0;36m<module>\u001b[1;34m\u001b[0m\n",
      "\u001b[1;31mAttributeError\u001b[0m: 'ToolValidator' object has no attribute 'isLicensed'"
     ]
    },
    {
     "name": "stdout",
     "output_type": "stream",
     "text": [
      "655.6606502121712  = sum of all streets in the subwatershed (km)\n"
     ]
    },
    {
     "ename": "AttributeError",
     "evalue": "'ToolValidator' object has no attribute 'isLicensed'",
     "output_type": "error",
     "traceback": [
      "\u001b[1;31m---------------------------------------------------------------------------\u001b[0m",
      "\u001b[1;31mAttributeError\u001b[0m                            Traceback (most recent call last)",
      "\u001b[1;32mc:\\program files\\arcgis\\pro\\Resources\\ArcToolbox\\toolboxes\\Data Management Tools.tbx#CalculateGeometryAttributes_management.InitializeParameters.py\u001b[0m in \u001b[0;36m<module>\u001b[1;34m\u001b[0m\n",
      "\u001b[1;31mAttributeError\u001b[0m: 'ToolValidator' object has no attribute 'isLicensed'"
     ]
    },
    {
     "ename": "AttributeError",
     "evalue": "'ToolValidator' object has no attribute 'isLicensed'",
     "output_type": "error",
     "traceback": [
      "\u001b[1;31m---------------------------------------------------------------------------\u001b[0m",
      "\u001b[1;31mAttributeError\u001b[0m                            Traceback (most recent call last)",
      "\u001b[1;32mc:\\program files\\arcgis\\pro\\Resources\\ArcToolbox\\toolboxes\\Data Management Tools.tbx#CalculateGeometryAttributes_management.InitializeParameters.py\u001b[0m in \u001b[0;36m<module>\u001b[1;34m\u001b[0m\n",
      "\u001b[1;31mAttributeError\u001b[0m: 'ToolValidator' object has no attribute 'isLicensed'"
     ]
    },
    {
     "name": "stdout",
     "output_type": "stream",
     "text": [
      "24.866429318823  = sum of all railroads in the subwatershed (km)\n",
      "148708  = total population in the subwatershed\n",
      "36.86176470588235  = total percent of dependent population in the subwatershed\n",
      "2100.681949647852  = population density of subwatershed (people/square km)\n",
      "49237.32352941176  = average median income in the subwatershed\n",
      "19679  = number of residential building footprints in the subwatershed\n",
      "277.9898868058213  = housing density (buildings per square km)\n",
      "141399  = total 2013 population in the subwatershed\n",
      "7309  = population change between 2013 and 2018\n",
      "streams clipped\n"
     ]
    },
    {
     "ename": "AttributeError",
     "evalue": "'ToolValidator' object has no attribute 'isLicensed'",
     "output_type": "error",
     "traceback": [
      "\u001b[1;31m---------------------------------------------------------------------------\u001b[0m",
      "\u001b[1;31mAttributeError\u001b[0m                            Traceback (most recent call last)",
      "\u001b[1;32mc:\\program files\\arcgis\\pro\\Resources\\ArcToolbox\\toolboxes\\Data Management Tools.tbx#CalculateGeometryAttributes_management.InitializeParameters.py\u001b[0m in \u001b[0;36m<module>\u001b[1;34m\u001b[0m\n",
      "\u001b[1;31mAttributeError\u001b[0m: 'ToolValidator' object has no attribute 'isLicensed'"
     ]
    },
    {
     "ename": "AttributeError",
     "evalue": "'ToolValidator' object has no attribute 'isLicensed'",
     "output_type": "error",
     "traceback": [
      "\u001b[1;31m---------------------------------------------------------------------------\u001b[0m",
      "\u001b[1;31mAttributeError\u001b[0m                            Traceback (most recent call last)",
      "\u001b[1;32mc:\\program files\\arcgis\\pro\\Resources\\ArcToolbox\\toolboxes\\Data Management Tools.tbx#CalculateGeometryAttributes_management.InitializeParameters.py\u001b[0m in \u001b[0;36m<module>\u001b[1;34m\u001b[0m\n",
      "\u001b[1;31mAttributeError\u001b[0m: 'ToolValidator' object has no attribute 'isLicensed'"
     ]
    },
    {
     "name": "stdout",
     "output_type": "stream",
     "text": [
      "length calculated\n",
      "84.729720720941  = length of all streams in subwatershed\n",
      "70.7903450234  = subwatershed area\n",
      "1.1969106901927558 is the drainage density (streams/km)\n",
      "20.3486764245  = watershed length (longest stream in subwatershed)\n",
      "5.849224666049166  is the shape factor.\n",
      "0.003294993455410823  = relief ratio\n",
      "0.067048755645  is the relief in km\n",
      "0.08025137239562238  is the ruggedness number\n",
      "4.746921809689909  miles is the radius of a circle with the same area.\n",
      "9.493843619379819  miles is the diameter of a circle with the same area.\n"
     ]
    },
    {
     "ename": "AttributeError",
     "evalue": "'ToolValidator' object has no attribute 'isLicensed'",
     "output_type": "error",
     "traceback": [
      "\u001b[1;31m---------------------------------------------------------------------------\u001b[0m",
      "\u001b[1;31mAttributeError\u001b[0m                            Traceback (most recent call last)",
      "\u001b[1;32mc:\\program files\\arcgis\\pro\\Resources\\ArcToolbox\\toolboxes\\Data Management Tools.tbx#AddGeometryAttributes_management.InitializeParameters.py\u001b[0m in \u001b[0;36m<module>\u001b[1;34m\u001b[0m\n",
      "\u001b[1;31mAttributeError\u001b[0m: 'ToolValidator' object has no attribute 'isLicensed'"
     ]
    },
    {
     "ename": "AttributeError",
     "evalue": "'ToolValidator' object has no attribute 'isLicensed'",
     "output_type": "error",
     "traceback": [
      "\u001b[1;31m---------------------------------------------------------------------------\u001b[0m",
      "\u001b[1;31mAttributeError\u001b[0m                            Traceback (most recent call last)",
      "\u001b[1;32mc:\\program files\\arcgis\\pro\\Resources\\ArcToolbox\\toolboxes\\Data Management Tools.tbx#AddGeometryAttributes_management.InitializeParameters.py\u001b[0m in \u001b[0;36m<module>\u001b[1;34m\u001b[0m\n",
      "\u001b[1;31mAttributeError\u001b[0m: 'ToolValidator' object has no attribute 'isLicensed'"
     ]
    },
    {
     "name": "stdout",
     "output_type": "stream",
     "text": [
      "38.981884002686  = avg impervious percent \n",
      "311.19054055314854\n",
      "238.75451907415263\n",
      "orb100yr06h\n",
      "4912.8110351563  = avg rainfall in inches *1000\n",
      "orb100yr06ha_am\n",
      "4892.8110351563  = avg rainfall in inches *1000\n",
      "orb100yr12h\n",
      "5488.20703125  = avg rainfall in inches *1000\n",
      "orb100yr12ha_am\n",
      "5465.8466796875  = avg rainfall in inches *1000\n",
      "orb100yr24h\n",
      "6017.9370117188  = avg rainfall in inches *1000\n",
      "orb100yr24ha_am\n",
      "5993.2880859375  = avg rainfall in inches *1000\n",
      "orb25yr06h\n",
      "3776.8198242188  = avg rainfall in inches *1000\n",
      "orb25yr06ha_am\n",
      "3760.837890625  = avg rainfall in inches *1000\n",
      "orb25yr12h\n",
      "4306.4326171875  = avg rainfall in inches *1000\n",
      "orb25yr12ha_am\n",
      "4288.4326171875  = avg rainfall in inches *1000\n",
      "orb25yr24h\n",
      "4865.6484375  = avg rainfall in inches *1000\n",
      "orb25yr24ha_am\n",
      "4845.6484375  = avg rainfall in inches *1000\n",
      "orb2yr06h\n",
      "2114.2431640625  = avg rainfall in inches *1000\n",
      "orb2yr06ha_am\n",
      "1946.3513183594  = avg rainfall in inches *1000\n",
      "orb2yr12h\n",
      "2497.4323730469  = avg rainfall in inches *1000\n",
      "orb2yr12ha_am\n",
      "2299.2702636719  = avg rainfall in inches *1000\n",
      "orb2yr24h\n",
      "2949.0539550781  = avg rainfall in inches *1000\n",
      "orb2yr24ha_am\n",
      "2714.9819335938  = avg rainfall in inches *1000\n",
      "orb50yr06h\n",
      "4325.4506835938  = avg rainfall in inches *1000\n",
      "orb50yr06ha_am\n",
      "4307.4506835938  = avg rainfall in inches *1000\n",
      "orb50yr12h\n",
      "4882.6938476563  = avg rainfall in inches *1000\n",
      "orb50yr12ha_am\n",
      "4862.6938476563  = avg rainfall in inches *1000\n",
      "orb50yr24h\n",
      "5436.1171875  = avg rainfall in inches *1000\n",
      "orb50yr24ha_am\n",
      "5414.1079101563  = avg rainfall in inches *1000\n",
      "ZonalSt_subwate2\n",
      "5414.1079101563  = avg rainfall in inches *1000\n",
      "051202011204  is the subwatershed to be worked on\n",
      "clipped dem to subwatershed area\n"
     ]
    },
    {
     "ename": "AttributeError",
     "evalue": "'ToolValidator' object has no attribute 'isLicensed'",
     "output_type": "error",
     "traceback": [
      "\u001b[1;31m---------------------------------------------------------------------------\u001b[0m",
      "\u001b[1;31mAttributeError\u001b[0m                            Traceback (most recent call last)",
      "\u001b[1;32mc:\\program files\\arcgis\\pro\\Resources\\ArcToolbox\\toolboxes\\Data Management Tools.tbx#CalculateGeometryAttributes_management.InitializeParameters.py\u001b[0m in \u001b[0;36m<module>\u001b[1;34m\u001b[0m\n",
      "\u001b[1;31mAttributeError\u001b[0m: 'ToolValidator' object has no attribute 'isLicensed'"
     ]
    },
    {
     "ename": "AttributeError",
     "evalue": "'ToolValidator' object has no attribute 'isLicensed'",
     "output_type": "error",
     "traceback": [
      "\u001b[1;31m---------------------------------------------------------------------------\u001b[0m",
      "\u001b[1;31mAttributeError\u001b[0m                            Traceback (most recent call last)",
      "\u001b[1;32mc:\\program files\\arcgis\\pro\\Resources\\ArcToolbox\\toolboxes\\Data Management Tools.tbx#CalculateGeometryAttributes_management.InitializeParameters.py\u001b[0m in \u001b[0;36m<module>\u001b[1;34m\u001b[0m\n",
      "\u001b[1;31mAttributeError\u001b[0m: 'ToolValidator' object has no attribute 'isLicensed'"
     ]
    },
    {
     "name": "stdout",
     "output_type": "stream",
     "text": [
      "44.7930740351  square kilometers\n"
     ]
    },
    {
     "ename": "AttributeError",
     "evalue": "'ToolValidator' object has no attribute 'isLicensed'",
     "output_type": "error",
     "traceback": [
      "\u001b[1;31m---------------------------------------------------------------------------\u001b[0m",
      "\u001b[1;31mAttributeError\u001b[0m                            Traceback (most recent call last)",
      "\u001b[1;32mc:\\program files\\arcgis\\pro\\Resources\\ArcToolbox\\toolboxes\\Data Management Tools.tbx#CalculateGeometryAttributes_management.InitializeParameters.py\u001b[0m in \u001b[0;36m<module>\u001b[1;34m\u001b[0m\n",
      "\u001b[1;31mAttributeError\u001b[0m: 'ToolValidator' object has no attribute 'isLicensed'"
     ]
    },
    {
     "ename": "AttributeError",
     "evalue": "'ToolValidator' object has no attribute 'isLicensed'",
     "output_type": "error",
     "traceback": [
      "\u001b[1;31m---------------------------------------------------------------------------\u001b[0m",
      "\u001b[1;31mAttributeError\u001b[0m                            Traceback (most recent call last)",
      "\u001b[1;32mc:\\program files\\arcgis\\pro\\Resources\\ArcToolbox\\toolboxes\\Data Management Tools.tbx#CalculateGeometryAttributes_management.InitializeParameters.py\u001b[0m in \u001b[0;36m<module>\u001b[1;34m\u001b[0m\n",
      "\u001b[1;31mAttributeError\u001b[0m: 'ToolValidator' object has no attribute 'isLicensed'"
     ]
    },
    {
     "name": "stdout",
     "output_type": "stream",
     "text": [
      "perimeter calculated\n",
      "58.4802399681  kilometers\n",
      "3.5403394699097  = avg slope (%)\n",
      "9.30741926412334 is the radius of a circle with the same perimeter.\n",
      "272.1500560248248 is the area of a circle with the same perimeter.\n",
      "0.16458961901155772  is the circulatory ratio\n",
      "created 3d polyline of subwatershed perimeter\n",
      "created perimeter points\n",
      "added z information\n",
      "   FID  FREQUENCY       MAX_Z      MIN_Z\n",
      "0    0       9533  275.590744  197.94043\n",
      "275.590744018\n",
      "197.940429688\n",
      "The relief of the subwatershed is:  77.65031433000001  meters.\n"
     ]
    },
    {
     "ename": "AttributeError",
     "evalue": "'ToolValidator' object has no attribute 'isLicensed'",
     "output_type": "error",
     "traceback": [
      "\u001b[1;31m---------------------------------------------------------------------------\u001b[0m",
      "\u001b[1;31mAttributeError\u001b[0m                            Traceback (most recent call last)",
      "\u001b[1;32mc:\\program files\\arcgis\\pro\\Resources\\ArcToolbox\\toolboxes\\Data Management Tools.tbx#CalculateGeometryAttributes_management.InitializeParameters.py\u001b[0m in \u001b[0;36m<module>\u001b[1;34m\u001b[0m\n",
      "\u001b[1;31mAttributeError\u001b[0m: 'ToolValidator' object has no attribute 'isLicensed'"
     ]
    },
    {
     "ename": "AttributeError",
     "evalue": "'ToolValidator' object has no attribute 'isLicensed'",
     "output_type": "error",
     "traceback": [
      "\u001b[1;31m---------------------------------------------------------------------------\u001b[0m",
      "\u001b[1;31mAttributeError\u001b[0m                            Traceback (most recent call last)",
      "\u001b[1;32mc:\\program files\\arcgis\\pro\\Resources\\ArcToolbox\\toolboxes\\Data Management Tools.tbx#CalculateGeometryAttributes_management.InitializeParameters.py\u001b[0m in \u001b[0;36m<module>\u001b[1;34m\u001b[0m\n",
      "\u001b[1;31mAttributeError\u001b[0m: 'ToolValidator' object has no attribute 'isLicensed'"
     ]
    },
    {
     "name": "stdout",
     "output_type": "stream",
     "text": [
      "3.1290269518341143  = area of all AE and A zones in the subwatershed (square km)\n"
     ]
    },
    {
     "ename": "AttributeError",
     "evalue": "'ToolValidator' object has no attribute 'isLicensed'",
     "output_type": "error",
     "traceback": [
      "\u001b[1;31m---------------------------------------------------------------------------\u001b[0m",
      "\u001b[1;31mAttributeError\u001b[0m                            Traceback (most recent call last)",
      "\u001b[1;32mc:\\program files\\arcgis\\pro\\Resources\\ArcToolbox\\toolboxes\\Data Management Tools.tbx#CalculateGeometryAttributes_management.InitializeParameters.py\u001b[0m in \u001b[0;36m<module>\u001b[1;34m\u001b[0m\n",
      "\u001b[1;31mAttributeError\u001b[0m: 'ToolValidator' object has no attribute 'isLicensed'"
     ]
    },
    {
     "ename": "AttributeError",
     "evalue": "'ToolValidator' object has no attribute 'isLicensed'",
     "output_type": "error",
     "traceback": [
      "\u001b[1;31m---------------------------------------------------------------------------\u001b[0m",
      "\u001b[1;31mAttributeError\u001b[0m                            Traceback (most recent call last)",
      "\u001b[1;32mc:\\program files\\arcgis\\pro\\Resources\\ArcToolbox\\toolboxes\\Data Management Tools.tbx#CalculateGeometryAttributes_management.InitializeParameters.py\u001b[0m in \u001b[0;36m<module>\u001b[1;34m\u001b[0m\n",
      "\u001b[1;31mAttributeError\u001b[0m: 'ToolValidator' object has no attribute 'isLicensed'"
     ]
    },
    {
     "name": "stdout",
     "output_type": "stream",
     "text": [
      "2.16097906110656  = area of all X zones, 0.2PCT zone subtype in the subwatershed (square km)\n"
     ]
    },
    {
     "ename": "AttributeError",
     "evalue": "'ToolValidator' object has no attribute 'isLicensed'",
     "output_type": "error",
     "traceback": [
      "\u001b[1;31m---------------------------------------------------------------------------\u001b[0m",
      "\u001b[1;31mAttributeError\u001b[0m                            Traceback (most recent call last)",
      "\u001b[1;32mc:\\program files\\arcgis\\pro\\Resources\\ArcToolbox\\toolboxes\\Data Management Tools.tbx#CalculateGeometryAttributes_management.InitializeParameters.py\u001b[0m in \u001b[0;36m<module>\u001b[1;34m\u001b[0m\n",
      "\u001b[1;31mAttributeError\u001b[0m: 'ToolValidator' object has no attribute 'isLicensed'"
     ]
    },
    {
     "ename": "AttributeError",
     "evalue": "'ToolValidator' object has no attribute 'isLicensed'",
     "output_type": "error",
     "traceback": [
      "\u001b[1;31m---------------------------------------------------------------------------\u001b[0m",
      "\u001b[1;31mAttributeError\u001b[0m                            Traceback (most recent call last)",
      "\u001b[1;32mc:\\program files\\arcgis\\pro\\Resources\\ArcToolbox\\toolboxes\\Data Management Tools.tbx#CalculateGeometryAttributes_management.InitializeParameters.py\u001b[0m in \u001b[0;36m<module>\u001b[1;34m\u001b[0m\n",
      "\u001b[1;31mAttributeError\u001b[0m: 'ToolValidator' object has no attribute 'isLicensed'"
     ]
    },
    {
     "name": "stdout",
     "output_type": "stream",
     "text": [
      "0.8483513768648305  = area of all water bodies in the subwatershed (square km)\n",
      "0  = number of dams in the subwatershed\n",
      "33  = number of bridges in the subwatershed\n"
     ]
    },
    {
     "ename": "AttributeError",
     "evalue": "'ToolValidator' object has no attribute 'isLicensed'",
     "output_type": "error",
     "traceback": [
      "\u001b[1;31m---------------------------------------------------------------------------\u001b[0m",
      "\u001b[1;31mAttributeError\u001b[0m                            Traceback (most recent call last)",
      "\u001b[1;32mc:\\program files\\arcgis\\pro\\Resources\\ArcToolbox\\toolboxes\\Data Management Tools.tbx#CalculateGeometryAttributes_management.InitializeParameters.py\u001b[0m in \u001b[0;36m<module>\u001b[1;34m\u001b[0m\n",
      "\u001b[1;31mAttributeError\u001b[0m: 'ToolValidator' object has no attribute 'isLicensed'"
     ]
    },
    {
     "ename": "AttributeError",
     "evalue": "'ToolValidator' object has no attribute 'isLicensed'",
     "output_type": "error",
     "traceback": [
      "\u001b[1;31m---------------------------------------------------------------------------\u001b[0m",
      "\u001b[1;31mAttributeError\u001b[0m                            Traceback (most recent call last)",
      "\u001b[1;32mc:\\program files\\arcgis\\pro\\Resources\\ArcToolbox\\toolboxes\\Data Management Tools.tbx#CalculateGeometryAttributes_management.InitializeParameters.py\u001b[0m in \u001b[0;36m<module>\u001b[1;34m\u001b[0m\n",
      "\u001b[1;31mAttributeError\u001b[0m: 'ToolValidator' object has no attribute 'isLicensed'"
     ]
    },
    {
     "name": "stdout",
     "output_type": "stream",
     "text": [
      "379.6205895988071  = sum of all streets in the subwatershed (km)\n"
     ]
    },
    {
     "ename": "AttributeError",
     "evalue": "'ToolValidator' object has no attribute 'isLicensed'",
     "output_type": "error",
     "traceback": [
      "\u001b[1;31m---------------------------------------------------------------------------\u001b[0m",
      "\u001b[1;31mAttributeError\u001b[0m                            Traceback (most recent call last)",
      "\u001b[1;32mc:\\program files\\arcgis\\pro\\Resources\\ArcToolbox\\toolboxes\\Data Management Tools.tbx#CalculateGeometryAttributes_management.InitializeParameters.py\u001b[0m in \u001b[0;36m<module>\u001b[1;34m\u001b[0m\n",
      "\u001b[1;31mAttributeError\u001b[0m: 'ToolValidator' object has no attribute 'isLicensed'"
     ]
    },
    {
     "ename": "AttributeError",
     "evalue": "'ToolValidator' object has no attribute 'isLicensed'",
     "output_type": "error",
     "traceback": [
      "\u001b[1;31m---------------------------------------------------------------------------\u001b[0m",
      "\u001b[1;31mAttributeError\u001b[0m                            Traceback (most recent call last)",
      "\u001b[1;32mc:\\program files\\arcgis\\pro\\Resources\\ArcToolbox\\toolboxes\\Data Management Tools.tbx#CalculateGeometryAttributes_management.InitializeParameters.py\u001b[0m in \u001b[0;36m<module>\u001b[1;34m\u001b[0m\n",
      "\u001b[1;31mAttributeError\u001b[0m: 'ToolValidator' object has no attribute 'isLicensed'"
     ]
    },
    {
     "name": "stdout",
     "output_type": "stream",
     "text": [
      "5.418029948919999  = sum of all railroads in the subwatershed (km)\n",
      "115395  = total population in the subwatershed\n",
      "39.43125  = total percent of dependent population in the subwatershed\n",
      "2576.1795207351947  = population density of subwatershed (people/square km)\n",
      "58519.125  = average median income in the subwatershed\n",
      "11077  = number of residential building footprints in the subwatershed\n",
      "247.29269510103342  = housing density (buildings per square km)\n",
      "109911  = total 2013 population in the subwatershed\n",
      "5484  = population change between 2013 and 2018\n",
      "streams clipped\n"
     ]
    },
    {
     "ename": "AttributeError",
     "evalue": "'ToolValidator' object has no attribute 'isLicensed'",
     "output_type": "error",
     "traceback": [
      "\u001b[1;31m---------------------------------------------------------------------------\u001b[0m",
      "\u001b[1;31mAttributeError\u001b[0m                            Traceback (most recent call last)",
      "\u001b[1;32mc:\\program files\\arcgis\\pro\\Resources\\ArcToolbox\\toolboxes\\Data Management Tools.tbx#CalculateGeometryAttributes_management.InitializeParameters.py\u001b[0m in \u001b[0;36m<module>\u001b[1;34m\u001b[0m\n",
      "\u001b[1;31mAttributeError\u001b[0m: 'ToolValidator' object has no attribute 'isLicensed'"
     ]
    },
    {
     "ename": "AttributeError",
     "evalue": "'ToolValidator' object has no attribute 'isLicensed'",
     "output_type": "error",
     "traceback": [
      "\u001b[1;31m---------------------------------------------------------------------------\u001b[0m",
      "\u001b[1;31mAttributeError\u001b[0m                            Traceback (most recent call last)",
      "\u001b[1;32mc:\\program files\\arcgis\\pro\\Resources\\ArcToolbox\\toolboxes\\Data Management Tools.tbx#CalculateGeometryAttributes_management.InitializeParameters.py\u001b[0m in \u001b[0;36m<module>\u001b[1;34m\u001b[0m\n",
      "\u001b[1;31mAttributeError\u001b[0m: 'ToolValidator' object has no attribute 'isLicensed'"
     ]
    },
    {
     "name": "stdout",
     "output_type": "stream",
     "text": [
      "length calculated\n",
      "53.720535669352316  = length of all streams in subwatershed\n",
      "44.7930740351  = subwatershed area\n",
      "1.1993045091581955 is the drainage density (streams/km)\n",
      "25.413833139  = watershed length (longest stream in subwatershed)\n",
      "14.418812031316145  is the shape factor.\n",
      "0.0030554349635214233  = relief ratio\n",
      "0.07765031433000001  is the relief in km\n",
      "0.09312637211352026  is the ruggedness number\n",
      "3.7759870627340333  miles is the radius of a circle with the same area.\n",
      "7.551974125468067  miles is the diameter of a circle with the same area.\n"
     ]
    },
    {
     "ename": "AttributeError",
     "evalue": "'ToolValidator' object has no attribute 'isLicensed'",
     "output_type": "error",
     "traceback": [
      "\u001b[1;31m---------------------------------------------------------------------------\u001b[0m",
      "\u001b[1;31mAttributeError\u001b[0m                            Traceback (most recent call last)",
      "\u001b[1;32mc:\\program files\\arcgis\\pro\\Resources\\ArcToolbox\\toolboxes\\Data Management Tools.tbx#AddGeometryAttributes_management.InitializeParameters.py\u001b[0m in \u001b[0;36m<module>\u001b[1;34m\u001b[0m\n",
      "\u001b[1;31mAttributeError\u001b[0m: 'ToolValidator' object has no attribute 'isLicensed'"
     ]
    },
    {
     "ename": "AttributeError",
     "evalue": "'ToolValidator' object has no attribute 'isLicensed'",
     "output_type": "error",
     "traceback": [
      "\u001b[1;31m---------------------------------------------------------------------------\u001b[0m",
      "\u001b[1;31mAttributeError\u001b[0m                            Traceback (most recent call last)",
      "\u001b[1;32mc:\\program files\\arcgis\\pro\\Resources\\ArcToolbox\\toolboxes\\Data Management Tools.tbx#AddGeometryAttributes_management.InitializeParameters.py\u001b[0m in \u001b[0;36m<module>\u001b[1;34m\u001b[0m\n",
      "\u001b[1;31mAttributeError\u001b[0m: 'ToolValidator' object has no attribute 'isLicensed'"
     ]
    },
    {
     "name": "stdout",
     "output_type": "stream",
     "text": [
      "26.336078643799  = avg impervious percent \n",
      "339.41898847373284\n",
      "247.6575915482619\n",
      "orb100yr06h\n",
      "4788.4262695313  = avg rainfall in inches *1000\n",
      "orb100yr06ha_am\n",
      "4768.4262695313  = avg rainfall in inches *1000\n",
      "orb100yr12h\n",
      "5376.4853515625  = avg rainfall in inches *1000\n",
      "orb100yr12ha_am\n",
      "5354.4853515625  = avg rainfall in inches *1000\n",
      "orb100yr24h\n",
      "5798.8530273438  = avg rainfall in inches *1000\n",
      "orb100yr24ha_am\n",
      "5774.8530273438  = avg rainfall in inches *1000\n",
      "orb25yr06h\n",
      "3688.1765136719  = avg rainfall in inches *1000\n",
      "orb25yr06ha_am\n",
      "3673.1765136719  = avg rainfall in inches *1000\n",
      "orb25yr12h\n",
      "4227.5439453125  = avg rainfall in inches *1000\n",
      "orb25yr12ha_am\n",
      "4210.5146484375  = avg rainfall in inches *1000\n",
      "orb25yr24h\n",
      "4731.6469726563  = avg rainfall in inches *1000\n",
      "orb25yr24ha_am\n",
      "4712.5737304688  = avg rainfall in inches *1000\n",
      "orb2yr06h\n",
      "2070.1176757813  = avg rainfall in inches *1000\n",
      "orb2yr06ha_am\n",
      "1905.7794189453  = avg rainfall in inches *1000\n",
      "orb2yr12h\n",
      "2461.75  = avg rainfall in inches *1000\n",
      "orb2yr12ha_am\n",
      "2266.3969726563  = avg rainfall in inches *1000\n",
      "orb2yr24h\n",
      "2908.7941894531  = avg rainfall in inches *1000\n",
      "orb2yr24ha_am\n",
      "2677.8234863281  = avg rainfall in inches *1000\n",
      "orb50yr06h\n",
      "4219.6762695313  = avg rainfall in inches *1000\n",
      "orb50yr06ha_am\n",
      "4202.6469726563  = avg rainfall in inches *1000\n",
      "orb50yr12h\n",
      "4789.529296875  = avg rainfall in inches *1000\n",
      "orb50yr12ha_am\n",
      "4769.529296875  = avg rainfall in inches *1000\n",
      "orb50yr24h\n",
      "5263.0146484375  = avg rainfall in inches *1000\n",
      "orb50yr24ha_am\n",
      "5241.0146484375  = avg rainfall in inches *1000\n",
      "ZonalSt_subwate1\n",
      "5241.0146484375  = avg rainfall in inches *1000\n",
      "051202011006  is the subwatershed to be worked on\n",
      "clipped dem to subwatershed area\n"
     ]
    },
    {
     "ename": "AttributeError",
     "evalue": "'ToolValidator' object has no attribute 'isLicensed'",
     "output_type": "error",
     "traceback": [
      "\u001b[1;31m---------------------------------------------------------------------------\u001b[0m",
      "\u001b[1;31mAttributeError\u001b[0m                            Traceback (most recent call last)",
      "\u001b[1;32mc:\\program files\\arcgis\\pro\\Resources\\ArcToolbox\\toolboxes\\Data Management Tools.tbx#CalculateGeometryAttributes_management.InitializeParameters.py\u001b[0m in \u001b[0;36m<module>\u001b[1;34m\u001b[0m\n",
      "\u001b[1;31mAttributeError\u001b[0m: 'ToolValidator' object has no attribute 'isLicensed'"
     ]
    },
    {
     "ename": "AttributeError",
     "evalue": "'ToolValidator' object has no attribute 'isLicensed'",
     "output_type": "error",
     "traceback": [
      "\u001b[1;31m---------------------------------------------------------------------------\u001b[0m",
      "\u001b[1;31mAttributeError\u001b[0m                            Traceback (most recent call last)",
      "\u001b[1;32mc:\\program files\\arcgis\\pro\\Resources\\ArcToolbox\\toolboxes\\Data Management Tools.tbx#CalculateGeometryAttributes_management.InitializeParameters.py\u001b[0m in \u001b[0;36m<module>\u001b[1;34m\u001b[0m\n",
      "\u001b[1;31mAttributeError\u001b[0m: 'ToolValidator' object has no attribute 'isLicensed'"
     ]
    },
    {
     "name": "stdout",
     "output_type": "stream",
     "text": [
      "84.5958670316  square kilometers\n"
     ]
    },
    {
     "ename": "AttributeError",
     "evalue": "'ToolValidator' object has no attribute 'isLicensed'",
     "output_type": "error",
     "traceback": [
      "\u001b[1;31m---------------------------------------------------------------------------\u001b[0m",
      "\u001b[1;31mAttributeError\u001b[0m                            Traceback (most recent call last)",
      "\u001b[1;32mc:\\program files\\arcgis\\pro\\Resources\\ArcToolbox\\toolboxes\\Data Management Tools.tbx#CalculateGeometryAttributes_management.InitializeParameters.py\u001b[0m in \u001b[0;36m<module>\u001b[1;34m\u001b[0m\n",
      "\u001b[1;31mAttributeError\u001b[0m: 'ToolValidator' object has no attribute 'isLicensed'"
     ]
    },
    {
     "ename": "AttributeError",
     "evalue": "'ToolValidator' object has no attribute 'isLicensed'",
     "output_type": "error",
     "traceback": [
      "\u001b[1;31m---------------------------------------------------------------------------\u001b[0m",
      "\u001b[1;31mAttributeError\u001b[0m                            Traceback (most recent call last)",
      "\u001b[1;32mc:\\program files\\arcgis\\pro\\Resources\\ArcToolbox\\toolboxes\\Data Management Tools.tbx#CalculateGeometryAttributes_management.InitializeParameters.py\u001b[0m in \u001b[0;36m<module>\u001b[1;34m\u001b[0m\n",
      "\u001b[1;31mAttributeError\u001b[0m: 'ToolValidator' object has no attribute 'isLicensed'"
     ]
    },
    {
     "name": "stdout",
     "output_type": "stream",
     "text": [
      "perimeter calculated\n",
      "75.1232035131  kilometers\n",
      "3.6725513935089  = avg slope (%)\n",
      "11.956229180008302 is the radius of a circle with the same perimeter.\n",
      "449.0951189695142 is the area of a circle with the same perimeter.\n",
      "0.18836959801681255  is the circulatory ratio\n",
      "created 3d polyline of subwatershed perimeter\n",
      "created perimeter points\n",
      "added z information\n",
      "   FID  FREQUENCY       MAX_Z       MIN_Z\n",
      "0    0      12059  265.676788  207.213745\n",
      "265.676788328\n",
      "207.213745117\n",
      "The relief of the subwatershed is:  58.463043210999984  meters.\n"
     ]
    },
    {
     "ename": "AttributeError",
     "evalue": "'ToolValidator' object has no attribute 'isLicensed'",
     "output_type": "error",
     "traceback": [
      "\u001b[1;31m---------------------------------------------------------------------------\u001b[0m",
      "\u001b[1;31mAttributeError\u001b[0m                            Traceback (most recent call last)",
      "\u001b[1;32mc:\\program files\\arcgis\\pro\\Resources\\ArcToolbox\\toolboxes\\Data Management Tools.tbx#CalculateGeometryAttributes_management.InitializeParameters.py\u001b[0m in \u001b[0;36m<module>\u001b[1;34m\u001b[0m\n",
      "\u001b[1;31mAttributeError\u001b[0m: 'ToolValidator' object has no attribute 'isLicensed'"
     ]
    },
    {
     "ename": "AttributeError",
     "evalue": "'ToolValidator' object has no attribute 'isLicensed'",
     "output_type": "error",
     "traceback": [
      "\u001b[1;31m---------------------------------------------------------------------------\u001b[0m",
      "\u001b[1;31mAttributeError\u001b[0m                            Traceback (most recent call last)",
      "\u001b[1;32mc:\\program files\\arcgis\\pro\\Resources\\ArcToolbox\\toolboxes\\Data Management Tools.tbx#CalculateGeometryAttributes_management.InitializeParameters.py\u001b[0m in \u001b[0;36m<module>\u001b[1;34m\u001b[0m\n",
      "\u001b[1;31mAttributeError\u001b[0m: 'ToolValidator' object has no attribute 'isLicensed'"
     ]
    },
    {
     "name": "stdout",
     "output_type": "stream",
     "text": [
      "15.582764004771786  = area of all AE and A zones in the subwatershed (square km)\n"
     ]
    },
    {
     "ename": "AttributeError",
     "evalue": "'ToolValidator' object has no attribute 'isLicensed'",
     "output_type": "error",
     "traceback": [
      "\u001b[1;31m---------------------------------------------------------------------------\u001b[0m",
      "\u001b[1;31mAttributeError\u001b[0m                            Traceback (most recent call last)",
      "\u001b[1;32mc:\\program files\\arcgis\\pro\\Resources\\ArcToolbox\\toolboxes\\Data Management Tools.tbx#CalculateGeometryAttributes_management.InitializeParameters.py\u001b[0m in \u001b[0;36m<module>\u001b[1;34m\u001b[0m\n",
      "\u001b[1;31mAttributeError\u001b[0m: 'ToolValidator' object has no attribute 'isLicensed'"
     ]
    },
    {
     "ename": "AttributeError",
     "evalue": "'ToolValidator' object has no attribute 'isLicensed'",
     "output_type": "error",
     "traceback": [
      "\u001b[1;31m---------------------------------------------------------------------------\u001b[0m",
      "\u001b[1;31mAttributeError\u001b[0m                            Traceback (most recent call last)",
      "\u001b[1;32mc:\\program files\\arcgis\\pro\\Resources\\ArcToolbox\\toolboxes\\Data Management Tools.tbx#CalculateGeometryAttributes_management.InitializeParameters.py\u001b[0m in \u001b[0;36m<module>\u001b[1;34m\u001b[0m\n",
      "\u001b[1;31mAttributeError\u001b[0m: 'ToolValidator' object has no attribute 'isLicensed'"
     ]
    },
    {
     "name": "stdout",
     "output_type": "stream",
     "text": [
      "3.5308290041258217  = area of all X zones, 0.2PCT zone subtype in the subwatershed (square km)\n"
     ]
    },
    {
     "ename": "AttributeError",
     "evalue": "'ToolValidator' object has no attribute 'isLicensed'",
     "output_type": "error",
     "traceback": [
      "\u001b[1;31m---------------------------------------------------------------------------\u001b[0m",
      "\u001b[1;31mAttributeError\u001b[0m                            Traceback (most recent call last)",
      "\u001b[1;32mc:\\program files\\arcgis\\pro\\Resources\\ArcToolbox\\toolboxes\\Data Management Tools.tbx#CalculateGeometryAttributes_management.InitializeParameters.py\u001b[0m in \u001b[0;36m<module>\u001b[1;34m\u001b[0m\n",
      "\u001b[1;31mAttributeError\u001b[0m: 'ToolValidator' object has no attribute 'isLicensed'"
     ]
    },
    {
     "ename": "AttributeError",
     "evalue": "'ToolValidator' object has no attribute 'isLicensed'",
     "output_type": "error",
     "traceback": [
      "\u001b[1;31m---------------------------------------------------------------------------\u001b[0m",
      "\u001b[1;31mAttributeError\u001b[0m                            Traceback (most recent call last)",
      "\u001b[1;32mc:\\program files\\arcgis\\pro\\Resources\\ArcToolbox\\toolboxes\\Data Management Tools.tbx#CalculateGeometryAttributes_management.InitializeParameters.py\u001b[0m in \u001b[0;36m<module>\u001b[1;34m\u001b[0m\n",
      "\u001b[1;31mAttributeError\u001b[0m: 'ToolValidator' object has no attribute 'isLicensed'"
     ]
    },
    {
     "name": "stdout",
     "output_type": "stream",
     "text": [
      "2.768547770149559  = area of all water bodies in the subwatershed (square km)\n",
      "2  = number of dams in the subwatershed\n",
      "49  = number of bridges in the subwatershed\n"
     ]
    },
    {
     "ename": "AttributeError",
     "evalue": "'ToolValidator' object has no attribute 'isLicensed'",
     "output_type": "error",
     "traceback": [
      "\u001b[1;31m---------------------------------------------------------------------------\u001b[0m",
      "\u001b[1;31mAttributeError\u001b[0m                            Traceback (most recent call last)",
      "\u001b[1;32mc:\\program files\\arcgis\\pro\\Resources\\ArcToolbox\\toolboxes\\Data Management Tools.tbx#CalculateGeometryAttributes_management.InitializeParameters.py\u001b[0m in \u001b[0;36m<module>\u001b[1;34m\u001b[0m\n",
      "\u001b[1;31mAttributeError\u001b[0m: 'ToolValidator' object has no attribute 'isLicensed'"
     ]
    },
    {
     "ename": "AttributeError",
     "evalue": "'ToolValidator' object has no attribute 'isLicensed'",
     "output_type": "error",
     "traceback": [
      "\u001b[1;31m---------------------------------------------------------------------------\u001b[0m",
      "\u001b[1;31mAttributeError\u001b[0m                            Traceback (most recent call last)",
      "\u001b[1;32mc:\\program files\\arcgis\\pro\\Resources\\ArcToolbox\\toolboxes\\Data Management Tools.tbx#CalculateGeometryAttributes_management.InitializeParameters.py\u001b[0m in \u001b[0;36m<module>\u001b[1;34m\u001b[0m\n",
      "\u001b[1;31mAttributeError\u001b[0m: 'ToolValidator' object has no attribute 'isLicensed'"
     ]
    },
    {
     "name": "stdout",
     "output_type": "stream",
     "text": [
      "955.7607336151607  = sum of all streets in the subwatershed (km)\n"
     ]
    },
    {
     "ename": "AttributeError",
     "evalue": "'ToolValidator' object has no attribute 'isLicensed'",
     "output_type": "error",
     "traceback": [
      "\u001b[1;31m---------------------------------------------------------------------------\u001b[0m",
      "\u001b[1;31mAttributeError\u001b[0m                            Traceback (most recent call last)",
      "\u001b[1;32mc:\\program files\\arcgis\\pro\\Resources\\ArcToolbox\\toolboxes\\Data Management Tools.tbx#CalculateGeometryAttributes_management.InitializeParameters.py\u001b[0m in \u001b[0;36m<module>\u001b[1;34m\u001b[0m\n",
      "\u001b[1;31mAttributeError\u001b[0m: 'ToolValidator' object has no attribute 'isLicensed'"
     ]
    },
    {
     "ename": "AttributeError",
     "evalue": "'ToolValidator' object has no attribute 'isLicensed'",
     "output_type": "error",
     "traceback": [
      "\u001b[1;31m---------------------------------------------------------------------------\u001b[0m",
      "\u001b[1;31mAttributeError\u001b[0m                            Traceback (most recent call last)",
      "\u001b[1;32mc:\\program files\\arcgis\\pro\\Resources\\ArcToolbox\\toolboxes\\Data Management Tools.tbx#CalculateGeometryAttributes_management.InitializeParameters.py\u001b[0m in \u001b[0;36m<module>\u001b[1;34m\u001b[0m\n",
      "\u001b[1;31mAttributeError\u001b[0m: 'ToolValidator' object has no attribute 'isLicensed'"
     ]
    },
    {
     "name": "stdout",
     "output_type": "stream",
     "text": [
      "20.477768402763  = sum of all railroads in the subwatershed (km)\n",
      "166328  = total population in the subwatershed\n",
      "34.2925  = total percent of dependent population in the subwatershed\n",
      "1966.1480617944342  = population density of subwatershed (people/square km)\n",
      "66851.825  = average median income in the subwatershed\n",
      "19982  = number of residential building footprints in the subwatershed\n",
      "236.20539278279293  = housing density (buildings per square km)\n",
      "157855  = total 2013 population in the subwatershed\n",
      "8473  = population change between 2013 and 2018\n",
      "streams clipped\n"
     ]
    },
    {
     "ename": "AttributeError",
     "evalue": "'ToolValidator' object has no attribute 'isLicensed'",
     "output_type": "error",
     "traceback": [
      "\u001b[1;31m---------------------------------------------------------------------------\u001b[0m",
      "\u001b[1;31mAttributeError\u001b[0m                            Traceback (most recent call last)",
      "\u001b[1;32mc:\\program files\\arcgis\\pro\\Resources\\ArcToolbox\\toolboxes\\Data Management Tools.tbx#CalculateGeometryAttributes_management.InitializeParameters.py\u001b[0m in \u001b[0;36m<module>\u001b[1;34m\u001b[0m\n",
      "\u001b[1;31mAttributeError\u001b[0m: 'ToolValidator' object has no attribute 'isLicensed'"
     ]
    },
    {
     "ename": "AttributeError",
     "evalue": "'ToolValidator' object has no attribute 'isLicensed'",
     "output_type": "error",
     "traceback": [
      "\u001b[1;31m---------------------------------------------------------------------------\u001b[0m",
      "\u001b[1;31mAttributeError\u001b[0m                            Traceback (most recent call last)",
      "\u001b[1;32mc:\\program files\\arcgis\\pro\\Resources\\ArcToolbox\\toolboxes\\Data Management Tools.tbx#CalculateGeometryAttributes_management.InitializeParameters.py\u001b[0m in \u001b[0;36m<module>\u001b[1;34m\u001b[0m\n",
      "\u001b[1;31mAttributeError\u001b[0m: 'ToolValidator' object has no attribute 'isLicensed'"
     ]
    },
    {
     "name": "stdout",
     "output_type": "stream",
     "text": [
      "length calculated\n",
      "86.01778683117448  = length of all streams in subwatershed\n",
      "84.5958670316  = subwatershed area\n",
      "1.0168083837836113 is the drainage density (streams/km)\n",
      "25.0742967986  = watershed length (longest stream in subwatershed)\n",
      "7.4320458197967225  is the shape factor.\n",
      "0.002331592534003355  = relief ratio\n",
      "0.05846304321099999  is the relief in km\n",
      "0.05944571247844833  is the ruggedness number\n",
      "5.18919076604895  miles is the radius of a circle with the same area.\n",
      "10.3783815320979  miles is the diameter of a circle with the same area.\n"
     ]
    },
    {
     "ename": "AttributeError",
     "evalue": "'ToolValidator' object has no attribute 'isLicensed'",
     "output_type": "error",
     "traceback": [
      "\u001b[1;31m---------------------------------------------------------------------------\u001b[0m",
      "\u001b[1;31mAttributeError\u001b[0m                            Traceback (most recent call last)",
      "\u001b[1;32mc:\\program files\\arcgis\\pro\\Resources\\ArcToolbox\\toolboxes\\Data Management Tools.tbx#AddGeometryAttributes_management.InitializeParameters.py\u001b[0m in \u001b[0;36m<module>\u001b[1;34m\u001b[0m\n",
      "\u001b[1;31mAttributeError\u001b[0m: 'ToolValidator' object has no attribute 'isLicensed'"
     ]
    },
    {
     "ename": "AttributeError",
     "evalue": "'ToolValidator' object has no attribute 'isLicensed'",
     "output_type": "error",
     "traceback": [
      "\u001b[1;31m---------------------------------------------------------------------------\u001b[0m",
      "\u001b[1;31mAttributeError\u001b[0m                            Traceback (most recent call last)",
      "\u001b[1;32mc:\\program files\\arcgis\\pro\\Resources\\ArcToolbox\\toolboxes\\Data Management Tools.tbx#AddGeometryAttributes_management.InitializeParameters.py\u001b[0m in \u001b[0;36m<module>\u001b[1;34m\u001b[0m\n",
      "\u001b[1;31mAttributeError\u001b[0m: 'ToolValidator' object has no attribute 'isLicensed'"
     ]
    },
    {
     "name": "stdout",
     "output_type": "stream",
     "text": [
      "28.350740432739  = avg impervious percent \n",
      "641.3812585078899\n",
      "592.7689712620179\n",
      "orb100yr06h\n",
      "4855.9360351563  = avg rainfall in inches *1000\n",
      "orb100yr06ha_am\n",
      "4835.9360351563  = avg rainfall in inches *1000\n",
      "orb100yr12h\n",
      "5447.0400390625  = avg rainfall in inches *1000\n",
      "orb100yr12ha_am\n",
      "5425.0400390625  = avg rainfall in inches *1000\n",
      "orb100yr24h\n",
      "5949.583984375  = avg rainfall in inches *1000\n",
      "orb100yr24ha_am\n",
      "5925.576171875  = avg rainfall in inches *1000\n",
      "orb25yr06h\n",
      "3737.583984375  = avg rainfall in inches *1000\n",
      "orb25yr06ha_am\n",
      "3722.5520019531  = avg rainfall in inches *1000\n",
      "orb25yr12h\n",
      "4278.16796875  = avg rainfall in inches *1000\n",
      "orb25yr12ha_am\n",
      "4260.16796875  = avg rainfall in inches *1000\n",
      "orb25yr24h\n",
      "4818.8159179688  = avg rainfall in inches *1000\n",
      "orb25yr24ha_am\n",
      "4798.8159179688  = avg rainfall in inches *1000\n",
      "orb2yr06h\n",
      "2101.6479492188  = avg rainfall in inches *1000\n",
      "orb2yr06ha_am\n",
      "1934.6479492188  = avg rainfall in inches *1000\n",
      "orb2yr12h\n",
      "2488.2639160156  = avg rainfall in inches *1000\n",
      "orb2yr12ha_am\n",
      "2290.583984375  = avg rainfall in inches *1000\n",
      "orb2yr24h\n",
      "2925.6960449219  = avg rainfall in inches *1000\n",
      "orb2yr24ha_am\n",
      "2693.5759277344  = avg rainfall in inches *1000\n",
      "orb50yr06h\n",
      "4279.83984375  = avg rainfall in inches *1000\n",
      "orb50yr06ha_am\n",
      "4261.83984375  = avg rainfall in inches *1000\n",
      "orb50yr12h\n",
      "4849.9838867188  = avg rainfall in inches *1000\n",
      "orb50yr12ha_am\n",
      "4829.9838867188  = avg rainfall in inches *1000\n",
      "orb50yr24h\n",
      "5379.83203125  = avg rainfall in inches *1000\n",
      "orb50yr24ha_am\n",
      "5357.83203125  = avg rainfall in inches *1000\n",
      "ZonalSt_subwate2\n",
      "5357.83203125  = avg rainfall in inches *1000\n",
      "051202011202  is the subwatershed to be worked on\n",
      "clipped dem to subwatershed area\n"
     ]
    },
    {
     "ename": "AttributeError",
     "evalue": "'ToolValidator' object has no attribute 'isLicensed'",
     "output_type": "error",
     "traceback": [
      "\u001b[1;31m---------------------------------------------------------------------------\u001b[0m",
      "\u001b[1;31mAttributeError\u001b[0m                            Traceback (most recent call last)",
      "\u001b[1;32mc:\\program files\\arcgis\\pro\\Resources\\ArcToolbox\\toolboxes\\Data Management Tools.tbx#CalculateGeometryAttributes_management.InitializeParameters.py\u001b[0m in \u001b[0;36m<module>\u001b[1;34m\u001b[0m\n",
      "\u001b[1;31mAttributeError\u001b[0m: 'ToolValidator' object has no attribute 'isLicensed'"
     ]
    },
    {
     "ename": "AttributeError",
     "evalue": "'ToolValidator' object has no attribute 'isLicensed'",
     "output_type": "error",
     "traceback": [
      "\u001b[1;31m---------------------------------------------------------------------------\u001b[0m",
      "\u001b[1;31mAttributeError\u001b[0m                            Traceback (most recent call last)",
      "\u001b[1;32mc:\\program files\\arcgis\\pro\\Resources\\ArcToolbox\\toolboxes\\Data Management Tools.tbx#CalculateGeometryAttributes_management.InitializeParameters.py\u001b[0m in \u001b[0;36m<module>\u001b[1;34m\u001b[0m\n",
      "\u001b[1;31mAttributeError\u001b[0m: 'ToolValidator' object has no attribute 'isLicensed'"
     ]
    },
    {
     "name": "stdout",
     "output_type": "stream",
     "text": [
      "57.8566908584  square kilometers\n"
     ]
    },
    {
     "ename": "AttributeError",
     "evalue": "'ToolValidator' object has no attribute 'isLicensed'",
     "output_type": "error",
     "traceback": [
      "\u001b[1;31m---------------------------------------------------------------------------\u001b[0m",
      "\u001b[1;31mAttributeError\u001b[0m                            Traceback (most recent call last)",
      "\u001b[1;32mc:\\program files\\arcgis\\pro\\Resources\\ArcToolbox\\toolboxes\\Data Management Tools.tbx#CalculateGeometryAttributes_management.InitializeParameters.py\u001b[0m in \u001b[0;36m<module>\u001b[1;34m\u001b[0m\n",
      "\u001b[1;31mAttributeError\u001b[0m: 'ToolValidator' object has no attribute 'isLicensed'"
     ]
    },
    {
     "ename": "AttributeError",
     "evalue": "'ToolValidator' object has no attribute 'isLicensed'",
     "output_type": "error",
     "traceback": [
      "\u001b[1;31m---------------------------------------------------------------------------\u001b[0m",
      "\u001b[1;31mAttributeError\u001b[0m                            Traceback (most recent call last)",
      "\u001b[1;32mc:\\program files\\arcgis\\pro\\Resources\\ArcToolbox\\toolboxes\\Data Management Tools.tbx#CalculateGeometryAttributes_management.InitializeParameters.py\u001b[0m in \u001b[0;36m<module>\u001b[1;34m\u001b[0m\n",
      "\u001b[1;31mAttributeError\u001b[0m: 'ToolValidator' object has no attribute 'isLicensed'"
     ]
    },
    {
     "name": "stdout",
     "output_type": "stream",
     "text": [
      "perimeter calculated\n",
      "49.3797192007  kilometers\n",
      "3.031311750412  = avg slope (%)\n",
      "7.859026399281181 is the radius of a circle with the same perimeter.\n",
      "194.03825839369657 is the area of a circle with the same perimeter.\n",
      "0.29817156336772965  is the circulatory ratio\n",
      "created 3d polyline of subwatershed perimeter\n",
      "created perimeter points\n",
      "added z information\n",
      "   FID  FREQUENCY       MAX_Z       MIN_Z\n",
      "0    0       8153  269.856049  204.093048\n",
      "269.856048584\n",
      "204.093048096\n",
      "The relief of the subwatershed is:  65.76300048800002  meters.\n"
     ]
    },
    {
     "ename": "AttributeError",
     "evalue": "'ToolValidator' object has no attribute 'isLicensed'",
     "output_type": "error",
     "traceback": [
      "\u001b[1;31m---------------------------------------------------------------------------\u001b[0m",
      "\u001b[1;31mAttributeError\u001b[0m                            Traceback (most recent call last)",
      "\u001b[1;32mc:\\program files\\arcgis\\pro\\Resources\\ArcToolbox\\toolboxes\\Data Management Tools.tbx#CalculateGeometryAttributes_management.InitializeParameters.py\u001b[0m in \u001b[0;36m<module>\u001b[1;34m\u001b[0m\n",
      "\u001b[1;31mAttributeError\u001b[0m: 'ToolValidator' object has no attribute 'isLicensed'"
     ]
    },
    {
     "ename": "AttributeError",
     "evalue": "'ToolValidator' object has no attribute 'isLicensed'",
     "output_type": "error",
     "traceback": [
      "\u001b[1;31m---------------------------------------------------------------------------\u001b[0m",
      "\u001b[1;31mAttributeError\u001b[0m                            Traceback (most recent call last)",
      "\u001b[1;32mc:\\program files\\arcgis\\pro\\Resources\\ArcToolbox\\toolboxes\\Data Management Tools.tbx#CalculateGeometryAttributes_management.InitializeParameters.py\u001b[0m in \u001b[0;36m<module>\u001b[1;34m\u001b[0m\n",
      "\u001b[1;31mAttributeError\u001b[0m: 'ToolValidator' object has no attribute 'isLicensed'"
     ]
    },
    {
     "name": "stdout",
     "output_type": "stream",
     "text": [
      "3.6958495070956325  = area of all AE and A zones in the subwatershed (square km)\n"
     ]
    },
    {
     "ename": "AttributeError",
     "evalue": "'ToolValidator' object has no attribute 'isLicensed'",
     "output_type": "error",
     "traceback": [
      "\u001b[1;31m---------------------------------------------------------------------------\u001b[0m",
      "\u001b[1;31mAttributeError\u001b[0m                            Traceback (most recent call last)",
      "\u001b[1;32mc:\\program files\\arcgis\\pro\\Resources\\ArcToolbox\\toolboxes\\Data Management Tools.tbx#CalculateGeometryAttributes_management.InitializeParameters.py\u001b[0m in \u001b[0;36m<module>\u001b[1;34m\u001b[0m\n",
      "\u001b[1;31mAttributeError\u001b[0m: 'ToolValidator' object has no attribute 'isLicensed'"
     ]
    },
    {
     "ename": "AttributeError",
     "evalue": "'ToolValidator' object has no attribute 'isLicensed'",
     "output_type": "error",
     "traceback": [
      "\u001b[1;31m---------------------------------------------------------------------------\u001b[0m",
      "\u001b[1;31mAttributeError\u001b[0m                            Traceback (most recent call last)",
      "\u001b[1;32mc:\\program files\\arcgis\\pro\\Resources\\ArcToolbox\\toolboxes\\Data Management Tools.tbx#CalculateGeometryAttributes_management.InitializeParameters.py\u001b[0m in \u001b[0;36m<module>\u001b[1;34m\u001b[0m\n",
      "\u001b[1;31mAttributeError\u001b[0m: 'ToolValidator' object has no attribute 'isLicensed'"
     ]
    },
    {
     "name": "stdout",
     "output_type": "stream",
     "text": [
      "2.004279388657772  = area of all X zones, 0.2PCT zone subtype in the subwatershed (square km)\n"
     ]
    },
    {
     "ename": "AttributeError",
     "evalue": "'ToolValidator' object has no attribute 'isLicensed'",
     "output_type": "error",
     "traceback": [
      "\u001b[1;31m---------------------------------------------------------------------------\u001b[0m",
      "\u001b[1;31mAttributeError\u001b[0m                            Traceback (most recent call last)",
      "\u001b[1;32mc:\\program files\\arcgis\\pro\\Resources\\ArcToolbox\\toolboxes\\Data Management Tools.tbx#CalculateGeometryAttributes_management.InitializeParameters.py\u001b[0m in \u001b[0;36m<module>\u001b[1;34m\u001b[0m\n",
      "\u001b[1;31mAttributeError\u001b[0m: 'ToolValidator' object has no attribute 'isLicensed'"
     ]
    },
    {
     "ename": "AttributeError",
     "evalue": "'ToolValidator' object has no attribute 'isLicensed'",
     "output_type": "error",
     "traceback": [
      "\u001b[1;31m---------------------------------------------------------------------------\u001b[0m",
      "\u001b[1;31mAttributeError\u001b[0m                            Traceback (most recent call last)",
      "\u001b[1;32mc:\\program files\\arcgis\\pro\\Resources\\ArcToolbox\\toolboxes\\Data Management Tools.tbx#CalculateGeometryAttributes_management.InitializeParameters.py\u001b[0m in \u001b[0;36m<module>\u001b[1;34m\u001b[0m\n",
      "\u001b[1;31mAttributeError\u001b[0m: 'ToolValidator' object has no attribute 'isLicensed'"
     ]
    },
    {
     "name": "stdout",
     "output_type": "stream",
     "text": [
      "0.18262556265723798  = area of all water bodies in the subwatershed (square km)\n",
      "1  = number of dams in the subwatershed\n",
      "57  = number of bridges in the subwatershed\n"
     ]
    },
    {
     "ename": "AttributeError",
     "evalue": "'ToolValidator' object has no attribute 'isLicensed'",
     "output_type": "error",
     "traceback": [
      "\u001b[1;31m---------------------------------------------------------------------------\u001b[0m",
      "\u001b[1;31mAttributeError\u001b[0m                            Traceback (most recent call last)",
      "\u001b[1;32mc:\\program files\\arcgis\\pro\\Resources\\ArcToolbox\\toolboxes\\Data Management Tools.tbx#CalculateGeometryAttributes_management.InitializeParameters.py\u001b[0m in \u001b[0;36m<module>\u001b[1;34m\u001b[0m\n",
      "\u001b[1;31mAttributeError\u001b[0m: 'ToolValidator' object has no attribute 'isLicensed'"
     ]
    },
    {
     "ename": "AttributeError",
     "evalue": "'ToolValidator' object has no attribute 'isLicensed'",
     "output_type": "error",
     "traceback": [
      "\u001b[1;31m---------------------------------------------------------------------------\u001b[0m",
      "\u001b[1;31mAttributeError\u001b[0m                            Traceback (most recent call last)",
      "\u001b[1;32mc:\\program files\\arcgis\\pro\\Resources\\ArcToolbox\\toolboxes\\Data Management Tools.tbx#CalculateGeometryAttributes_management.InitializeParameters.py\u001b[0m in \u001b[0;36m<module>\u001b[1;34m\u001b[0m\n",
      "\u001b[1;31mAttributeError\u001b[0m: 'ToolValidator' object has no attribute 'isLicensed'"
     ]
    },
    {
     "name": "stdout",
     "output_type": "stream",
     "text": [
      "816.2971565858139  = sum of all streets in the subwatershed (km)\n"
     ]
    },
    {
     "ename": "AttributeError",
     "evalue": "'ToolValidator' object has no attribute 'isLicensed'",
     "output_type": "error",
     "traceback": [
      "\u001b[1;31m---------------------------------------------------------------------------\u001b[0m",
      "\u001b[1;31mAttributeError\u001b[0m                            Traceback (most recent call last)",
      "\u001b[1;32mc:\\program files\\arcgis\\pro\\Resources\\ArcToolbox\\toolboxes\\Data Management Tools.tbx#CalculateGeometryAttributes_management.InitializeParameters.py\u001b[0m in \u001b[0;36m<module>\u001b[1;34m\u001b[0m\n",
      "\u001b[1;31mAttributeError\u001b[0m: 'ToolValidator' object has no attribute 'isLicensed'"
     ]
    },
    {
     "ename": "AttributeError",
     "evalue": "'ToolValidator' object has no attribute 'isLicensed'",
     "output_type": "error",
     "traceback": [
      "\u001b[1;31m---------------------------------------------------------------------------\u001b[0m",
      "\u001b[1;31mAttributeError\u001b[0m                            Traceback (most recent call last)",
      "\u001b[1;32mc:\\program files\\arcgis\\pro\\Resources\\ArcToolbox\\toolboxes\\Data Management Tools.tbx#CalculateGeometryAttributes_management.InitializeParameters.py\u001b[0m in \u001b[0;36m<module>\u001b[1;34m\u001b[0m\n",
      "\u001b[1;31mAttributeError\u001b[0m: 'ToolValidator' object has no attribute 'isLicensed'"
     ]
    },
    {
     "name": "stdout",
     "output_type": "stream",
     "text": [
      "47.40615135801467  = sum of all railroads in the subwatershed (km)\n",
      "147783  = total population in the subwatershed\n",
      "36.73076923076923  = total percent of dependent population in the subwatershed\n",
      "2554.294029046494  = population density of subwatershed (people/square km)\n",
      "37320.333333333336  = average median income in the subwatershed\n",
      "28997  = number of residential building footprints in the subwatershed\n",
      "501.1866314817076  = housing density (buildings per square km)\n",
      "145316  = total 2013 population in the subwatershed\n",
      "2467  = population change between 2013 and 2018\n",
      "streams clipped\n"
     ]
    },
    {
     "ename": "AttributeError",
     "evalue": "'ToolValidator' object has no attribute 'isLicensed'",
     "output_type": "error",
     "traceback": [
      "\u001b[1;31m---------------------------------------------------------------------------\u001b[0m",
      "\u001b[1;31mAttributeError\u001b[0m                            Traceback (most recent call last)",
      "\u001b[1;32mc:\\program files\\arcgis\\pro\\Resources\\ArcToolbox\\toolboxes\\Data Management Tools.tbx#CalculateGeometryAttributes_management.InitializeParameters.py\u001b[0m in \u001b[0;36m<module>\u001b[1;34m\u001b[0m\n",
      "\u001b[1;31mAttributeError\u001b[0m: 'ToolValidator' object has no attribute 'isLicensed'"
     ]
    },
    {
     "ename": "AttributeError",
     "evalue": "'ToolValidator' object has no attribute 'isLicensed'",
     "output_type": "error",
     "traceback": [
      "\u001b[1;31m---------------------------------------------------------------------------\u001b[0m",
      "\u001b[1;31mAttributeError\u001b[0m                            Traceback (most recent call last)",
      "\u001b[1;32mc:\\program files\\arcgis\\pro\\Resources\\ArcToolbox\\toolboxes\\Data Management Tools.tbx#CalculateGeometryAttributes_management.InitializeParameters.py\u001b[0m in \u001b[0;36m<module>\u001b[1;34m\u001b[0m\n",
      "\u001b[1;31mAttributeError\u001b[0m: 'ToolValidator' object has no attribute 'isLicensed'"
     ]
    },
    {
     "name": "stdout",
     "output_type": "stream",
     "text": [
      "length calculated\n",
      "49.62336572097759  = length of all streams in subwatershed\n",
      "57.8566908584  = subwatershed area\n",
      "0.8576945031721073 is the drainage density (streams/km)\n",
      "18.7650143969  = watershed length (longest stream in subwatershed)\n",
      "6.086171885939108  is the shape factor.\n",
      "0.0035045536921551276  = relief ratio\n",
      "0.06576300048800002  is the relief in km\n",
      "0.05640456403066222  is the ruggedness number\n",
      "4.291428279967879  miles is the radius of a circle with the same area.\n",
      "8.582856559935758  miles is the diameter of a circle with the same area.\n"
     ]
    },
    {
     "ename": "AttributeError",
     "evalue": "'ToolValidator' object has no attribute 'isLicensed'",
     "output_type": "error",
     "traceback": [
      "\u001b[1;31m---------------------------------------------------------------------------\u001b[0m",
      "\u001b[1;31mAttributeError\u001b[0m                            Traceback (most recent call last)",
      "\u001b[1;32mc:\\program files\\arcgis\\pro\\Resources\\ArcToolbox\\toolboxes\\Data Management Tools.tbx#AddGeometryAttributes_management.InitializeParameters.py\u001b[0m in \u001b[0;36m<module>\u001b[1;34m\u001b[0m\n",
      "\u001b[1;31mAttributeError\u001b[0m: 'ToolValidator' object has no attribute 'isLicensed'"
     ]
    },
    {
     "ename": "AttributeError",
     "evalue": "'ToolValidator' object has no attribute 'isLicensed'",
     "output_type": "error",
     "traceback": [
      "\u001b[1;31m---------------------------------------------------------------------------\u001b[0m",
      "\u001b[1;31mAttributeError\u001b[0m                            Traceback (most recent call last)",
      "\u001b[1;32mc:\\program files\\arcgis\\pro\\Resources\\ArcToolbox\\toolboxes\\Data Management Tools.tbx#AddGeometryAttributes_management.InitializeParameters.py\u001b[0m in \u001b[0;36m<module>\u001b[1;34m\u001b[0m\n",
      "\u001b[1;31mAttributeError\u001b[0m: 'ToolValidator' object has no attribute 'isLicensed'"
     ]
    },
    {
     "name": "stdout",
     "output_type": "stream",
     "text": [
      "43.056167602539  = avg impervious percent \n",
      "417.3733880428591\n",
      "268.40642471046743\n",
      "orb100yr06h\n",
      "4811.390625  = avg rainfall in inches *1000\n",
      "orb100yr06ha_am\n",
      "4791.390625  = avg rainfall in inches *1000\n",
      "orb100yr12h\n",
      "5400.8623046875  = avg rainfall in inches *1000\n",
      "orb100yr12ha_am\n",
      "5378.8623046875  = avg rainfall in inches *1000\n",
      "orb100yr24h\n",
      "5831.9541015625  = avg rainfall in inches *1000\n",
      "orb100yr24ha_am\n",
      "5807.9541015625  = avg rainfall in inches *1000\n",
      "orb25yr06h\n",
      "3711.9079589844  = avg rainfall in inches *1000\n",
      "orb25yr06ha_am\n",
      "3696.9079589844  = avg rainfall in inches *1000\n",
      "orb25yr12h\n",
      "4253.2875976563  = avg rainfall in inches *1000\n",
      "orb25yr12ha_am\n",
      "4235.8046875  = avg rainfall in inches *1000\n",
      "orb25yr24h\n",
      "4754.6552734375  = avg rainfall in inches *1000\n",
      "orb25yr24ha_am\n",
      "4735.2182617188  = avg rainfall in inches *1000\n",
      "orb2yr06h\n",
      "2090.0229492188  = avg rainfall in inches *1000\n",
      "orb2yr06ha_am\n",
      "1923.9770507813  = avg rainfall in inches *1000\n",
      "orb2yr12h\n",
      "2481.1838378906  = avg rainfall in inches *1000\n",
      "orb2yr12ha_am\n",
      "2284.1838378906  = avg rainfall in inches *1000\n",
      "orb2yr24h\n",
      "2917.2529296875  = avg rainfall in inches *1000\n",
      "orb2yr24ha_am\n",
      "2685.7241210938  = avg rainfall in inches *1000\n",
      "orb50yr06h\n",
      "4243.2299804688  = avg rainfall in inches *1000\n",
      "orb50yr06ha_am\n",
      "4226.1264648438  = avg rainfall in inches *1000\n",
      "orb50yr12h\n",
      "4814.8276367188  = avg rainfall in inches *1000\n",
      "orb50yr12ha_am\n",
      "4794.8276367188  = avg rainfall in inches *1000\n",
      "orb50yr24h\n",
      "5291.310546875  = avg rainfall in inches *1000\n",
      "orb50yr24ha_am\n",
      "5269.310546875  = avg rainfall in inches *1000\n",
      "ZonalSt_subwate1\n",
      "5269.310546875  = avg rainfall in inches *1000\n",
      "051202040501  is the subwatershed to be worked on\n",
      "clipped dem to subwatershed area\n"
     ]
    },
    {
     "ename": "AttributeError",
     "evalue": "'ToolValidator' object has no attribute 'isLicensed'",
     "output_type": "error",
     "traceback": [
      "\u001b[1;31m---------------------------------------------------------------------------\u001b[0m",
      "\u001b[1;31mAttributeError\u001b[0m                            Traceback (most recent call last)",
      "\u001b[1;32mc:\\program files\\arcgis\\pro\\Resources\\ArcToolbox\\toolboxes\\Data Management Tools.tbx#CalculateGeometryAttributes_management.InitializeParameters.py\u001b[0m in \u001b[0;36m<module>\u001b[1;34m\u001b[0m\n",
      "\u001b[1;31mAttributeError\u001b[0m: 'ToolValidator' object has no attribute 'isLicensed'"
     ]
    },
    {
     "ename": "AttributeError",
     "evalue": "'ToolValidator' object has no attribute 'isLicensed'",
     "output_type": "error",
     "traceback": [
      "\u001b[1;31m---------------------------------------------------------------------------\u001b[0m",
      "\u001b[1;31mAttributeError\u001b[0m                            Traceback (most recent call last)",
      "\u001b[1;32mc:\\program files\\arcgis\\pro\\Resources\\ArcToolbox\\toolboxes\\Data Management Tools.tbx#CalculateGeometryAttributes_management.InitializeParameters.py\u001b[0m in \u001b[0;36m<module>\u001b[1;34m\u001b[0m\n",
      "\u001b[1;31mAttributeError\u001b[0m: 'ToolValidator' object has no attribute 'isLicensed'"
     ]
    },
    {
     "name": "stdout",
     "output_type": "stream",
     "text": [
      "48.6643319174  square kilometers\n"
     ]
    },
    {
     "ename": "AttributeError",
     "evalue": "'ToolValidator' object has no attribute 'isLicensed'",
     "output_type": "error",
     "traceback": [
      "\u001b[1;31m---------------------------------------------------------------------------\u001b[0m",
      "\u001b[1;31mAttributeError\u001b[0m                            Traceback (most recent call last)",
      "\u001b[1;32mc:\\program files\\arcgis\\pro\\Resources\\ArcToolbox\\toolboxes\\Data Management Tools.tbx#CalculateGeometryAttributes_management.InitializeParameters.py\u001b[0m in \u001b[0;36m<module>\u001b[1;34m\u001b[0m\n",
      "\u001b[1;31mAttributeError\u001b[0m: 'ToolValidator' object has no attribute 'isLicensed'"
     ]
    },
    {
     "ename": "AttributeError",
     "evalue": "'ToolValidator' object has no attribute 'isLicensed'",
     "output_type": "error",
     "traceback": [
      "\u001b[1;31m---------------------------------------------------------------------------\u001b[0m",
      "\u001b[1;31mAttributeError\u001b[0m                            Traceback (most recent call last)",
      "\u001b[1;32mc:\\program files\\arcgis\\pro\\Resources\\ArcToolbox\\toolboxes\\Data Management Tools.tbx#CalculateGeometryAttributes_management.InitializeParameters.py\u001b[0m in \u001b[0;36m<module>\u001b[1;34m\u001b[0m\n",
      "\u001b[1;31mAttributeError\u001b[0m: 'ToolValidator' object has no attribute 'isLicensed'"
     ]
    },
    {
     "name": "stdout",
     "output_type": "stream",
     "text": [
      "perimeter calculated\n",
      "42.1547193123  kilometers\n",
      "2.5301661491394  = avg slope (%)\n",
      "6.709131953203928 is the radius of a circle with the same perimeter.\n",
      "141.41078715824736 is the area of a circle with the same perimeter.\n",
      "0.3441345097877266  is the circulatory ratio\n",
      "created 3d polyline of subwatershed perimeter\n",
      "created perimeter points\n",
      "added z information\n",
      "   FID  FREQUENCY       MAX_Z      MIN_Z\n",
      "0    0       6784  268.591644  241.53923\n",
      "268.591644287\n",
      "241.539230348\n",
      "The relief of the subwatershed is:  27.05241393900002  meters.\n"
     ]
    },
    {
     "ename": "AttributeError",
     "evalue": "'ToolValidator' object has no attribute 'isLicensed'",
     "output_type": "error",
     "traceback": [
      "\u001b[1;31m---------------------------------------------------------------------------\u001b[0m",
      "\u001b[1;31mAttributeError\u001b[0m                            Traceback (most recent call last)",
      "\u001b[1;32mc:\\program files\\arcgis\\pro\\Resources\\ArcToolbox\\toolboxes\\Data Management Tools.tbx#CalculateGeometryAttributes_management.InitializeParameters.py\u001b[0m in \u001b[0;36m<module>\u001b[1;34m\u001b[0m\n",
      "\u001b[1;31mAttributeError\u001b[0m: 'ToolValidator' object has no attribute 'isLicensed'"
     ]
    },
    {
     "ename": "AttributeError",
     "evalue": "'ToolValidator' object has no attribute 'isLicensed'",
     "output_type": "error",
     "traceback": [
      "\u001b[1;31m---------------------------------------------------------------------------\u001b[0m",
      "\u001b[1;31mAttributeError\u001b[0m                            Traceback (most recent call last)",
      "\u001b[1;32mc:\\program files\\arcgis\\pro\\Resources\\ArcToolbox\\toolboxes\\Data Management Tools.tbx#CalculateGeometryAttributes_management.InitializeParameters.py\u001b[0m in \u001b[0;36m<module>\u001b[1;34m\u001b[0m\n",
      "\u001b[1;31mAttributeError\u001b[0m: 'ToolValidator' object has no attribute 'isLicensed'"
     ]
    },
    {
     "name": "stdout",
     "output_type": "stream",
     "text": [
      "3.5079870826794397  = area of all AE and A zones in the subwatershed (square km)\n"
     ]
    },
    {
     "ename": "AttributeError",
     "evalue": "'ToolValidator' object has no attribute 'isLicensed'",
     "output_type": "error",
     "traceback": [
      "\u001b[1;31m---------------------------------------------------------------------------\u001b[0m",
      "\u001b[1;31mAttributeError\u001b[0m                            Traceback (most recent call last)",
      "\u001b[1;32mc:\\program files\\arcgis\\pro\\Resources\\ArcToolbox\\toolboxes\\Data Management Tools.tbx#CalculateGeometryAttributes_management.InitializeParameters.py\u001b[0m in \u001b[0;36m<module>\u001b[1;34m\u001b[0m\n",
      "\u001b[1;31mAttributeError\u001b[0m: 'ToolValidator' object has no attribute 'isLicensed'"
     ]
    },
    {
     "ename": "AttributeError",
     "evalue": "'ToolValidator' object has no attribute 'isLicensed'",
     "output_type": "error",
     "traceback": [
      "\u001b[1;31m---------------------------------------------------------------------------\u001b[0m",
      "\u001b[1;31mAttributeError\u001b[0m                            Traceback (most recent call last)",
      "\u001b[1;32mc:\\program files\\arcgis\\pro\\Resources\\ArcToolbox\\toolboxes\\Data Management Tools.tbx#CalculateGeometryAttributes_management.InitializeParameters.py\u001b[0m in \u001b[0;36m<module>\u001b[1;34m\u001b[0m\n",
      "\u001b[1;31mAttributeError\u001b[0m: 'ToolValidator' object has no attribute 'isLicensed'"
     ]
    },
    {
     "name": "stdout",
     "output_type": "stream",
     "text": [
      "1.9366362295268018  = area of all X zones, 0.2PCT zone subtype in the subwatershed (square km)\n"
     ]
    },
    {
     "ename": "AttributeError",
     "evalue": "'ToolValidator' object has no attribute 'isLicensed'",
     "output_type": "error",
     "traceback": [
      "\u001b[1;31m---------------------------------------------------------------------------\u001b[0m",
      "\u001b[1;31mAttributeError\u001b[0m                            Traceback (most recent call last)",
      "\u001b[1;32mc:\\program files\\arcgis\\pro\\Resources\\ArcToolbox\\toolboxes\\Data Management Tools.tbx#CalculateGeometryAttributes_management.InitializeParameters.py\u001b[0m in \u001b[0;36m<module>\u001b[1;34m\u001b[0m\n",
      "\u001b[1;31mAttributeError\u001b[0m: 'ToolValidator' object has no attribute 'isLicensed'"
     ]
    },
    {
     "ename": "AttributeError",
     "evalue": "'ToolValidator' object has no attribute 'isLicensed'",
     "output_type": "error",
     "traceback": [
      "\u001b[1;31m---------------------------------------------------------------------------\u001b[0m",
      "\u001b[1;31mAttributeError\u001b[0m                            Traceback (most recent call last)",
      "\u001b[1;32mc:\\program files\\arcgis\\pro\\Resources\\ArcToolbox\\toolboxes\\Data Management Tools.tbx#CalculateGeometryAttributes_management.InitializeParameters.py\u001b[0m in \u001b[0;36m<module>\u001b[1;34m\u001b[0m\n",
      "\u001b[1;31mAttributeError\u001b[0m: 'ToolValidator' object has no attribute 'isLicensed'"
     ]
    },
    {
     "name": "stdout",
     "output_type": "stream",
     "text": [
      "0.8625151828607542  = area of all water bodies in the subwatershed (square km)\n",
      "0  = number of dams in the subwatershed\n",
      "6  = number of bridges in the subwatershed\n"
     ]
    },
    {
     "ename": "AttributeError",
     "evalue": "'ToolValidator' object has no attribute 'isLicensed'",
     "output_type": "error",
     "traceback": [
      "\u001b[1;31m---------------------------------------------------------------------------\u001b[0m",
      "\u001b[1;31mAttributeError\u001b[0m                            Traceback (most recent call last)",
      "\u001b[1;32mc:\\program files\\arcgis\\pro\\Resources\\ArcToolbox\\toolboxes\\Data Management Tools.tbx#CalculateGeometryAttributes_management.InitializeParameters.py\u001b[0m in \u001b[0;36m<module>\u001b[1;34m\u001b[0m\n",
      "\u001b[1;31mAttributeError\u001b[0m: 'ToolValidator' object has no attribute 'isLicensed'"
     ]
    },
    {
     "ename": "AttributeError",
     "evalue": "'ToolValidator' object has no attribute 'isLicensed'",
     "output_type": "error",
     "traceback": [
      "\u001b[1;31m---------------------------------------------------------------------------\u001b[0m",
      "\u001b[1;31mAttributeError\u001b[0m                            Traceback (most recent call last)",
      "\u001b[1;32mc:\\program files\\arcgis\\pro\\Resources\\ArcToolbox\\toolboxes\\Data Management Tools.tbx#CalculateGeometryAttributes_management.InitializeParameters.py\u001b[0m in \u001b[0;36m<module>\u001b[1;34m\u001b[0m\n",
      "\u001b[1;31mAttributeError\u001b[0m: 'ToolValidator' object has no attribute 'isLicensed'"
     ]
    },
    {
     "name": "stdout",
     "output_type": "stream",
     "text": [
      "296.80523045258747  = sum of all streets in the subwatershed (km)\n"
     ]
    },
    {
     "ename": "AttributeError",
     "evalue": "'ToolValidator' object has no attribute 'isLicensed'",
     "output_type": "error",
     "traceback": [
      "\u001b[1;31m---------------------------------------------------------------------------\u001b[0m",
      "\u001b[1;31mAttributeError\u001b[0m                            Traceback (most recent call last)",
      "\u001b[1;32mc:\\program files\\arcgis\\pro\\Resources\\ArcToolbox\\toolboxes\\Data Management Tools.tbx#CalculateGeometryAttributes_management.InitializeParameters.py\u001b[0m in \u001b[0;36m<module>\u001b[1;34m\u001b[0m\n",
      "\u001b[1;31mAttributeError\u001b[0m: 'ToolValidator' object has no attribute 'isLicensed'"
     ]
    },
    {
     "ename": "AttributeError",
     "evalue": "'ToolValidator' object has no attribute 'isLicensed'",
     "output_type": "error",
     "traceback": [
      "\u001b[1;31m---------------------------------------------------------------------------\u001b[0m",
      "\u001b[1;31mAttributeError\u001b[0m                            Traceback (most recent call last)",
      "\u001b[1;32mc:\\program files\\arcgis\\pro\\Resources\\ArcToolbox\\toolboxes\\Data Management Tools.tbx#CalculateGeometryAttributes_management.InitializeParameters.py\u001b[0m in \u001b[0;36m<module>\u001b[1;34m\u001b[0m\n",
      "\u001b[1;31mAttributeError\u001b[0m: 'ToolValidator' object has no attribute 'isLicensed'"
     ]
    },
    {
     "name": "stdout",
     "output_type": "stream",
     "text": [
      "11.26866760353  = sum of all railroads in the subwatershed (km)\n",
      "83724  = total population in the subwatershed\n",
      "39.107692307692304  = total percent of dependent population in the subwatershed\n",
      "1720.438701225946  = population density of subwatershed (people/square km)\n",
      "55549.92307692308  = average median income in the subwatershed\n",
      "9151  = number of residential building footprints in the subwatershed\n",
      "188.04326781948583  = housing density (buildings per square km)\n",
      "79898  = total 2013 population in the subwatershed\n",
      "3826  = population change between 2013 and 2018\n",
      "streams clipped\n"
     ]
    },
    {
     "ename": "AttributeError",
     "evalue": "'ToolValidator' object has no attribute 'isLicensed'",
     "output_type": "error",
     "traceback": [
      "\u001b[1;31m---------------------------------------------------------------------------\u001b[0m",
      "\u001b[1;31mAttributeError\u001b[0m                            Traceback (most recent call last)",
      "\u001b[1;32mc:\\program files\\arcgis\\pro\\Resources\\ArcToolbox\\toolboxes\\Data Management Tools.tbx#CalculateGeometryAttributes_management.InitializeParameters.py\u001b[0m in \u001b[0;36m<module>\u001b[1;34m\u001b[0m\n",
      "\u001b[1;31mAttributeError\u001b[0m: 'ToolValidator' object has no attribute 'isLicensed'"
     ]
    },
    {
     "ename": "AttributeError",
     "evalue": "'ToolValidator' object has no attribute 'isLicensed'",
     "output_type": "error",
     "traceback": [
      "\u001b[1;31m---------------------------------------------------------------------------\u001b[0m",
      "\u001b[1;31mAttributeError\u001b[0m                            Traceback (most recent call last)",
      "\u001b[1;32mc:\\program files\\arcgis\\pro\\Resources\\ArcToolbox\\toolboxes\\Data Management Tools.tbx#CalculateGeometryAttributes_management.InitializeParameters.py\u001b[0m in \u001b[0;36m<module>\u001b[1;34m\u001b[0m\n",
      "\u001b[1;31mAttributeError\u001b[0m: 'ToolValidator' object has no attribute 'isLicensed'"
     ]
    },
    {
     "name": "stdout",
     "output_type": "stream",
     "text": [
      "length calculated\n",
      "52.252390040692006  = length of all streams in subwatershed\n",
      "48.6643319174  = subwatershed area\n",
      "1.073730758893026 is the drainage density (streams/km)\n",
      "12.1789431688  = watershed length (longest stream in subwatershed)\n",
      "3.0479542380366222  is the shape factor.\n",
      "0.0022212447799496147  = relief ratio\n",
      "0.027052413939000017  is the relief in km\n",
      "0.029047008948610765  is the ruggedness number\n",
      "3.935776664628953  miles is the radius of a circle with the same area.\n",
      "7.871553329257906  miles is the diameter of a circle with the same area.\n"
     ]
    },
    {
     "ename": "AttributeError",
     "evalue": "'ToolValidator' object has no attribute 'isLicensed'",
     "output_type": "error",
     "traceback": [
      "\u001b[1;31m---------------------------------------------------------------------------\u001b[0m",
      "\u001b[1;31mAttributeError\u001b[0m                            Traceback (most recent call last)",
      "\u001b[1;32mc:\\program files\\arcgis\\pro\\Resources\\ArcToolbox\\toolboxes\\Data Management Tools.tbx#AddGeometryAttributes_management.InitializeParameters.py\u001b[0m in \u001b[0;36m<module>\u001b[1;34m\u001b[0m\n",
      "\u001b[1;31mAttributeError\u001b[0m: 'ToolValidator' object has no attribute 'isLicensed'"
     ]
    },
    {
     "ename": "AttributeError",
     "evalue": "'ToolValidator' object has no attribute 'isLicensed'",
     "output_type": "error",
     "traceback": [
      "\u001b[1;31m---------------------------------------------------------------------------\u001b[0m",
      "\u001b[1;31mAttributeError\u001b[0m                            Traceback (most recent call last)",
      "\u001b[1;32mc:\\program files\\arcgis\\pro\\Resources\\ArcToolbox\\toolboxes\\Data Management Tools.tbx#AddGeometryAttributes_management.InitializeParameters.py\u001b[0m in \u001b[0;36m<module>\u001b[1;34m\u001b[0m\n",
      "\u001b[1;31mAttributeError\u001b[0m: 'ToolValidator' object has no attribute 'isLicensed'"
     ]
    },
    {
     "name": "stdout",
     "output_type": "stream",
     "text": [
      "21.28059387207  = avg impervious percent \n",
      "361.3895305757631\n",
      "255.69301992625427\n",
      "orb100yr06h\n",
      "4789.6479492188  = avg rainfall in inches *1000\n",
      "orb100yr06ha_am\n",
      "4769.6479492188  = avg rainfall in inches *1000\n",
      "orb100yr12h\n",
      "5391.6899414063  = avg rainfall in inches *1000\n",
      "orb100yr12ha_am\n",
      "5369.6899414063  = avg rainfall in inches *1000\n",
      "orb100yr24h\n",
      "5856.6762695313  = avg rainfall in inches *1000\n",
      "orb100yr24ha_am\n",
      "5832.6762695313  = avg rainfall in inches *1000\n",
      "orb25yr06h\n",
      "3702.2253417969  = avg rainfall in inches *1000\n",
      "orb25yr06ha_am\n",
      "3687.2253417969  = avg rainfall in inches *1000\n",
      "orb25yr12h\n",
      "4252.0561523438  = avg rainfall in inches *1000\n",
      "orb25yr12ha_am\n",
      "4234.5209960938  = avg rainfall in inches *1000\n",
      "orb25yr24h\n",
      "4775.53515625  = avg rainfall in inches *1000\n",
      "orb25yr24ha_am\n",
      "4755.6479492188  = avg rainfall in inches *1000\n",
      "orb2yr06h\n",
      "2092.0563964844  = avg rainfall in inches *1000\n",
      "orb2yr06ha_am\n",
      "1925.8732910156  = avg rainfall in inches *1000\n",
      "orb2yr12h\n",
      "2486.0563964844  = avg rainfall in inches *1000\n",
      "orb2yr12ha_am\n",
      "2288.6760253906  = avg rainfall in inches *1000\n",
      "orb2yr24h\n",
      "2931.2253417969  = avg rainfall in inches *1000\n",
      "orb2yr24ha_am\n",
      "2698.6196289063  = avg rainfall in inches *1000\n",
      "orb50yr06h\n",
      "4228.2255859375  = avg rainfall in inches *1000\n",
      "orb50yr06ha_am\n",
      "4211.2255859375  = avg rainfall in inches *1000\n",
      "orb50yr12h\n",
      "4810.4931640625  = avg rainfall in inches *1000\n",
      "orb50yr12ha_am\n",
      "4790.4931640625  = avg rainfall in inches *1000\n",
      "orb50yr24h\n",
      "5314.1127929688  = avg rainfall in inches *1000\n",
      "orb50yr24ha_am\n",
      "5292.1127929688  = avg rainfall in inches *1000\n",
      "ZonalSt_subwate2\n",
      "5292.1127929688  = avg rainfall in inches *1000\n",
      "051202011205  is the subwatershed to be worked on\n",
      "clipped dem to subwatershed area\n"
     ]
    },
    {
     "ename": "AttributeError",
     "evalue": "'ToolValidator' object has no attribute 'isLicensed'",
     "output_type": "error",
     "traceback": [
      "\u001b[1;31m---------------------------------------------------------------------------\u001b[0m",
      "\u001b[1;31mAttributeError\u001b[0m                            Traceback (most recent call last)",
      "\u001b[1;32mc:\\program files\\arcgis\\pro\\Resources\\ArcToolbox\\toolboxes\\Data Management Tools.tbx#CalculateGeometryAttributes_management.InitializeParameters.py\u001b[0m in \u001b[0;36m<module>\u001b[1;34m\u001b[0m\n",
      "\u001b[1;31mAttributeError\u001b[0m: 'ToolValidator' object has no attribute 'isLicensed'"
     ]
    },
    {
     "ename": "AttributeError",
     "evalue": "'ToolValidator' object has no attribute 'isLicensed'",
     "output_type": "error",
     "traceback": [
      "\u001b[1;31m---------------------------------------------------------------------------\u001b[0m",
      "\u001b[1;31mAttributeError\u001b[0m                            Traceback (most recent call last)",
      "\u001b[1;32mc:\\program files\\arcgis\\pro\\Resources\\ArcToolbox\\toolboxes\\Data Management Tools.tbx#CalculateGeometryAttributes_management.InitializeParameters.py\u001b[0m in \u001b[0;36m<module>\u001b[1;34m\u001b[0m\n",
      "\u001b[1;31mAttributeError\u001b[0m: 'ToolValidator' object has no attribute 'isLicensed'"
     ]
    },
    {
     "name": "stdout",
     "output_type": "stream",
     "text": [
      "124.977905154  square kilometers\n"
     ]
    },
    {
     "ename": "AttributeError",
     "evalue": "'ToolValidator' object has no attribute 'isLicensed'",
     "output_type": "error",
     "traceback": [
      "\u001b[1;31m---------------------------------------------------------------------------\u001b[0m",
      "\u001b[1;31mAttributeError\u001b[0m                            Traceback (most recent call last)",
      "\u001b[1;32mc:\\program files\\arcgis\\pro\\Resources\\ArcToolbox\\toolboxes\\Data Management Tools.tbx#CalculateGeometryAttributes_management.InitializeParameters.py\u001b[0m in \u001b[0;36m<module>\u001b[1;34m\u001b[0m\n",
      "\u001b[1;31mAttributeError\u001b[0m: 'ToolValidator' object has no attribute 'isLicensed'"
     ]
    },
    {
     "ename": "AttributeError",
     "evalue": "'ToolValidator' object has no attribute 'isLicensed'",
     "output_type": "error",
     "traceback": [
      "\u001b[1;31m---------------------------------------------------------------------------\u001b[0m",
      "\u001b[1;31mAttributeError\u001b[0m                            Traceback (most recent call last)",
      "\u001b[1;32mc:\\program files\\arcgis\\pro\\Resources\\ArcToolbox\\toolboxes\\Data Management Tools.tbx#CalculateGeometryAttributes_management.InitializeParameters.py\u001b[0m in \u001b[0;36m<module>\u001b[1;34m\u001b[0m\n",
      "\u001b[1;31mAttributeError\u001b[0m: 'ToolValidator' object has no attribute 'isLicensed'"
     ]
    },
    {
     "name": "stdout",
     "output_type": "stream",
     "text": [
      "perimeter calculated\n",
      "108.898377999  kilometers\n",
      "3.9238591194153  = avg slope (%)\n",
      "17.331715153230554 is the radius of a circle with the same perimeter.\n",
      "943.6978340637486 is the area of a circle with the same perimeter.\n",
      "0.13243423969282683  is the circulatory ratio\n",
      "created 3d polyline of subwatershed perimeter\n",
      "created perimeter points\n",
      "added z information\n",
      "   FID  FREQUENCY      MAX_Z       MIN_Z\n",
      "0    0      17397  245.21933  194.968643\n",
      "245.219329834\n",
      "194.968643189\n",
      "The relief of the subwatershed is:  50.250686645  meters.\n"
     ]
    },
    {
     "ename": "AttributeError",
     "evalue": "'ToolValidator' object has no attribute 'isLicensed'",
     "output_type": "error",
     "traceback": [
      "\u001b[1;31m---------------------------------------------------------------------------\u001b[0m",
      "\u001b[1;31mAttributeError\u001b[0m                            Traceback (most recent call last)",
      "\u001b[1;32mc:\\program files\\arcgis\\pro\\Resources\\ArcToolbox\\toolboxes\\Data Management Tools.tbx#CalculateGeometryAttributes_management.InitializeParameters.py\u001b[0m in \u001b[0;36m<module>\u001b[1;34m\u001b[0m\n",
      "\u001b[1;31mAttributeError\u001b[0m: 'ToolValidator' object has no attribute 'isLicensed'"
     ]
    },
    {
     "ename": "AttributeError",
     "evalue": "'ToolValidator' object has no attribute 'isLicensed'",
     "output_type": "error",
     "traceback": [
      "\u001b[1;31m---------------------------------------------------------------------------\u001b[0m",
      "\u001b[1;31mAttributeError\u001b[0m                            Traceback (most recent call last)",
      "\u001b[1;32mc:\\program files\\arcgis\\pro\\Resources\\ArcToolbox\\toolboxes\\Data Management Tools.tbx#CalculateGeometryAttributes_management.InitializeParameters.py\u001b[0m in \u001b[0;36m<module>\u001b[1;34m\u001b[0m\n",
      "\u001b[1;31mAttributeError\u001b[0m: 'ToolValidator' object has no attribute 'isLicensed'"
     ]
    },
    {
     "name": "stdout",
     "output_type": "stream",
     "text": [
      "38.225820655668485  = area of all AE and A zones in the subwatershed (square km)\n"
     ]
    },
    {
     "ename": "AttributeError",
     "evalue": "'ToolValidator' object has no attribute 'isLicensed'",
     "output_type": "error",
     "traceback": [
      "\u001b[1;31m---------------------------------------------------------------------------\u001b[0m",
      "\u001b[1;31mAttributeError\u001b[0m                            Traceback (most recent call last)",
      "\u001b[1;32mc:\\program files\\arcgis\\pro\\Resources\\ArcToolbox\\toolboxes\\Data Management Tools.tbx#CalculateGeometryAttributes_management.InitializeParameters.py\u001b[0m in \u001b[0;36m<module>\u001b[1;34m\u001b[0m\n",
      "\u001b[1;31mAttributeError\u001b[0m: 'ToolValidator' object has no attribute 'isLicensed'"
     ]
    },
    {
     "ename": "AttributeError",
     "evalue": "'ToolValidator' object has no attribute 'isLicensed'",
     "output_type": "error",
     "traceback": [
      "\u001b[1;31m---------------------------------------------------------------------------\u001b[0m",
      "\u001b[1;31mAttributeError\u001b[0m                            Traceback (most recent call last)",
      "\u001b[1;32mc:\\program files\\arcgis\\pro\\Resources\\ArcToolbox\\toolboxes\\Data Management Tools.tbx#CalculateGeometryAttributes_management.InitializeParameters.py\u001b[0m in \u001b[0;36m<module>\u001b[1;34m\u001b[0m\n",
      "\u001b[1;31mAttributeError\u001b[0m: 'ToolValidator' object has no attribute 'isLicensed'"
     ]
    },
    {
     "name": "stdout",
     "output_type": "stream",
     "text": [
      "6.477740000601561  = area of all X zones, 0.2PCT zone subtype in the subwatershed (square km)\n"
     ]
    },
    {
     "ename": "AttributeError",
     "evalue": "'ToolValidator' object has no attribute 'isLicensed'",
     "output_type": "error",
     "traceback": [
      "\u001b[1;31m---------------------------------------------------------------------------\u001b[0m",
      "\u001b[1;31mAttributeError\u001b[0m                            Traceback (most recent call last)",
      "\u001b[1;32mc:\\program files\\arcgis\\pro\\Resources\\ArcToolbox\\toolboxes\\Data Management Tools.tbx#CalculateGeometryAttributes_management.InitializeParameters.py\u001b[0m in \u001b[0;36m<module>\u001b[1;34m\u001b[0m\n",
      "\u001b[1;31mAttributeError\u001b[0m: 'ToolValidator' object has no attribute 'isLicensed'"
     ]
    },
    {
     "ename": "AttributeError",
     "evalue": "'ToolValidator' object has no attribute 'isLicensed'",
     "output_type": "error",
     "traceback": [
      "\u001b[1;31m---------------------------------------------------------------------------\u001b[0m",
      "\u001b[1;31mAttributeError\u001b[0m                            Traceback (most recent call last)",
      "\u001b[1;32mc:\\program files\\arcgis\\pro\\Resources\\ArcToolbox\\toolboxes\\Data Management Tools.tbx#CalculateGeometryAttributes_management.InitializeParameters.py\u001b[0m in \u001b[0;36m<module>\u001b[1;34m\u001b[0m\n",
      "\u001b[1;31mAttributeError\u001b[0m: 'ToolValidator' object has no attribute 'isLicensed'"
     ]
    },
    {
     "name": "stdout",
     "output_type": "stream",
     "text": [
      "5.486178994083076  = area of all water bodies in the subwatershed (square km)\n",
      "1  = number of dams in the subwatershed\n",
      "44  = number of bridges in the subwatershed\n"
     ]
    },
    {
     "ename": "AttributeError",
     "evalue": "'ToolValidator' object has no attribute 'isLicensed'",
     "output_type": "error",
     "traceback": [
      "\u001b[1;31m---------------------------------------------------------------------------\u001b[0m",
      "\u001b[1;31mAttributeError\u001b[0m                            Traceback (most recent call last)",
      "\u001b[1;32mc:\\program files\\arcgis\\pro\\Resources\\ArcToolbox\\toolboxes\\Data Management Tools.tbx#CalculateGeometryAttributes_management.InitializeParameters.py\u001b[0m in \u001b[0;36m<module>\u001b[1;34m\u001b[0m\n",
      "\u001b[1;31mAttributeError\u001b[0m: 'ToolValidator' object has no attribute 'isLicensed'"
     ]
    },
    {
     "ename": "AttributeError",
     "evalue": "'ToolValidator' object has no attribute 'isLicensed'",
     "output_type": "error",
     "traceback": [
      "\u001b[1;31m---------------------------------------------------------------------------\u001b[0m",
      "\u001b[1;31mAttributeError\u001b[0m                            Traceback (most recent call last)",
      "\u001b[1;32mc:\\program files\\arcgis\\pro\\Resources\\ArcToolbox\\toolboxes\\Data Management Tools.tbx#CalculateGeometryAttributes_management.InitializeParameters.py\u001b[0m in \u001b[0;36m<module>\u001b[1;34m\u001b[0m\n",
      "\u001b[1;31mAttributeError\u001b[0m: 'ToolValidator' object has no attribute 'isLicensed'"
     ]
    },
    {
     "name": "stdout",
     "output_type": "stream",
     "text": [
      "974.8939592718276  = sum of all streets in the subwatershed (km)\n"
     ]
    },
    {
     "ename": "AttributeError",
     "evalue": "'ToolValidator' object has no attribute 'isLicensed'",
     "output_type": "error",
     "traceback": [
      "\u001b[1;31m---------------------------------------------------------------------------\u001b[0m",
      "\u001b[1;31mAttributeError\u001b[0m                            Traceback (most recent call last)",
      "\u001b[1;32mc:\\program files\\arcgis\\pro\\Resources\\ArcToolbox\\toolboxes\\Data Management Tools.tbx#CalculateGeometryAttributes_management.InitializeParameters.py\u001b[0m in \u001b[0;36m<module>\u001b[1;34m\u001b[0m\n",
      "\u001b[1;31mAttributeError\u001b[0m: 'ToolValidator' object has no attribute 'isLicensed'"
     ]
    },
    {
     "ename": "AttributeError",
     "evalue": "'ToolValidator' object has no attribute 'isLicensed'",
     "output_type": "error",
     "traceback": [
      "\u001b[1;31m---------------------------------------------------------------------------\u001b[0m",
      "\u001b[1;31mAttributeError\u001b[0m                            Traceback (most recent call last)",
      "\u001b[1;32mc:\\program files\\arcgis\\pro\\Resources\\ArcToolbox\\toolboxes\\Data Management Tools.tbx#CalculateGeometryAttributes_management.InitializeParameters.py\u001b[0m in \u001b[0;36m<module>\u001b[1;34m\u001b[0m\n",
      "\u001b[1;31mAttributeError\u001b[0m: 'ToolValidator' object has no attribute 'isLicensed'"
     ]
    },
    {
     "name": "stdout",
     "output_type": "stream",
     "text": [
      "47.993696209563595  = sum of all railroads in the subwatershed (km)\n",
      "183330  = total population in the subwatershed\n",
      "35.25555555555556  = total percent of dependent population in the subwatershed\n",
      "1466.8992873108052  = population density of subwatershed (people/square km)\n",
      "45709.88888888889  = average median income in the subwatershed\n",
      "20551  = number of residential building footprints in the subwatershed\n",
      "164.43706569314546  = housing density (buildings per square km)\n",
      "177822  = total 2013 population in the subwatershed\n",
      "5508  = population change between 2013 and 2018\n",
      "streams clipped\n"
     ]
    },
    {
     "ename": "AttributeError",
     "evalue": "'ToolValidator' object has no attribute 'isLicensed'",
     "output_type": "error",
     "traceback": [
      "\u001b[1;31m---------------------------------------------------------------------------\u001b[0m",
      "\u001b[1;31mAttributeError\u001b[0m                            Traceback (most recent call last)",
      "\u001b[1;32mc:\\program files\\arcgis\\pro\\Resources\\ArcToolbox\\toolboxes\\Data Management Tools.tbx#CalculateGeometryAttributes_management.InitializeParameters.py\u001b[0m in \u001b[0;36m<module>\u001b[1;34m\u001b[0m\n",
      "\u001b[1;31mAttributeError\u001b[0m: 'ToolValidator' object has no attribute 'isLicensed'"
     ]
    },
    {
     "ename": "AttributeError",
     "evalue": "'ToolValidator' object has no attribute 'isLicensed'",
     "output_type": "error",
     "traceback": [
      "\u001b[1;31m---------------------------------------------------------------------------\u001b[0m",
      "\u001b[1;31mAttributeError\u001b[0m                            Traceback (most recent call last)",
      "\u001b[1;32mc:\\program files\\arcgis\\pro\\Resources\\ArcToolbox\\toolboxes\\Data Management Tools.tbx#CalculateGeometryAttributes_management.InitializeParameters.py\u001b[0m in \u001b[0;36m<module>\u001b[1;34m\u001b[0m\n",
      "\u001b[1;31mAttributeError\u001b[0m: 'ToolValidator' object has no attribute 'isLicensed'"
     ]
    },
    {
     "name": "stdout",
     "output_type": "stream",
     "text": [
      "length calculated\n",
      "116.2868339716693  = length of all streams in subwatershed\n",
      "124.977905154  = subwatershed area\n",
      "0.9304591385843649 is the drainage density (streams/km)\n",
      "18.8971942168  = watershed length (longest stream in subwatershed)\n",
      "2.857336653446299  is the shape factor.\n",
      "0.00265916125264385  = relief ratio\n",
      "0.050250686645  is the relief in km\n",
      "0.046756210608979554  is the ruggedness number\n",
      "6.307273798168138  miles is the radius of a circle with the same area.\n",
      "12.614547596336276  miles is the diameter of a circle with the same area.\n"
     ]
    },
    {
     "ename": "AttributeError",
     "evalue": "'ToolValidator' object has no attribute 'isLicensed'",
     "output_type": "error",
     "traceback": [
      "\u001b[1;31m---------------------------------------------------------------------------\u001b[0m",
      "\u001b[1;31mAttributeError\u001b[0m                            Traceback (most recent call last)",
      "\u001b[1;32mc:\\program files\\arcgis\\pro\\Resources\\ArcToolbox\\toolboxes\\Data Management Tools.tbx#AddGeometryAttributes_management.InitializeParameters.py\u001b[0m in \u001b[0;36m<module>\u001b[1;34m\u001b[0m\n",
      "\u001b[1;31mAttributeError\u001b[0m: 'ToolValidator' object has no attribute 'isLicensed'"
     ]
    },
    {
     "ename": "AttributeError",
     "evalue": "'ToolValidator' object has no attribute 'isLicensed'",
     "output_type": "error",
     "traceback": [
      "\u001b[1;31m---------------------------------------------------------------------------\u001b[0m",
      "\u001b[1;31mAttributeError\u001b[0m                            Traceback (most recent call last)",
      "\u001b[1;32mc:\\program files\\arcgis\\pro\\Resources\\ArcToolbox\\toolboxes\\Data Management Tools.tbx#AddGeometryAttributes_management.InitializeParameters.py\u001b[0m in \u001b[0;36m<module>\u001b[1;34m\u001b[0m\n",
      "\u001b[1;31mAttributeError\u001b[0m: 'ToolValidator' object has no attribute 'isLicensed'"
     ]
    },
    {
     "name": "stdout",
     "output_type": "stream",
     "text": [
      "30.627578735352  = avg impervious percent \n",
      "642.6227111155006\n",
      "602.360505904933\n",
      "orb100yr06h\n",
      "4847.22265625  = avg rainfall in inches *1000\n",
      "orb100yr06ha_am\n",
      "4827.22265625  = avg rainfall in inches *1000\n",
      "orb100yr12h\n",
      "5421.4248046875  = avg rainfall in inches *1000\n",
      "orb100yr12ha_am\n",
      "5399.4248046875  = avg rainfall in inches *1000\n",
      "orb100yr24h\n",
      "5874.0205078125  = avg rainfall in inches *1000\n",
      "orb100yr24ha_am\n",
      "5850.0205078125  = avg rainfall in inches *1000\n",
      "orb25yr06h\n",
      "3732.3679199219  = avg rainfall in inches *1000\n",
      "orb25yr06ha_am\n",
      "3717.1865234375  = avg rainfall in inches *1000\n",
      "orb25yr12h\n",
      "4263.0102539063  = avg rainfall in inches *1000\n",
      "orb25yr12ha_am\n",
      "4245.22265625  = avg rainfall in inches *1000\n",
      "orb25yr24h\n",
      "4783.2954101563  = avg rainfall in inches *1000\n",
      "orb25yr24ha_am\n",
      "4763.404296875  = avg rainfall in inches *1000\n",
      "orb2yr06h\n",
      "2094  = avg rainfall in inches *1000\n",
      "orb2yr06ha_am\n",
      "1927.6787109375  = avg rainfall in inches *1000\n",
      "orb2yr12h\n",
      "2481.4973144531  = avg rainfall in inches *1000\n",
      "orb2yr12ha_am\n",
      "2284.4714355469  = avg rainfall in inches *1000\n",
      "orb2yr24h\n",
      "2931.5646972656  = avg rainfall in inches *1000\n",
      "orb2yr24ha_am\n",
      "2698.9067382813  = avg rainfall in inches *1000\n",
      "orb50yr06h\n",
      "4271.0102539063  = avg rainfall in inches *1000\n",
      "orb50yr06ha_am\n",
      "4253.1708984375  = avg rainfall in inches *1000\n",
      "orb50yr12h\n",
      "4828.77734375  = avg rainfall in inches *1000\n",
      "orb50yr12ha_am\n",
      "4808.77734375  = avg rainfall in inches *1000\n",
      "orb50yr24h\n",
      "5327.087890625  = avg rainfall in inches *1000\n",
      "orb50yr24ha_am\n",
      "5305.087890625  = avg rainfall in inches *1000\n",
      "ZonalSt_subwate1\n",
      "5305.087890625  = avg rainfall in inches *1000\n",
      "194.87 minutes to process.\n"
     ]
    }
   ],
   "source": [
    "st = time()\n",
    "\n",
    "#search cursor through each row of county subwatersheds file\n",
    "rows = arcpy.SearchCursor(all_subwatersheds)\n",
    "\n",
    "for row in rows:\n",
    "    subwatershed_number = row.getValue(\"HUC12\")\n",
    "    \n",
    "    subwatershed_list.append(subwatershed_number)\n",
    "    \n",
    "    print(subwatershed_number, \" is the subwatershed to be worked on\")\n",
    "    \n",
    "    #select subwatershed from shapefile with all of them\n",
    "    subwatershed_selection = arcpy.SelectLayerByAttribute_management(all_subwatersheds, \"NEW_SELECTION\",\n",
    "                                                                     \"HUC12 = \" + \"'\"+subwatershed_number+\"'\")\n",
    "    \n",
    "    #copy selected subwatershed to it's own file\n",
    "    subwatershed = arcpy.CopyFeatures_management(subwatershed_selection, \"subwatershed\")\n",
    "    \n",
    "    #clip dem to subwatershed area\n",
    "    dem_clip = arcpy.Clip_management(dem_Indiana, \"#\", \"dem_clip.tif\", subwatershed, \"#\" , \"ClippingGeometry\", \"NO_MAINTAIN_EXTENT\")\n",
    "    print(\"clipped dem to subwatershed area\")\n",
    "    \n",
    "    #calculate area of subwatershed\n",
    "    arcpy.AddField_management(subwatershed, \"AREA\", \"DOUBLE\")\n",
    "\n",
    "    area = arcpy.CalculateGeometryAttributes_management(subwatershed, \"AREA AREA_GEODESIC\", '', \n",
    "                                                        \"SQUARE_KILOMETERS\",\n",
    "                                                        None)\n",
    "    \n",
    "    #print area\n",
    "    rows = arcpy.SearchCursor(area)\n",
    "\n",
    "    for row in rows:\n",
    "        area = row.getValue(\"AREA\")\n",
    "    \n",
    "    area_list.append(area)\n",
    "    print(area, \" square kilometers\")\n",
    "    \n",
    "    \n",
    "    #calculate perimeter of subwatershed\n",
    "    arcpy.AddField_management(subwatershed, \"PERIMETER\", \"DOUBLE\")\n",
    "    perimeter = arcpy.CalculateGeometryAttributes_management(subwatershed, \"PERIMETER PERIMETER_LENGTH_GEODESIC\",\n",
    "                                                             \"KILOMETERS\")\n",
    "    \n",
    "    print(\"perimeter calculated\")\n",
    "\n",
    "    #print perimeter\n",
    "    rows = arcpy.SearchCursor(perimeter)\n",
    "\n",
    "    for row in rows:\n",
    "        perimeter = row.getValue(\"PERIMETER\")\n",
    "   \n",
    "    perimeter_list.append(perimeter)\n",
    "    print(perimeter, \" kilometers\")\n",
    "    \n",
    "\n",
    "\n",
    "    #get average slope using zonal statistics from slope dem\n",
    "    avg_slope = arcpy.sa.ZonalStatistics(subwatershed, \"FID\", dem_slope, \"MEAN\")\n",
    "\n",
    "    #get slope value\n",
    "    avg_slope_result = arcpy.GetRasterProperties_management(avg_slope, \"MAXIMUM\")\n",
    "\n",
    "    avg_slope_value = avg_slope_result.getOutput(0)\n",
    "    \n",
    "    avg_slope_list.append(avg_slope_value)\n",
    "    \n",
    "    print(avg_slope_value, \" = avg slope (%)\")\n",
    "\n",
    "    \n",
    "    #calculate circulatory ratio\n",
    "    #ratio of area to the area of a circle having equal perimeter as the perimeter of drainage basin\n",
    "\n",
    "    #area of a circle with same perimeter as above\n",
    "    #C = 2(pi)r\n",
    "    #r = C/(2pi)\n",
    "    #A = (pi)r^2\n",
    "    circle_radius = perimeter/(2*numpy.pi)\n",
    "    print(circle_radius, \"is the radius of a circle with the same perimeter.\")\n",
    "    circle_area = (numpy.pi*(circle_radius**2))\n",
    "    print(circle_area, \"is the area of a circle with the same perimeter.\")\n",
    "\n",
    "    #ratio of subwatershed perimeter to circle circumference\n",
    "    circulatory_ratio = area / circle_area\n",
    "    \n",
    "    circulatory_ratio_list.append(circulatory_ratio)\n",
    "    print(circulatory_ratio, \" is the circulatory ratio\")\n",
    "    \n",
    "    \n",
    "    #calculate relief\n",
    "    #elevation difference before basin outlet and highest point located in the perimeter of basin\n",
    "\n",
    "    #find highest point on perimeter\n",
    "\n",
    "    #use Raster Domain tool to get z-enabled polyline of perimeter\n",
    "    perimeter_polyline = arcpy.RasterDomain_3d(dem_clip, \"perimeter_polyline.shp\", \"LINE\")\n",
    "    print(\"created 3d polyline of subwatershed perimeter\")\n",
    "\n",
    "    #Convert each vertices of the polyline into points\n",
    "    perimeter_points = arcpy.FeatureVerticesToPoints_management(perimeter_polyline, \"perimeter_points.shp\")\n",
    "    print(\"created perimeter points\")\n",
    "\n",
    "    #get Z values into the attribute table for the points\n",
    "    perimeter_points_Z = arcpy.AddZInformation_3d(perimeter_points, \"Z\")\n",
    "    print(\"added z information\")\n",
    "\n",
    "    #get the max value from all of the points\n",
    "    perimeter_stats = arcpy.Statistics_analysis(perimeter_points_Z, \"perimeter_stats\", [[\"Z\", \"MAX\"], [\"Z\", \"MIN\"]])\n",
    "\n",
    "    # Get a list of field names to display\n",
    "    field_names = [i.name for i in arcpy.ListFields(perimeter_stats) if i.type != 'OID']\n",
    "\n",
    "    # Open a cursor to extract results from stats table\n",
    "    cursor = arcpy.da.SearchCursor(perimeter_stats, field_names)\n",
    "\n",
    "    # Create a pandas dataframe to display results\n",
    "    df = pd.DataFrame(data=[row for row in cursor],\n",
    "                          columns=field_names)\n",
    "\n",
    "    print(df)\n",
    "\n",
    "    #get the values for max Z and min Z into a format to use them\n",
    "\n",
    "    rows = arcpy.SearchCursor(perimeter_stats)\n",
    "\n",
    "    for row in rows:\n",
    "        max_z = row.getValue(\"MAX_Z\")\n",
    "        min_z = row.getValue(\"MIN_Z\")\n",
    "\n",
    "\n",
    "    print(max_z)\n",
    "    print(min_z)\n",
    "\n",
    "    relief = max_z - min_z\n",
    "    print(\"The relief of the subwatershed is: \", relief,\" meters.\")\n",
    "    \n",
    "    relief_list.append(relief)\n",
    "    \n",
    "    \n",
    "    \n",
    "    #find area covered by A and AE zones and X NFHL Zones\n",
    "    \n",
    "    #clip to subwatershed area\n",
    "    nfhl_sfha_clip = arcpy.Clip_analysis(nfhl_sfha, subwatershed, \"nfhl_sfha.shp\")\n",
    "\n",
    "    #select Zone A and Zone AE\n",
    "    nfhl_sfha_aae_selection = arcpy.management.SelectLayerByAttribute(nfhl_sfha_clip, \"NEW_SELECTION\", \n",
    "                                                       \"FLD_ZONE = 'AE' Or FLD_ZONE = 'A'\", None)\n",
    "\n",
    "    #copy features to new feature class\n",
    "    nfhl_sfha_aae = arcpy.CopyFeatures_management(nfhl_sfha_aae_selection, \"nfhl_sfha_aae\")\n",
    "\n",
    "    #add new field for area\n",
    "    nfhl_sfha_aae_addfield = arcpy.AddField_management(nfhl_sfha_aae, \"AREA\", \"DOUBLE\")\n",
    "\n",
    "    #calculate the area for each of the features\n",
    "    aae_area = arcpy.CalculateGeometryAttributes_management(nfhl_sfha_aae_addfield, \"AREA AREA_GEODESIC\", '', \n",
    "                                                        \"SQUARE_KILOMETERS\",\n",
    "                                                        None)\n",
    "    #get the sum of all of the areas\n",
    "    aae_area_list = []  \n",
    "\n",
    "    rows = arcpy.SearchCursor(aae_area)  \n",
    "    for row in rows:  \n",
    "        aae_area_feature = row.getValue(\"AREA\")  \n",
    "        aae_area_list.append(aae_area_feature)  \n",
    "\n",
    "    aae_area_sum = sum(aae_area_list)\n",
    "    \n",
    "    aae_list.append(aae_area_sum)\n",
    "\n",
    "    print(aae_area_sum, \" = area of all AE and A zones in the subwatershed (square km)\")\n",
    "\n",
    "\n",
    "\n",
    "    #select Zone X, 0.2% chance flood area\n",
    "    nfhl_sfha_x_selection = arcpy.management.SelectLayerByAttribute(nfhl_sfha_clip, \"NEW_SELECTION\", \n",
    "                                                       \"FLD_ZONE = 'X' And ZONE_SUBTY = '0.2 PCT ANNUAL CHANCE FLOOD HAZARD'\",\n",
    "                                                                      None)\n",
    "\n",
    "    #copy features to new feature class\n",
    "    nfhl_sfha_x = arcpy.CopyFeatures_management(nfhl_sfha_x_selection, \"nfhl_sfha_x\")\n",
    "\n",
    "    #add new field for area\n",
    "    nfhl_sfha_x_addfield = arcpy.AddField_management(nfhl_sfha_x, \"AREA\", \"DOUBLE\")\n",
    "\n",
    "    #calculate the area for each of the features\n",
    "    x_area = arcpy.CalculateGeometryAttributes_management(nfhl_sfha_x_addfield, \"AREA AREA_GEODESIC\", '', \n",
    "                                                        \"SQUARE_KILOMETERS\",\n",
    "                                                        None)\n",
    "    #get the sum of all of the areas\n",
    "    x_area_list = []  \n",
    "\n",
    "    rows = arcpy.SearchCursor(x_area)  \n",
    "    for row in rows:  \n",
    "        x_area_feature = row.getValue(\"AREA\")  \n",
    "        x_area_list.append(x_area_feature)  \n",
    "\n",
    "    x_area_sum = sum(x_area_list)\n",
    "    \n",
    "    x_list.append(x_area_sum)\n",
    "\n",
    "    print(x_area_sum, \" = area of all X zones, 0.2PCT zone subtype in the subwatershed (square km)\")\n",
    "\n",
    "\n",
    "    #calculate area covered by lakes/reserviors \n",
    "    \n",
    "    #clip to subwatershed area\n",
    "    water_bodies_clip = arcpy.Clip_analysis(water_bodies, subwatershed, \"water_bodies.shp\")\n",
    "\n",
    "    #copy features to new feature class\n",
    "    water_bodies_copy = arcpy.CopyFeatures_management(water_bodies_clip, \"water_bodies_copy.shp\")\n",
    "\n",
    "    #add new field for area\n",
    "    water_bodies_addfield = arcpy.AddField_management(water_bodies_copy, \"AREA\", \"DOUBLE\")\n",
    "\n",
    "    #calculate the area for each of the features\n",
    "    water_bodies_area = arcpy.CalculateGeometryAttributes_management(water_bodies_addfield, \"AREA AREA_GEODESIC\", '', \n",
    "                                                        \"SQUARE_KILOMETERS\",\n",
    "                                                        None)\n",
    "    #get the sum of all of the areas\n",
    "    water_bodies_area_list = []  \n",
    "\n",
    "    rows = arcpy.SearchCursor(water_bodies_area)  \n",
    "    for row in rows:  \n",
    "        wb_area_values = row.getValue(\"AREA\")  \n",
    "        water_bodies_area_list.append(wb_area_values)  \n",
    "\n",
    "    water_bodies_area_sum = sum(water_bodies_area_list)\n",
    "    \n",
    "    water_bodies_list.append(water_bodies_area_sum)\n",
    "    print(water_bodies_area_sum, \" = area of all water bodies in the subwatershed (square km)\")\n",
    "    \n",
    "    \n",
    "    #count all of the dams in the subwatershed\n",
    "\n",
    "    #clip dams to subwatershed\n",
    "    dams_clip = arcpy.Clip_analysis(dams, subwatershed, \"dams.shp\")\n",
    "\n",
    "    #count number of dam points\n",
    "    dams_count = arcpy.GetCount_management(dams_clip)\n",
    "    \n",
    "    dams_list.append(dams_count)\n",
    "\n",
    "    print(dams_count, \" = number of dams in the subwatershed\")\n",
    "\n",
    "    \n",
    "    \n",
    "    #count all of the bridges in the subwatershed\n",
    "\n",
    "    #clip bridges to subwatershed\n",
    "    bridges_clip = arcpy.Clip_analysis(bridges, subwatershed, \"bridges.shp\")\n",
    "\n",
    "    #count number of dam points\n",
    "    bridges_count = arcpy.GetCount_management(bridges_clip)\n",
    "    \n",
    "    bridges_list.append(bridges_count)\n",
    "\n",
    "    print(bridges_count, \" = number of bridges in the subwatershed\")\n",
    "    \n",
    "    \n",
    "    \n",
    "    #calculate the kilometers of streets in the subwatershed\n",
    "\n",
    "    #clip streets to subwatershed area \n",
    "    streets_clip = arcpy.Clip_analysis(streets, subwatershed, \"streets.shp\")\n",
    "\n",
    "    #add field to calculate length of each street\n",
    "    streets_addfield = arcpy.AddField_management(streets_clip, \"LENGTH_KM\", \"DOUBLE\")\n",
    "\n",
    "    #calculate the area for each of the features\n",
    "    streets_length = arcpy.CalculateGeometryAttributes_management(streets_addfield, \"LENGTH_KM LENGTH_GEODESIC\", \n",
    "                                                                  'KILOMETERS')\n",
    "    #get the sum of all of the areas\n",
    "    streets_lengths_list = []  \n",
    "\n",
    "    rows = arcpy.SearchCursor(streets_length)  \n",
    "    for row in rows:  \n",
    "        streets_lengths_values = row.getValue(\"LENGTH_KM\")  \n",
    "        streets_lengths_list.append(streets_lengths_values)  \n",
    "\n",
    "    streets_length_sum = sum(streets_lengths_list)\n",
    "    \n",
    "    streets_list.append(streets_length_sum)\n",
    "\n",
    "    print(streets_length_sum, \" = sum of all streets in the subwatershed (km)\")\n",
    "\n",
    "    \n",
    "    #calculate km of railroads in subwatershed\n",
    "\n",
    "    #clip railroads to subwatershed area \n",
    "    railroads_clip = arcpy.Clip_analysis(railroads, subwatershed, \"railroads.shp\")\n",
    "\n",
    "    #add field to calculate length of each railroad\n",
    "    railroads_addfield = arcpy.AddField_management(railroads_clip, \"LENGTH_KM\", \"DOUBLE\")\n",
    "\n",
    "    #calculate the area for each of the features\n",
    "    railroads_length = arcpy.CalculateGeometryAttributes_management(railroads_addfield, \"LENGTH_KM LENGTH_GEODESIC\", 'KILOMETERS', \n",
    "                                                        \"\",\n",
    "                                                        None)\n",
    "    #get the sum of all of the areas\n",
    "    railroads_lengths_list = []  \n",
    "\n",
    "    rows = arcpy.SearchCursor(railroads_length)  \n",
    "    for row in rows:  \n",
    "        railroads_lengths_values = row.getValue(\"LENGTH_KM\")  \n",
    "        railroads_lengths_list.append(railroads_lengths_values)  \n",
    "\n",
    "    railroads_length_sum = sum(railroads_lengths_list)\n",
    "    \n",
    "    railroads_list.append(railroads_length_sum)\n",
    "\n",
    "    print(railroads_length_sum, \" = sum of all railroads in the subwatershed (km)\")   \n",
    "    \n",
    "    \n",
    "    #ACS population data - 5 year estimates (2014-2018) gotten from ESRI Living Atlas Data\n",
    "    #data is chosen to be on census tract level\n",
    "\n",
    "   \n",
    "    #clip to subwatershed\n",
    "    population_clip = arcpy.Clip_analysis(population, subwatershed, \"population.shp\")\n",
    "\n",
    "    #get total population\n",
    "    #field = B01001_001E = Total Population (alias)\n",
    "    #when clipped, field name changes to B01001_001\n",
    "\n",
    "    #get the sum of all of the populations in each tract\n",
    "    total_pop_list = []  \n",
    "\n",
    "    rows = arcpy.SearchCursor(population_clip)  \n",
    "    for row in rows:  \n",
    "        total_pop_value = row.getValue('B01001_001') \n",
    "        total_pop_list.append(total_pop_value)  \n",
    "\n",
    "    total_pop_sum = sum(total_pop_list)\n",
    "    \n",
    "    population_list.append(total_pop_sum)\n",
    "    print(total_pop_sum, \" = total population in the subwatershed\") \n",
    "    \n",
    "    #get the average of percentages of dependent age groups in each tract\n",
    "    #field = B01001_calc_pctDependE = Percent of Population in Dependent Age Groups (under 18 and 65+) (alias)\n",
    "    #when clipped field changes to B01001_61\n",
    "    dependent_pop_list = []  \n",
    "\n",
    "    rows = arcpy.SearchCursor(population_clip)  \n",
    "    for row in rows:  \n",
    "        dependent_pop_value = row.getValue('B01001__61') \n",
    "        dependent_pop_list.append(dependent_pop_value)  \n",
    "\n",
    "    dependent_pop_avg_pct = mean(dependent_pop_list)\n",
    "    \n",
    "    dependent_population_list.append(dependent_pop_avg_pct)\n",
    "\n",
    "    print(dependent_pop_avg_pct, \" = total percent of dependent population in the subwatershed\") \n",
    "    \n",
    "    #find population density\n",
    "    population_density = total_pop_sum / area\n",
    "    \n",
    "    population_density_list.append(population_density)\n",
    "    \n",
    "    print(population_density, \" = population density of subwatershed (people/square km)\")\n",
    "\n",
    "    \n",
    "    #ACS population data - 5 year estimates (2014-2018) gotten from ESRI Living Atlas Data\n",
    "    #data is chosen to be on census tract level\n",
    "\n",
    "    #clip to subwatershed\n",
    "    median_income_clip = arcpy.Clip_analysis(median_income, subwatershed, \"median_income.shp\")\n",
    "\n",
    "    #get average median income \n",
    "    #field = B19049_001 = Median Household Income in past 12 months \n",
    "    #^(inflation-adjusted dollars to last year of 5-year range) (alias)\n",
    "\n",
    "    #get the sum of all of the populations in each tract\n",
    "    total_median_income_list = []  \n",
    "\n",
    "    rows = arcpy.SearchCursor(median_income_clip)  \n",
    "    for row in rows:  \n",
    "        median_income_value = row.getValue('B19049_001') \n",
    "        total_median_income_list.append(median_income_value)  \n",
    "\n",
    "    median_income_average = mean(total_median_income_list)\n",
    "    \n",
    "    avg_median_income_list.append(median_income_average)\n",
    "\n",
    "    print(median_income_average, \" = average median income in the subwatershed\") \n",
    "\n",
    "    \n",
    "    #get housing density\n",
    "\n",
    "    #clip building footprints to subwatershed area\n",
    "    building_footprints_clip = arcpy.Clip_analysis(building_footprints, subwatershed, \"building_footprints.shp\")\n",
    "\n",
    "    #select buildings that are marked residential\n",
    "    building_footprints_residential = arcpy.SelectLayerByAttribute_management(building_footprints_clip, \"NEW_SELECTION\",\n",
    "                                                                         \"RES_NONRES = 'Res'\")\n",
    "\n",
    "    #get count of how many buildings there are \n",
    "    buildings_count = arcpy.GetCount_management(building_footprints_residential)\n",
    "\n",
    "    buildings_count_number = buildings_count.getOutput(0)\n",
    "    print(buildings_count_number, \" = number of residential building footprints in the subwatershed\")\n",
    "\n",
    "    #divide number of buildings by subwatershed area\n",
    "    housing_density = int(buildings_count_number) / area\n",
    "    \n",
    "    housing_density_list.append(housing_density)\n",
    "\n",
    "    print(housing_density, \" = housing density (buildings per square km)\")\n",
    "    \n",
    "    \n",
    "   #find total population from the 2013 5-year ACS estimates\n",
    "    #get the sum of all of the 2013 populations in each tract\n",
    "    #field = DP05_0001E = TotalPopulation from the 2013 ACS 5yr estimates\n",
    "    total_pop_list_2013 = []  \n",
    "\n",
    "    rows = arcpy.SearchCursor(population_clip)  \n",
    "    for row in rows:  \n",
    "        total_pop_value_2013 = row.getValue('DP05_0001E')\n",
    "        if total_pop_value_2013 != '0':\n",
    "            total_pop_list_2013.append(int(total_pop_value_2013))  \n",
    "\n",
    "    total_pop_sum_2013 = sum( total_pop_list_2013)\n",
    "\n",
    "    print(total_pop_sum_2013, \" = total 2013 population in the subwatershed\") \n",
    "\n",
    "    #find population change between 2018 and 2013\n",
    "    population_change = total_pop_sum - total_pop_sum_2013\n",
    "    \n",
    "    population_change_list.append(population_change)\n",
    "    print(population_change, \" = population change between 2013 and 2018\")\n",
    "\n",
    "    \n",
    "    \n",
    "   \n",
    "    #calculate drainage density\n",
    "    #the total length of all streams and tributaries divided by basin area\n",
    "\n",
    "    #all streams in subwatershed\n",
    "    streams_clip = arcpy.Clip_analysis(streams, subwatershed, \"streams\")\n",
    "    print(\"streams clipped\")\n",
    "\n",
    "    #add field for length\n",
    "    streams_addfield = arcpy.AddField_management(streams_clip, \"LENGTH\", \"DOUBLE\")\n",
    "\n",
    "    #calculate geometry \n",
    "    streams_calculate = arcpy.CalculateGeometryAttributes_management(streams_addfield, [[\"LENGTH\", \"LENGTH_GEODESIC\"]], \n",
    "                                                                     \"KILOMETERS\")\n",
    "    print(\"length calculated\")\n",
    "\n",
    "    #get the sum of all of the areas\n",
    "    stream_length_list = []  \n",
    "\n",
    "    rows = arcpy.SearchCursor(streams_calculate)  \n",
    "    for row in rows:  \n",
    "        stream_length = row.getValue(\"LENGTH\")  \n",
    "        stream_length_list.append(stream_length)  \n",
    "\n",
    "    stream_length_sum = sum(stream_length_list)\n",
    "\n",
    "    print(stream_length_sum, \" = length of all streams in subwatershed\")\n",
    "\n",
    "    print(area, \" = subwatershed area\")\n",
    "\n",
    "    drainage_density = stream_length_sum / area\n",
    "    \n",
    "    drainage_density_list.append(drainage_density)\n",
    "\n",
    "    print(drainage_density, \"is the drainage density (streams/km)\")\n",
    "\n",
    "    #find watershed length\n",
    "    #watershed length = distance from outlet to watershed boundary along the main channel\n",
    "    #we are assuming that the longest stream above is the main channel\n",
    "\n",
    "    watershed_length = max(stream_length_list)\n",
    "    \n",
    "    watershed_length_list.append(watershed_length)\n",
    "\n",
    "    print(watershed_length, \" = watershed length (longest stream in subwatershed)\")\n",
    "    \n",
    "    \n",
    "    #calculate shape factor \n",
    "    #watershed length squared divided by watershed area\n",
    "\n",
    "    shape_factor = (watershed_length**2) / area\n",
    "    \n",
    "    shape_factor_list.append(shape_factor)\n",
    "\n",
    "    print(shape_factor, \" is the shape factor.\")\n",
    "    \n",
    "    \n",
    "    \n",
    "    #calculate relief ratio\n",
    "    #relief divided by watershed length\n",
    "    #length is is kilometers, convert to meters\n",
    "\n",
    "    watershed_length_meters = watershed_length * 1000\n",
    "\n",
    "    relief_ratio = relief / watershed_length_meters\n",
    "    \n",
    "    relief_ratio_list.append(relief_ratio)\n",
    "\n",
    "    print(relief_ratio, \" = relief ratio\")\n",
    "    \n",
    "    \n",
    "    #calculate ruggedness number\n",
    "    #product of relief and drainage density\n",
    "\n",
    "    #relief is in meters, convert first to km\n",
    "    relief_km = relief / 1000\n",
    "    print(relief_km, \" is the relief in km\")\n",
    "\n",
    "    ruggedness = relief_km * drainage_density\n",
    "    \n",
    "    ruggedness_list.append(ruggedness)\n",
    "    print(ruggedness, \" is the ruggedness number\")\n",
    "    \n",
    "    \n",
    "    #calculate elongation ratio\n",
    "    #ratio of diameter of a circle having the same area as the basin to the max basin length\n",
    "    \n",
    "\n",
    "    #diameter of circle with same area\n",
    "    #A = (pi)r^2\n",
    "    #r = sqrt(A/pi)\n",
    "    #d = r*2\n",
    "\n",
    "    radius = numpy.sqrt(area/numpy.pi)\n",
    "    print(radius, \" miles is the radius of a circle with the same area.\")\n",
    "\n",
    "    diameter = radius*2\n",
    "    print(diameter, \" miles is the diameter of a circle with the same area.\")\n",
    "\n",
    "    elongation_ratio = diameter / watershed_length\n",
    "    \n",
    "    elongation_ratio_list.append(elongation_ratio)\n",
    "    \n",
    "    \n",
    "    #get number of buildings inside the aae zone\n",
    "    \n",
    "    buildings_aae_select = arcpy.SelectLayerByLocation_management(building_footprints_clip, \"INTERSECT\", nfhl_sfha_aae )\n",
    "    \n",
    "    buildings_aae = arcpy.CopyFeatures_management(buildings_aae_select, \"buildings_aae.shp\")\n",
    "    \n",
    "    buildings_aae_count = arcpy.GetCount_management(buildings_aae)\n",
    "    \n",
    "    buildings_aae_list.append(buildings_aae_count)\n",
    "    \n",
    "    #get number of buildings inside the x zone\n",
    "    \n",
    "    buildings_x_select = arcpy.SelectLayerByLocation_management(building_footprints_clip, \"INTERSECT\", nfhl_sfha_x )\n",
    "    \n",
    "    buildings_x = arcpy.CopyFeatures_management(buildings_x_select, \"buildings_x.shp\")\n",
    "    \n",
    "    buildings_x_count = arcpy.GetCount_management(buildings_x)\n",
    "    \n",
    "    buildings_x_list.append(buildings_x_count)\n",
    "\n",
    "    #get area of various land use codes\n",
    "    #clip usa land use polygon to the subwatershed\n",
    "    lu_subwatershed = arcpy.Clip_analysis(lu_usa, subwatershed, \"lu_subwatershed.shp\")\n",
    "    \n",
    "    lu_subwatershed_area = arcpy.AddGeometryAttributes_management(lu_subwatershed, \"AREA_GEODESIC\", '',\n",
    "                                                      \"SQUARE_KILOMETERS\")\n",
    "    \n",
    "    \n",
    "    #lu 21 = developed open space\n",
    "    lu_21_select = arcpy.SelectLayerByAttribute_management(lu_subwatershed_area, \"NEW_SELECTION\",\n",
    "                                                                         \"gridcode = 21\")\n",
    "\n",
    "    lu_21 = arcpy.CopyFeatures_management(lu_21_select, \"lu_21.shp\")\n",
    "    \n",
    "    #get the sum of all of the areas\n",
    "    lu_21_polygons_list = []  \n",
    "\n",
    "    rows = arcpy.SearchCursor(lu_21)  \n",
    "    for row in rows:  \n",
    "        lu_21_polygon = row.getValue(\"AREA_GEO\")  \n",
    "        lu_21_polygons_list.append(lu_21_polygon)  \n",
    "\n",
    "    lu_21_area_sum = sum(lu_21_polygons_list)\n",
    "    \n",
    "    lu_21_list.append(lu_21_area_sum)\n",
    "    \n",
    "    \n",
    "    \n",
    "    #lu 22 = developed low intensity\n",
    "    lu_22_select = arcpy.SelectLayerByAttribute_management(lu_subwatershed_area, \"NEW_SELECTION\",\n",
    "                                                                         \"gridcode = 22\")\n",
    "\n",
    "    lu_22 = arcpy.CopyFeatures_management(lu_22_select, \"lu_22.shp\")\n",
    "    \n",
    "    #get the sum of all of the areas\n",
    "    lu_22_polygons_list = []  \n",
    "\n",
    "    rows = arcpy.SearchCursor(lu_22)  \n",
    "    for row in rows:  \n",
    "        lu_22_polygon = row.getValue(\"AREA_GEO\")  \n",
    "        lu_22_polygons_list.append(lu_22_polygon)  \n",
    "\n",
    "    lu_22_area_sum = sum(lu_22_polygons_list)\n",
    "    \n",
    "    lu_22_list.append(lu_22_area_sum)\n",
    "    \n",
    "    \n",
    "    #lu 23 = developed medium intensity\n",
    "    lu_23_select = arcpy.SelectLayerByAttribute_management(lu_subwatershed_area, \"NEW_SELECTION\",\n",
    "                                                                         \"gridcode = 23\")\n",
    "\n",
    "    lu_23 = arcpy.CopyFeatures_management(lu_23_select, \"lu_23.shp\")\n",
    "    \n",
    "    #get the sum of all of the areas\n",
    "    lu_23_polygons_list = []  \n",
    "\n",
    "    rows = arcpy.SearchCursor(lu_23)  \n",
    "    for row in rows:  \n",
    "        lu_23_polygon = row.getValue(\"AREA_GEO\")  \n",
    "        lu_23_polygons_list.append(lu_23_polygon)  \n",
    "\n",
    "    lu_23_area_sum = sum(lu_23_polygons_list)\n",
    "    \n",
    "    lu_23_list.append(lu_23_area_sum)\n",
    "    \n",
    "    \n",
    "    \n",
    "    #lu 24 = developed high intensity\n",
    "    lu_24_select = arcpy.SelectLayerByAttribute_management(lu_subwatershed_area, \"NEW_SELECTION\",\n",
    "                                                                         \"gridcode = 24\")\n",
    "\n",
    "    lu_24 = arcpy.CopyFeatures_management(lu_24_select, \"lu_24.shp\")\n",
    "    \n",
    "    #get the sum of all of the areas\n",
    "    lu_24_polygons_list = []  \n",
    "\n",
    "    rows = arcpy.SearchCursor(lu_24)  \n",
    "    for row in rows:  \n",
    "        lu_24_polygon = row.getValue(\"AREA_GEO\")  \n",
    "        lu_24_polygons_list.append(lu_24_polygon)  \n",
    "\n",
    "    lu_24_area_sum = sum(lu_24_polygons_list)\n",
    "    \n",
    "    lu_24_list.append(lu_24_area_sum)\n",
    "    \n",
    "    \n",
    "    \n",
    "    #lu 41 = deciduous forest\n",
    "    lu_41_select = arcpy.SelectLayerByAttribute_management(lu_subwatershed_area, \"NEW_SELECTION\",\n",
    "                                                                         \"gridcode = 41\")\n",
    "\n",
    "    lu_41 = arcpy.CopyFeatures_management(lu_41_select, \"lu_41.shp\")\n",
    "    \n",
    "    #get the sum of all of the areas\n",
    "    lu_41_polygons_list = []  \n",
    "\n",
    "    rows = arcpy.SearchCursor(lu_41)  \n",
    "    for row in rows:  \n",
    "        lu_41_polygon = row.getValue(\"AREA_GEO\")  \n",
    "        lu_41_polygons_list.append(lu_41_polygon)  \n",
    "\n",
    "    lu_41_area_sum = sum(lu_41_polygons_list)\n",
    "    \n",
    "    lu_41_list.append(lu_41_area_sum)\n",
    "    \n",
    "    \n",
    "    #lu 82 = cultivated crops\n",
    "    lu_82_select = arcpy.SelectLayerByAttribute_management(lu_subwatershed_area, \"NEW_SELECTION\",\n",
    "                                                                         \"gridcode = 82\")\n",
    "\n",
    "    lu_82 = arcpy.CopyFeatures_management(lu_82_select, \"lu_82.shp\")\n",
    "    \n",
    "    #get the sum of all of the areas\n",
    "    lu_82_polygons_list = []  \n",
    "\n",
    "    rows = arcpy.SearchCursor(lu_82)  \n",
    "    for row in rows:  \n",
    "        lu_82_polygon = row.getValue(\"AREA_GEO\")  \n",
    "        lu_82_polygons_list.append(lu_82_polygon)  \n",
    "\n",
    "    lu_82_area_sum = sum(lu_82_polygons_list)\n",
    "    \n",
    "    lu_82_list.append(lu_82_area_sum)\n",
    "    \n",
    "    \n",
    "    \n",
    "    #get percent impervious indicator for subwatershed area\n",
    "    avg_impervious_pct = arcpy.sa.ZonalStatistics(subwatershed, \"FID\", impervious_usa, \"MEAN\" )\n",
    "    \n",
    "    #get avg value  value\n",
    "    avg_impervious_result = arcpy.GetRasterProperties_management(avg_impervious_pct, \"MAXIMUM\")\n",
    "\n",
    "    avg_impervious_pct_value = avg_impervious_result.getOutput(0)\n",
    "    print(avg_impervious_pct_value, \" = avg impervious percent \")\n",
    "    \n",
    "    impervious_percent_list.append(avg_impervious_pct_value)\n",
    "    \n",
    "    \n",
    "    \n",
    "    #get distance from residential buildings to streams\n",
    "\n",
    "    building_footprints_residential_copy = arcpy.CopyFeatures_management(building_footprints_residential, \"buildings_res.shp\")\n",
    "\n",
    "\n",
    "    #project buildings and streams so they are in the same GCS\n",
    "    output_coord_system = arcpy.SpatialReference(r\"P:\\Temp\\McAvoy\\ML_DataCollection\\Marion_County_Data\\NAD1983_ProjectionFile.prj\")\n",
    "\n",
    "    streams_project = arcpy.Project_management(streams_clip, \"streams_project.shp\",\n",
    "                                              output_coord_system)\n",
    "\n",
    "    buildings_project = arcpy.Project_management(building_footprints_residential_copy, \"buildings_res_project.shp\",\n",
    "                                              output_coord_system)\n",
    "\n",
    "    #use near tool to get distance to steams\n",
    "\n",
    "    buildings_near = arcpy.Near_analysis(buildings_project, streams_project, \"\", \"LOCATION\", \"\", \"GEODESIC\")\n",
    "\n",
    "    #get all the distances in to the streams\n",
    "    dist_to_stream_list = []\n",
    "    rows = arcpy.SearchCursor(buildings_near)  \n",
    "    for row in rows:  \n",
    "        dist_to_stream = row.getValue(\"NEAR_DIST\")  \n",
    "        dist_to_stream_list.append(dist_to_stream)  \n",
    "\n",
    "    dist_to_stream_avg = mean(dist_to_stream_list)\n",
    "\n",
    "    dist_to_stream_stdev = std(dist_to_stream_list)\n",
    "\n",
    "    print(dist_to_stream_avg)\n",
    "    print(dist_to_stream_stdev)\n",
    "    \n",
    "    dist_to_stream_avg_list.append(dist_to_stream_avg)\n",
    "    dist_to_stream_stdev_list.append(dist_to_stream_stdev)\n",
    "\n",
    "    \n",
    "    \n",
    "    \n",
    "    \n",
    "    \n",
    "    \n",
    "    \n",
    "    \n",
    "    \n",
    "    \n",
    "    \n",
    "    \n",
    "    \n",
    "    \n",
    "    \n",
    "    \n",
    "    \n",
    "    \n",
    "    \n",
    "    \n",
    "    \n",
    "    \n",
    "    \n",
    "    \n",
    "    \n",
    "    \n",
    "    \n",
    "    \n",
    " ## LOOP    \n",
    "    \n",
    "    #loop through all rainfall rasters in the same folder \n",
    "\n",
    "   \n",
    "    arcpy.env.workspace = directory_rainfall\n",
    "\n",
    "    rasters = arcpy.ListRasters()\n",
    "\n",
    "    for raster in rasters:\n",
    "\n",
    "        raster_name = os.path.basename(raster).rstrip(os.path.splitext(raster)[1])\n",
    "        print(raster_name)\n",
    "\n",
    "        #get average rainfall for duration using zonal statistics\n",
    "        avg_rainfall = arcpy.sa.ZonalStatistics(subwatershed, \"FID\", raster, \"MEAN\" )\n",
    "\n",
    "        #get avg value  value\n",
    "        avg_result = arcpy.GetRasterProperties_management(avg_rainfall, \"MAXIMUM\")\n",
    "\n",
    "        rainfall_value = avg_result.getOutput(0)\n",
    "        print(rainfall_value, \" = avg rainfall in inches *1000\")\n",
    "\n",
    "        if raster_name == \"orb100yr06h\":\n",
    "            orb100yr06h_list.append(rainfall_value)\n",
    "\n",
    "        elif raster_name == \"orb100yr12h\":\n",
    "            orb100yr12h_list.append(rainfall_value)\n",
    "\n",
    "        elif raster_name == \"orb100yr24h\":\n",
    "            orb100yr24h_list.append(rainfall_value)\n",
    "\n",
    "        elif raster_name == \"orb25yr06h\":\n",
    "            orb25yr06h_list.append(rainfall_value)\n",
    "\n",
    "        elif raster_name == \"orb25yr12h\":\n",
    "            orb25yr12h_list.append(rainfall_value)\n",
    "\n",
    "        elif raster_name == \"orb25yr24h\":\n",
    "            orb25yr24h_list.append(rainfall_value)\n",
    "\n",
    "        elif raster_name == \"orb2yr06h\":\n",
    "            orb2yr06h_list.append(rainfall_value)\n",
    "\n",
    "        elif raster_name == \"orb2yr12h\":\n",
    "            orb2yr12h_list.append(rainfall_value)\n",
    "\n",
    "        elif raster_name == \"orb2yr24h\":\n",
    "            orb2yr24h_list.append(rainfall_value)\n",
    "\n",
    "        elif raster_name == \"orb50yr06h\":\n",
    "            orb50yr06h_list.append(rainfall_value)\n",
    "\n",
    "        elif raster_name == \"orb50yr12h\":\n",
    "            orb50yr12h_list.append(rainfall_value)\n",
    "\n",
    "        elif raster_name == \"orb50yr24h\":\n",
    "            orb50yr24h_list.append(rainfall_value)\n",
    "\n",
    "        elif raster_name == \"orb100yr06ha_am\":\n",
    "            orb100yr06ha_am_list.append(rainfall_value)\n",
    "\n",
    "        elif raster_name == \"orb100yr12ha_am\":\n",
    "            orb100yr12ha_am_list.append(rainfall_value)\n",
    "\n",
    "        elif raster_name == \"orb100yr24ha_am\":\n",
    "            orb100yr24ha_am_list.append(rainfall_value)\n",
    "\n",
    "        elif raster_name == \"orb25yr06ha_am\":\n",
    "            orb25yr06ha_am_list.append(rainfall_value)\n",
    "\n",
    "        elif raster_name == \"orb25yr12ha_am\":\n",
    "            orb25yr12ha_am_list.append(rainfall_value)\n",
    "\n",
    "        elif raster_name == \"orb25yr24ha_am\":\n",
    "            orb25yr24ha_am_list.append(rainfall_value)\n",
    "\n",
    "        elif raster_name == \"orb2yr06ha_am\":\n",
    "            orb2yr06ha_am_list.append(rainfall_value)\n",
    "\n",
    "        elif raster_name == \"orb2yr12ha_am\":\n",
    "            orb2yr12ha_am_list.append(rainfall_value)\n",
    "\n",
    "        elif raster_name == \"orb2yr24ha_am\":\n",
    "            orb2yr24ha_am_list.append(rainfall_value)\n",
    "\n",
    "        elif raster_name == \"orb50yr06ha_am\":\n",
    "            orb50yr06ha_am_list.append(rainfall_value)\n",
    "\n",
    "        elif raster_name == \"orb50yr12ha_am\":\n",
    "            orb50yr12ha_am_list.append(rainfall_value)\n",
    "\n",
    "        elif raster_name == \"orb50yr24ha_am\":\n",
    "            orb50yr24ha_am_list.append(rainfall_value)\n",
    "\n",
    "        else:\n",
    "            continue \n",
    "    \n",
    "    \n",
    "    \n",
    "    #set workspace environment back to the newly created folder\n",
    "    arcpy.env.workspace = output_workspace\n",
    "    \n",
    "    \n",
    "\n",
    "    \n",
    "    \n",
    "#########################################################################################\n",
    "\n",
    "\n",
    "    \n",
    "    \n",
    "print(round(((time()-st)/60), 2) , 'minutes to process.')    \n",
    "    "
   ]
  },
  {
   "cell_type": "code",
   "execution_count": 6,
   "metadata": {},
   "outputs": [
    {
     "name": "stdout",
     "output_type": "stream",
     "text": [
      "    subwatershed        area   perimeter  circulatory_ratio     relief  \\\n",
      "0   051202011005   51.500430   49.690827           0.262101  66.799683   \n",
      "1   051202011110   54.559599   58.231638           0.202192  70.502246   \n",
      "2   051202011203   59.007372   67.845744           0.161091  65.457077   \n",
      "3   051202010904   88.482299   76.322877           0.190878  62.255768   \n",
      "4   051202011201   60.150318   54.614800           0.253412  66.397325   \n",
      "5   051202011109   70.790345   55.883574           0.284850  67.048756   \n",
      "6   051202011204   44.793074   58.480240           0.164590  77.650314   \n",
      "7   051202011006   84.595867   75.123204           0.188370  58.463043   \n",
      "8   051202011202   57.856691   49.379719           0.298172  65.763000   \n",
      "9   051202040501   48.664332   42.154719           0.344135  27.052414   \n",
      "10  051202011205  124.977905  108.898378           0.132434  50.250687   \n",
      "\n",
      "          avg_slope  watershed_length  elongation_ratio  drainage_density  \\\n",
      "0   2.8982155323029         22.401481          0.361480          0.844906   \n",
      "1   3.9962348937988         17.736718          0.469913          0.966828   \n",
      "2   3.4675014019012         27.276516          0.317775          1.209052   \n",
      "3    4.538857460022         28.472564          0.372784          0.790956   \n",
      "4   2.8584625720978         18.396835          0.475698          0.511867   \n",
      "5   2.7931575775146         20.348676          0.466558          1.196911   \n",
      "6   3.5403394699097         25.413833          0.297160          1.199305   \n",
      "7   3.6725513935089         25.074297          0.413905          1.016808   \n",
      "8    3.031311750412         18.765014          0.457386          0.857695   \n",
      "9   2.5301661491394         12.178943          0.646325          1.073731   \n",
      "10  3.9238591194153         18.897194          0.667535          0.930459   \n",
      "\n",
      "    shape_factor  ...  orb100yr24ha_am   orb25yr06ha_am   orb25yr12ha_am  \\\n",
      "0       9.744120  ...  5993.1577148438  3746.9079589844  4281.6313476563   \n",
      "1       5.766009  ...  5955.7709960938  3760.8071289063  4282.1083984375   \n",
      "2      12.608735  ...  5783.6235351563  3683.5913085938  4222.4301757813   \n",
      "3       9.162136  ...  5893.0229492188  3715.2424316406  4257.8256835938   \n",
      "4       5.626629  ...     5830.9140625  3710.8386230469  4245.5698242188   \n",
      "5       5.849225  ...  5993.2880859375   3760.837890625  4288.4326171875   \n",
      "6      14.418812  ...  5774.8530273438  3673.1765136719  4210.5146484375   \n",
      "7       7.432046  ...   5925.576171875  3722.5520019531    4260.16796875   \n",
      "8       6.086172  ...  5807.9541015625  3696.9079589844     4235.8046875   \n",
      "9       3.047954  ...  5832.6762695313  3687.2253417969  4234.5209960938   \n",
      "10      2.857337  ...  5850.0205078125  3717.1865234375    4245.22265625   \n",
      "\n",
      "     orb25yr24ha_am    orb2yr06ha_am    orb2yr12ha_am    orb2yr24ha_am  \\\n",
      "0    4837.552734375  1941.1710205078  2295.5263671875  2701.7236328125   \n",
      "1   4830.3735351563  1946.7711181641  2298.4819335938  2720.5661621094   \n",
      "2              4720  1915.7956542969  2276.3547363281  2681.3117675781   \n",
      "3    4785.931640625  1934.9697265625  2294.3256835938           2698.5   \n",
      "4   4748.5805664063  1929.4731445313             2288  2689.1506347656   \n",
      "5      4845.6484375  1946.3513183594  2299.2702636719  2714.9819335938   \n",
      "6   4712.5737304688  1905.7794189453  2266.3969726563  2677.8234863281   \n",
      "7   4798.8159179688  1934.6479492188   2290.583984375  2693.5759277344   \n",
      "8   4735.2182617188  1923.9770507813  2284.1838378906  2685.7241210938   \n",
      "9   4755.6479492188  1925.8732910156  2288.6760253906  2698.6196289063   \n",
      "10   4763.404296875  1927.6787109375  2284.4714355469  2698.9067382813   \n",
      "\n",
      "     orb50yr06ha_am   orb50yr12ha_am   orb50yr24ha_am  \n",
      "0   4294.0131835938    4858.10546875  5409.4208984375  \n",
      "1   4305.8676757813  4852.9760742188   5389.494140625  \n",
      "2   4211.6987304688  4780.1826171875  5249.5268554688  \n",
      "3   4247.9467773438  4821.7954101563  5336.2119140625  \n",
      "4   4242.3657226563  4806.9248046875   5287.892578125  \n",
      "5   4307.4506835938  4862.6938476563  5414.1079101563  \n",
      "6   4202.6469726563   4769.529296875  5241.0146484375  \n",
      "7     4261.83984375  4829.9838867188    5357.83203125  \n",
      "8   4226.1264648438  4794.8276367188   5269.310546875  \n",
      "9   4211.2255859375  4790.4931640625  5292.1127929688  \n",
      "10  4253.1708984375    4808.77734375   5305.087890625  \n",
      "\n",
      "[11 rows x 60 columns]\n",
      "0.09 minutes to process.\n"
     ]
    }
   ],
   "source": [
    "st = time()\n",
    "outputs = {'subwatershed': subwatershed_list,\n",
    "          'area': area_list,\n",
    "          'perimeter': perimeter_list,\n",
    "          'circulatory_ratio': circulatory_ratio_list,\n",
    "          'relief': relief_list,\n",
    "          'avg_slope': avg_slope_list,\n",
    "           'watershed_length': watershed_length_list,\n",
    "           'elongation_ratio': elongation_ratio_list,\n",
    "           'drainage_density': drainage_density_list,\n",
    "           'shape_factor': shape_factor_list,\n",
    "           'relief_ratio': relief_ratio_list,\n",
    "           'ruggedness': ruggedness_list,\n",
    "           'aae_area': aae_list,\n",
    "           'buildings_aae_count': buildings_aae_list,\n",
    "           'x_area': x_list,\n",
    "           'buildings_x_count': buildings_x_list,\n",
    "           'water_bodies_area': water_bodies_list,\n",
    "           'dams_count': dams_list,\n",
    "           'bridges_count': bridges_list,\n",
    "           'streets_km': streets_list,\n",
    "           'railroads_km': railroads_list,\n",
    "           'population': population_list,\n",
    "           'population_density': population_density_list,\n",
    "           'avg_median_income': avg_median_income_list,\n",
    "           'housing_density': housing_density_list,\n",
    "           'population_change': population_change_list,\n",
    "           'dependent_population_pct': dependent_population_list,\n",
    "           'dist_to_stream_avg (m)': dist_to_stream_avg_list,\n",
    "           'dist_to_stream_stdev (m)': dist_to_stream_stdev_list,\n",
    "           'lu_21_area' : lu_21_list,\n",
    "           'lu_22_area' : lu_22_list,\n",
    "           'lu_23_area' : lu_23_list,\n",
    "           'lu_24_area': lu_24_list,\n",
    "           'lu_41_area': lu_41_list,\n",
    "           'lu_82_area': lu_82_list,\n",
    "           'avg_impervious_percent': impervious_percent_list,\n",
    "           'orb100yr06h': orb100yr06h_list,\n",
    "           'orb100yr12h': orb100yr12h_list,\n",
    "           'orb100yr24h': orb100yr24h_list,\n",
    "           'orb25yr06h': orb25yr06h_list,\n",
    "           'orb25yr12h': orb25yr12h_list,\n",
    "           'orb25yr24h':orb25yr24h_list,\n",
    "           'orb2yr06h': orb2yr06h_list,\n",
    "           'orb2yr12h': orb2yr12h_list,\n",
    "           'orb2yr24h': orb2yr24h_list,\n",
    "           'orb50yr06h': orb50yr06h_list,\n",
    "           'orb50yr12h': orb50yr12h_list,\n",
    "           'orb50yr24h':orb50yr24h_list,\n",
    "           'orb100yr06ha_am': orb100yr06ha_am_list,\n",
    "           'orb100yr12ha_am': orb100yr12ha_am_list,\n",
    "           'orb100yr24ha_am': orb100yr24ha_am_list,\n",
    "           'orb25yr06ha_am': orb25yr06ha_am_list,\n",
    "           'orb25yr12ha_am': orb25yr12ha_am_list,\n",
    "           'orb25yr24ha_am': orb25yr24ha_am_list,\n",
    "           'orb2yr06ha_am': orb2yr06ha_am_list,\n",
    "           'orb2yr12ha_am': orb2yr12ha_am_list,\n",
    "           'orb2yr24ha_am': orb2yr24ha_am_list,\n",
    "           'orb50yr06ha_am': orb50yr06ha_am_list,\n",
    "           'orb50yr12ha_am': orb50yr12ha_am_list,\n",
    "           'orb50yr24ha_am': orb50yr24ha_am_list\n",
    "          }\n",
    "\n",
    "# \n",
    "# \n",
    "# \n",
    "#  \n",
    "#         \n",
    "# \n",
    "            \n",
    "outputs_df = pd.DataFrame(outputs, columns = ['subwatershed',\n",
    "                                             'area',\n",
    "                                             'perimeter',\n",
    "                                             'circulatory_ratio',\n",
    "                                             'relief',\n",
    "                                             'avg_slope',\n",
    "                                              'watershed_length',\n",
    "                                              'elongation_ratio',\n",
    "                                              'drainage_density',\n",
    "                                              'shape_factor',\n",
    "                                              'relief_ratio',\n",
    "                                              'ruggedness',\n",
    "                                              'aae_area',\n",
    "                                              'buildings_aae_count',\n",
    "                                              'x_area',\n",
    "                                              'buildings_x_count',\n",
    "                                              'water_bodies_area',\n",
    "                                              'dams_count',\n",
    "                                              'bridges_count',\n",
    "                                              'streets_km',\n",
    "                                              'railroads_km',\n",
    "                                              'population',\n",
    "                                              'population_density',\n",
    "                                              'avg_median_income',\n",
    "                                              'housing_density',\n",
    "                                              'population_change',\n",
    "                                              'dependent_population_pct',\n",
    "                                              'dist_to_stream_avg (m)',\n",
    "                                              'dist_to_stream_stdev (m)',\n",
    "                                              'lu_21_area',\n",
    "                                              'lu_22_area',\n",
    "                                              'lu_23_area',\n",
    "                                              'lu_24_area',\n",
    "                                              'lu_41_area',\n",
    "                                              'lu_82_area',\n",
    "                                              'avg_impervious_percent',\n",
    "                                             'orb100yr06h',\n",
    "                                              'orb100yr12h',\n",
    "                                              'orb100yr24h',\n",
    "                                              'orb25yr06h',\n",
    "                                              'orb25yr12h',\n",
    "                                              'orb25yr24h',\n",
    "                                              'orb2yr06h',\n",
    "                                              'orb2yr12h',\n",
    "                                              'orb2yr24h',\n",
    "                                              'orb50yr06h',\n",
    "                                              'orb50yr12h',\n",
    "                                              'orb50yr24h',\n",
    "                                              'orb100yr06ha_am',\n",
    "                                              'orb100yr12ha_am',\n",
    "                                              'orb100yr24ha_am',\n",
    "                                              'orb25yr06ha_am',\n",
    "                                              'orb25yr12ha_am',\n",
    "                                              'orb25yr24ha_am',\n",
    "                                              'orb2yr06ha_am',\n",
    "                                              'orb2yr12ha_am',\n",
    "                                              'orb2yr24ha_am',\n",
    "                                              'orb50yr06ha_am',\n",
    "                                              'orb50yr12ha_am',\n",
    "                                              'orb50yr24ha_am'\n",
    "                                             ])    \n",
    "    \n",
    "\n",
    "#     \n",
    "#  \n",
    "# \n",
    "# \n",
    "# \n",
    "#\n",
    "\n",
    "\n",
    "\n",
    "\n",
    "print(outputs_df)\n",
    "\n",
    "outputs_df.to_excel(r\"P:\\Temp\\McAvoy\\ML_DataCollection\\Marion_County_Data_updated.xlsx\")\n",
    "print(round(((time()-st)/60), 2) , 'minutes to process.')"
   ]
  },
  {
   "cell_type": "code",
   "execution_count": null,
   "metadata": {},
   "outputs": [],
   "source": [
    "\n",
    "    "
   ]
  },
  {
   "cell_type": "code",
   "execution_count": null,
   "metadata": {},
   "outputs": [],
   "source": []
  },
  {
   "cell_type": "code",
   "execution_count": null,
   "metadata": {},
   "outputs": [],
   "source": []
  },
  {
   "cell_type": "code",
   "execution_count": null,
   "metadata": {},
   "outputs": [],
   "source": []
  },
  {
   "cell_type": "code",
   "execution_count": null,
   "metadata": {},
   "outputs": [],
   "source": []
  },
  {
   "cell_type": "code",
   "execution_count": null,
   "metadata": {},
   "outputs": [],
   "source": []
  }
 ],
 "metadata": {
  "kernelspec": {
   "display_name": "Python 3",
   "language": "python",
   "name": "python3"
  },
  "language_info": {
   "codemirror_mode": {
    "name": "ipython",
    "version": 3
   },
   "file_extension": ".py",
   "mimetype": "text/x-python",
   "name": "python",
   "nbconvert_exporter": "python",
   "pygments_lexer": "ipython3",
   "version": "3.6.9"
  }
 },
 "nbformat": 4,
 "nbformat_minor": 2
}
